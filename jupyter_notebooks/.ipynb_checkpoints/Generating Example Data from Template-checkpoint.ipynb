{
 "cells": [
  {
   "cell_type": "code",
   "execution_count": 2,
   "metadata": {
    "collapsed": false
   },
   "outputs": [],
   "source": [
    "import numpy as np\n",
    "import pandas as pd\n",
    "import seaborn as sns\n",
    "import matplotlib.pyplot as plt\n",
    "%matplotlib inline"
   ]
  },
  {
   "cell_type": "code",
   "execution_count": 3,
   "metadata": {
    "collapsed": false
   },
   "outputs": [],
   "source": [
    "n_col = template.shape[1]\n",
    "n_row = 500\n",
    "\n",
    "new_matrix = np.empty([n_row, n_col])"
   ]
  },
  {
   "cell_type": "code",
   "execution_count": 4,
   "metadata": {
    "collapsed": false,
    "scrolled": true
   },
   "outputs": [],
   "source": [
    "new_matrix[:, :] = np.nan\n",
    "sim_data = pd.DataFrame(new_matrix)\n",
    "sim_data.columns = template.columns\n"
   ]
  },
  {
   "cell_type": "code",
   "execution_count": 5,
   "metadata": {
    "collapsed": false
   },
   "outputs": [],
   "source": [
    "import itertools"
   ]
  },
  {
   "cell_type": "code",
   "execution_count": 6,
   "metadata": {
    "collapsed": false
   },
   "outputs": [],
   "source": [
    "for column in sim_data.columns:\n",
    "    if template.loc['question_type', column] in ['binary', 'likert']:\n",
    "        options = template.loc['response_options', column].translate(None, \"[]',\")\n",
    "        options = options.split()\n",
    "        sim_values = np.random.choice(options, n_row)\n",
    "        sim_data.loc[:, column] = sim_values\n",
    "    elif template.loc['question_type', column] == 'multiple_choice':\n",
    "        options = template.loc['response_options', column].translate(None, \"[]',\")\n",
    "        options = options.split()\n",
    "        n = len(options)\n",
    "        for i in range(1, n):\n",
    "            if i == 1:\n",
    "                combinations_list = list(itertools.combinations(options, i))\n",
    "            else:\n",
    "                combinations_list.extend(list(itertools.combinations(options, i)))\n",
    "        sim_values = np.random.choice(combinations_list, n_row)\n",
    "        sim_data.loc[:, column] = sim_values\n",
    "    elif template.loc['question_type', column] == 'quantity':\n",
    "        quantity_mean = 35\n",
    "        quantity_sd = 10\n",
    "        sim_values = np.random.normal(quantity_mean, quantity_sd, n_row)\n",
    "        sim_data.loc[:, column] = sim_values\n",
    "    elif template.loc['question_type', column] == 'open':\n",
    "        sim_data.loc[:, column] = 'there should be text here'"
   ]
  },
  {
   "cell_type": "markdown",
   "metadata": {},
   "source": [
    "# Success!\n"
   ]
  },
  {
   "cell_type": "code",
   "execution_count": null,
   "metadata": {
    "collapsed": true
   },
   "outputs": [],
   "source": [
    "### DCA"
   ]
  },
  {
   "cell_type": "code",
   "execution_count": 29,
   "metadata": {
    "collapsed": false,
    "scrolled": true
   },
   "outputs": [],
   "source": [
    "def update_examples(path):\n",
    "    sim_data = pd.read_csv(path)\n",
    "    sim_data['D1_region'] = 'region_1'\n",
    "    sim_data['D2_zone'] = 'zone_a'\n",
    "    sim_data['D3_woreda'] = np.repeat(['woreda_1', 'woreda_2'], 200)\n",
    "    sim_data['D4_camp_zone'] = np.repeat(['camp_zone_a', 'camp_zone_b'], 200)\n",
    "    sim_data['D5_division'] = np.repeat(['division_1', 'division_2', 'division_3', 'division_4'], 100)\n",
    "    sim_data['D6_respondent_id'] = np.arange(1, 401)\n",
    "    sim_data['D8_age_of_respondent'] = [\"%d years\" %n for n in sim_data['D8_age_of_respondent']]\n",
    "    sim_data['D9_length_of_time_in_camp'] = [\"%months\" %n for n in sim_data['D9_length_of_time_in_camp']]\n",
    "    sim_data['A3_date'] = np.repeat(['13-10-2016', '14-10-2016', '15-10-2016', '16-10-2016'], 100)\n",
    "    start_hours = np.random.choice(np.arange(8, 19), 400)\n",
    "    end_hours = start_hours + 1\n",
    "    minutes = np.random.choice(np.arange(10, 59), 400)\n",
    "    sim_data['A3_date'] = np.repeat(['13-10-2016', '14-10-2016', '15-10-2016', '16-10-2016'], 100)\n",
    "    sim_data['A4_start_time'] = [ str(start_hours[i]) + ':'  + str(minutes[i]) for i in range(400)]\n",
    "    sim_data['A5_end_time'] = [ str(end_hours[i]) + ':'  + str(minutes[i]) for i in range(400)]\n",
    "    sim_data.to_csv(path, index=False)"
   ]
  },
  {
   "cell_type": "code",
   "execution_count": 33,
   "metadata": {
    "collapsed": false
   },
   "outputs": [],
   "source": [
    "update_examples('ethiopia_dca_example_data.csv')\n",
    "update_examples('ethiopia_plan_example_data.csv')\n",
    "update_examples('ethiopia_imc_example_data.csv')\n",
    "update_examples('ethiopia_sc_example_data.csv')"
   ]
  },
  {
   "cell_type": "code",
   "execution_count": 8,
   "metadata": {
    "collapsed": false
   },
   "outputs": [],
   "source": [
    "sim_data['D1_region'] = 'region_1'\n",
    "sim_data['D2_zone'] = 'zone_a'\n",
    "sim_data['D3_woreda'] = np.repeat(['woreda_1', 'woreda_2'], 250)\n",
    "sim_data['D4_camp_zone'] = np.repeat(['camp_zone_a', 'camp_zone_b'], 250)\n",
    "sim_data['D5_division'] = np.repeat(['division_1', 'division_2', 'division_3', 'division_4'], 125)\n",
    "sim_data['D6_respondent_id'] = np.arange(1, 501)\n",
    "sim_data['D8_age_of_respondent'] = np.round(sim_data['D8_age_of_respondent'], 0)\n",
    "sim_data['D9_length_of_time_in_camp'] = [\"%d years\" %n for n in np.round(np.random.normal(5, 2, n_row), 0)]\n",
    "sim_data['A3_date'] = np.repeat(['13-10-2016', '14-10-2016', '15-10-2016', '16-10-2016'], 125)\n",
    "start_hours = np.random.choice(np.arange(8, 19), 500)\n",
    "end_hours = start_hours + 1\n",
    "minutes = np.random.choice(np.arange(10, 59), 500)\n",
    "sim_data['A3_date'] = np.repeat(['13-10-2016', '14-10-2016', '15-10-2016', '16-10-2016'], 125)\n",
    "sim_data['A4_start_time'] = [ str(start_hours[i]) + ':'  + str(minutes[i]) for i in range(500)]\n",
    "sim_data['A5_end_time'] = [ str(end_hours[i]) + ':'  + str(minutes[i]) for i in range(500)]"
   ]
  },
  {
   "cell_type": "code",
   "execution_count": 118,
   "metadata": {
    "collapsed": false
   },
   "outputs": [],
   "source": [
    "sim_data.to_csv('DCA_Ethiopia_Example_Spreadsheet.csv', index=False)"
   ]
  },
  {
   "cell_type": "code",
   "execution_count": 114,
   "metadata": {
    "collapsed": true
   },
   "outputs": [],
   "source": [
    "new_matrix = np.empty([6, n_col])\n",
    "new_matrix[:, :] = np.nan\n",
    "response_sheet = pd.DataFrame(new_matrix)\n",
    "response_sheet.columns = template.columns"
   ]
  },
  {
   "cell_type": "code",
   "execution_count": 115,
   "metadata": {
    "collapsed": true
   },
   "outputs": [],
   "source": [
    "for column in response_sheet.columns:\n",
    "    if template.loc['question_type', column] in ['binary', 'likert']:\n",
    "        options = template.loc['response_options', column].translate(None, \"[]',\")\n",
    "        options = options.split()\n",
    "        row = 0\n",
    "        for option in options:\n",
    "            response_sheet.loc[row, column] = option\n",
    "            row +=1\n",
    "    elif template.loc['question_type', column] == 'multiple_choice':\n",
    "        options = template.loc['response_options', column].translate(None, \"[]',\")\n",
    "        options = options.split()\n",
    "        row = 0\n",
    "        for i in range(1, n):\n",
    "            if i == 1:\n",
    "                combinations_list = list(itertools.combinations(options, i))\n",
    "            else:\n",
    "                combinations_list.extend(list(itertools.combinations(options, i)))\n",
    "        for option in combination_list:\n",
    "            response_sheet.loc[row, column] = option\n",
    "            row +=1\n",
    "    elif template.loc['question_type', column] == 'quantity':\n",
    "        response_sheet.loc[0, column] = 'number'\n",
    "    elif template.loc['question_type', column] == 'date':\n",
    "        response_sheet.loc[0, column] = 'date, format: day-month-year'\n",
    "    elif template.loc['question_type', column] == 'time':\n",
    "        response_sheet.loc[0, column] = 'time, format: hour:minutes'\n",
    "    else:\n",
    "        response_sheet.loc[0, column] = 'text'"
   ]
  },
  {
   "cell_type": "code",
   "execution_count": 116,
   "metadata": {
    "collapsed": false
   },
   "outputs": [
    {
     "data": {
      "text/html": [
       "<div>\n",
       "<table border=\"1\" class=\"dataframe\">\n",
       "  <thead>\n",
       "    <tr style=\"text-align: right;\">\n",
       "      <th></th>\n",
       "      <th>D1_region</th>\n",
       "      <th>D2_zone</th>\n",
       "      <th>D3_woreda</th>\n",
       "      <th>D4_camp_zone</th>\n",
       "      <th>D5_division</th>\n",
       "      <th>D6_respondent_id</th>\n",
       "      <th>D7_sex_of_respondent</th>\n",
       "      <th>D8_age_of_respondent</th>\n",
       "      <th>D9_length_of_time_in_camp</th>\n",
       "      <th>A1_enumerator_name</th>\n",
       "      <th>...</th>\n",
       "      <th>Q1_does_the_food_voucher_help_meet_your_most_important_needs</th>\n",
       "      <th>Q2_what_are_your_most_important_needs</th>\n",
       "      <th>Q3_do_you_recieve_a_top_up_at_the_right_time</th>\n",
       "      <th>Q4_are_you_able_to_give_nutritious_food_to_your_family</th>\n",
       "      <th>Q5_why_not</th>\n",
       "      <th>Q6_do_you_feel_you_have_a_say_in_the_way_the_food_voucher_support_is_provided</th>\n",
       "      <th>Q7_do_you_have_all_the_information_you_need_about_the_food_voucher_support</th>\n",
       "      <th>Q8_do_you_know_where_and_how_to_make_suggestions_or_complaints_about_the_food_voucher_support_provided_to_you</th>\n",
       "      <th>Q9_if_you_make_a_complaint_about_the_food_voucher_support_do_you_think_you_will_get_a_response</th>\n",
       "      <th>Q10_do_danchurchaid_staff_treat_you_with_respect?</th>\n",
       "    </tr>\n",
       "  </thead>\n",
       "  <tbody>\n",
       "    <tr>\n",
       "      <th>0</th>\n",
       "      <td>text</td>\n",
       "      <td>text</td>\n",
       "      <td>text</td>\n",
       "      <td>text</td>\n",
       "      <td>text</td>\n",
       "      <td>text</td>\n",
       "      <td>1_female</td>\n",
       "      <td>number</td>\n",
       "      <td>number</td>\n",
       "      <td>text</td>\n",
       "      <td>...</td>\n",
       "      <td>1_not_at_all</td>\n",
       "      <td>text</td>\n",
       "      <td>1_yes</td>\n",
       "      <td>1_not_at_all</td>\n",
       "      <td>text</td>\n",
       "      <td>1_not_at_all</td>\n",
       "      <td>1_not_at_all</td>\n",
       "      <td>1_yes</td>\n",
       "      <td>1_not_at_all</td>\n",
       "      <td>1_not_at_all</td>\n",
       "    </tr>\n",
       "    <tr>\n",
       "      <th>1</th>\n",
       "      <td>NaN</td>\n",
       "      <td>NaN</td>\n",
       "      <td>NaN</td>\n",
       "      <td>NaN</td>\n",
       "      <td>NaN</td>\n",
       "      <td>NaN</td>\n",
       "      <td>2_male</td>\n",
       "      <td>NaN</td>\n",
       "      <td>NaN</td>\n",
       "      <td>NaN</td>\n",
       "      <td>...</td>\n",
       "      <td>2_slightly</td>\n",
       "      <td>NaN</td>\n",
       "      <td>2_no</td>\n",
       "      <td>2_slightly</td>\n",
       "      <td>NaN</td>\n",
       "      <td>2_slightly</td>\n",
       "      <td>2_slightly</td>\n",
       "      <td>2_no</td>\n",
       "      <td>2_slightly</td>\n",
       "      <td>2_slightly</td>\n",
       "    </tr>\n",
       "    <tr>\n",
       "      <th>2</th>\n",
       "      <td>NaN</td>\n",
       "      <td>NaN</td>\n",
       "      <td>NaN</td>\n",
       "      <td>NaN</td>\n",
       "      <td>NaN</td>\n",
       "      <td>NaN</td>\n",
       "      <td>NaN</td>\n",
       "      <td>NaN</td>\n",
       "      <td>NaN</td>\n",
       "      <td>NaN</td>\n",
       "      <td>...</td>\n",
       "      <td>3_moderately</td>\n",
       "      <td>NaN</td>\n",
       "      <td>NaN</td>\n",
       "      <td>3_moderately</td>\n",
       "      <td>NaN</td>\n",
       "      <td>3_moderately</td>\n",
       "      <td>3_moderately</td>\n",
       "      <td>NaN</td>\n",
       "      <td>3_moderately</td>\n",
       "      <td>3_moderately</td>\n",
       "    </tr>\n",
       "    <tr>\n",
       "      <th>3</th>\n",
       "      <td>NaN</td>\n",
       "      <td>NaN</td>\n",
       "      <td>NaN</td>\n",
       "      <td>NaN</td>\n",
       "      <td>NaN</td>\n",
       "      <td>NaN</td>\n",
       "      <td>NaN</td>\n",
       "      <td>NaN</td>\n",
       "      <td>NaN</td>\n",
       "      <td>NaN</td>\n",
       "      <td>...</td>\n",
       "      <td>4_nearly</td>\n",
       "      <td>NaN</td>\n",
       "      <td>NaN</td>\n",
       "      <td>4_nearly</td>\n",
       "      <td>NaN</td>\n",
       "      <td>4_nearly</td>\n",
       "      <td>4_nearly</td>\n",
       "      <td>NaN</td>\n",
       "      <td>4_nearly</td>\n",
       "      <td>4_nearly</td>\n",
       "    </tr>\n",
       "    <tr>\n",
       "      <th>4</th>\n",
       "      <td>NaN</td>\n",
       "      <td>NaN</td>\n",
       "      <td>NaN</td>\n",
       "      <td>NaN</td>\n",
       "      <td>NaN</td>\n",
       "      <td>NaN</td>\n",
       "      <td>NaN</td>\n",
       "      <td>NaN</td>\n",
       "      <td>NaN</td>\n",
       "      <td>NaN</td>\n",
       "      <td>...</td>\n",
       "      <td>5_completely</td>\n",
       "      <td>NaN</td>\n",
       "      <td>NaN</td>\n",
       "      <td>5_completely</td>\n",
       "      <td>NaN</td>\n",
       "      <td>5_completely</td>\n",
       "      <td>5_completely</td>\n",
       "      <td>NaN</td>\n",
       "      <td>5_completely</td>\n",
       "      <td>5_completely</td>\n",
       "    </tr>\n",
       "    <tr>\n",
       "      <th>5</th>\n",
       "      <td>NaN</td>\n",
       "      <td>NaN</td>\n",
       "      <td>NaN</td>\n",
       "      <td>NaN</td>\n",
       "      <td>NaN</td>\n",
       "      <td>NaN</td>\n",
       "      <td>NaN</td>\n",
       "      <td>NaN</td>\n",
       "      <td>NaN</td>\n",
       "      <td>NaN</td>\n",
       "      <td>...</td>\n",
       "      <td>6_dont_know</td>\n",
       "      <td>NaN</td>\n",
       "      <td>NaN</td>\n",
       "      <td>6_dont_know</td>\n",
       "      <td>NaN</td>\n",
       "      <td>6_dont_know</td>\n",
       "      <td>6_dont_know</td>\n",
       "      <td>NaN</td>\n",
       "      <td>6_dont_know</td>\n",
       "      <td>6_dont_know</td>\n",
       "    </tr>\n",
       "  </tbody>\n",
       "</table>\n",
       "<p>6 rows × 24 columns</p>\n",
       "</div>"
      ],
      "text/plain": [
       "  D1_region D2_zone D3_woreda D4_camp_zone D5_division D6_respondent_id  \\\n",
       "0      text    text      text         text        text             text   \n",
       "1       NaN     NaN       NaN          NaN         NaN              NaN   \n",
       "2       NaN     NaN       NaN          NaN         NaN              NaN   \n",
       "3       NaN     NaN       NaN          NaN         NaN              NaN   \n",
       "4       NaN     NaN       NaN          NaN         NaN              NaN   \n",
       "5       NaN     NaN       NaN          NaN         NaN              NaN   \n",
       "\n",
       "  D7_sex_of_respondent D8_age_of_respondent D9_length_of_time_in_camp  \\\n",
       "0             1_female               number                    number   \n",
       "1               2_male                  NaN                       NaN   \n",
       "2                  NaN                  NaN                       NaN   \n",
       "3                  NaN                  NaN                       NaN   \n",
       "4                  NaN                  NaN                       NaN   \n",
       "5                  NaN                  NaN                       NaN   \n",
       "\n",
       "  A1_enumerator_name                        ...                         \\\n",
       "0               text                        ...                          \n",
       "1                NaN                        ...                          \n",
       "2                NaN                        ...                          \n",
       "3                NaN                        ...                          \n",
       "4                NaN                        ...                          \n",
       "5                NaN                        ...                          \n",
       "\n",
       "  Q1_does_the_food_voucher_help_meet_your_most_important_needs  \\\n",
       "0                                       1_not_at_all             \n",
       "1                                         2_slightly             \n",
       "2                                       3_moderately             \n",
       "3                                           4_nearly             \n",
       "4                                       5_completely             \n",
       "5                                        6_dont_know             \n",
       "\n",
       "  Q2_what_are_your_most_important_needs  \\\n",
       "0                                  text   \n",
       "1                                   NaN   \n",
       "2                                   NaN   \n",
       "3                                   NaN   \n",
       "4                                   NaN   \n",
       "5                                   NaN   \n",
       "\n",
       "  Q3_do_you_recieve_a_top_up_at_the_right_time  \\\n",
       "0                                        1_yes   \n",
       "1                                         2_no   \n",
       "2                                          NaN   \n",
       "3                                          NaN   \n",
       "4                                          NaN   \n",
       "5                                          NaN   \n",
       "\n",
       "  Q4_are_you_able_to_give_nutritious_food_to_your_family Q5_why_not  \\\n",
       "0                                       1_not_at_all           text   \n",
       "1                                         2_slightly            NaN   \n",
       "2                                       3_moderately            NaN   \n",
       "3                                           4_nearly            NaN   \n",
       "4                                       5_completely            NaN   \n",
       "5                                        6_dont_know            NaN   \n",
       "\n",
       "  Q6_do_you_feel_you_have_a_say_in_the_way_the_food_voucher_support_is_provided  \\\n",
       "0                                       1_not_at_all                              \n",
       "1                                         2_slightly                              \n",
       "2                                       3_moderately                              \n",
       "3                                           4_nearly                              \n",
       "4                                       5_completely                              \n",
       "5                                        6_dont_know                              \n",
       "\n",
       "  Q7_do_you_have_all_the_information_you_need_about_the_food_voucher_support  \\\n",
       "0                                       1_not_at_all                           \n",
       "1                                         2_slightly                           \n",
       "2                                       3_moderately                           \n",
       "3                                           4_nearly                           \n",
       "4                                       5_completely                           \n",
       "5                                        6_dont_know                           \n",
       "\n",
       "  Q8_do_you_know_where_and_how_to_make_suggestions_or_complaints_about_the_food_voucher_support_provided_to_you  \\\n",
       "0                                              1_yes                                                              \n",
       "1                                               2_no                                                              \n",
       "2                                                NaN                                                              \n",
       "3                                                NaN                                                              \n",
       "4                                                NaN                                                              \n",
       "5                                                NaN                                                              \n",
       "\n",
       "  Q9_if_you_make_a_complaint_about_the_food_voucher_support_do_you_think_you_will_get_a_response  \\\n",
       "0                                       1_not_at_all                                               \n",
       "1                                         2_slightly                                               \n",
       "2                                       3_moderately                                               \n",
       "3                                           4_nearly                                               \n",
       "4                                       5_completely                                               \n",
       "5                                        6_dont_know                                               \n",
       "\n",
       "  Q10_do_danchurchaid_staff_treat_you_with_respect?  \n",
       "0                                      1_not_at_all  \n",
       "1                                        2_slightly  \n",
       "2                                      3_moderately  \n",
       "3                                          4_nearly  \n",
       "4                                      5_completely  \n",
       "5                                       6_dont_know  \n",
       "\n",
       "[6 rows x 24 columns]"
      ]
     },
     "execution_count": 116,
     "metadata": {},
     "output_type": "execute_result"
    }
   ],
   "source": [
    "response_sheet.head(6)"
   ]
  },
  {
   "cell_type": "code",
   "execution_count": 117,
   "metadata": {
    "collapsed": true
   },
   "outputs": [],
   "source": [
    "response_sheet.to_csv('DCA_Ethiopia_Question_Names_&_Response_Alternatives.csv')"
   ]
  },
  {
   "cell_type": "code",
   "execution_count": 4,
   "metadata": {
    "collapsed": false
   },
   "outputs": [
    {
     "data": {
      "text/html": [
       "<div>\n",
       "<table border=\"1\" class=\"dataframe\">\n",
       "  <thead>\n",
       "    <tr style=\"text-align: right;\">\n",
       "      <th></th>\n",
       "      <th>A1_name_of_enumerator</th>\n",
       "      <th>A2_kakuma</th>\n",
       "      <th>A3_zone</th>\n",
       "      <th>A4_block</th>\n",
       "      <th>D1_gender</th>\n",
       "      <th>D2_age</th>\n",
       "      <th>D3_have_you_been_visited_by_a_chp_in_the_last_4_months</th>\n",
       "      <th>D4_have_you_been_visited_by_a_chp_in_the_last_12_months</th>\n",
       "      <th>D5_what_is_your_nationality</th>\n",
       "      <th>Q1_to_what_extent_do_you_feel_safe_when_the_chp_visits_your_home</th>\n",
       "      <th>...</th>\n",
       "      <th>Q3_to_what_extent_are_the_chp_sensitive_of_your_culture_and_tradition</th>\n",
       "      <th>Q4_to_what_extent_do_you_trust_the_chp_with_your_confidential_information</th>\n",
       "      <th>Q5_to_what_extent_do_you_trust_the_health_messages_the_chp_shares_with_you</th>\n",
       "      <th>Q6_to_what_extent_do_you_have_the_information_you_need_to_make_health_choices_for_yourself_and_your_family</th>\n",
       "      <th>Q7_to_what_extent_are_the_chp_services_in_this_camp_offered_fairly_without_discrimination</th>\n",
       "      <th>Q7a_which_of_the_follow_groups_are_excluded</th>\n",
       "      <th>Q8_to_what_extent_do_you_feel_you_have_a_say_in_how_the_chp_services_in_this_camp_are_offered</th>\n",
       "      <th>Q9_do_you_know_how_to_make_a_complaint_about_the_chp</th>\n",
       "      <th>Q9a_which_mechanisms_do_you_feel_most_comfortable_using</th>\n",
       "      <th>Q10_how_important_is_the_chp_service_in_meeting_your_health_needs</th>\n",
       "    </tr>\n",
       "  </thead>\n",
       "  <tbody>\n",
       "    <tr>\n",
       "      <th>0</th>\n",
       "      <td>there should be text here</td>\n",
       "      <td>kakuma_1</td>\n",
       "      <td>zone_a</td>\n",
       "      <td>block_1</td>\n",
       "      <td>1_female</td>\n",
       "      <td>2_26-49</td>\n",
       "      <td>2_no</td>\n",
       "      <td>2_no</td>\n",
       "      <td>5_burundi</td>\n",
       "      <td>5_completely</td>\n",
       "      <td>...</td>\n",
       "      <td>6_dont_know</td>\n",
       "      <td>5_completely</td>\n",
       "      <td>4_nearly</td>\n",
       "      <td>5_completely</td>\n",
       "      <td>2_slightly</td>\n",
       "      <td>1_elderly, 2_plwds, 3_minority_ethnic_group, 4...</td>\n",
       "      <td>5_completely</td>\n",
       "      <td>1_yes</td>\n",
       "      <td>3_irc_staff</td>\n",
       "      <td>1_not_at_all</td>\n",
       "    </tr>\n",
       "    <tr>\n",
       "      <th>1</th>\n",
       "      <td>there should be text here</td>\n",
       "      <td>kakuma_1</td>\n",
       "      <td>zone_a</td>\n",
       "      <td>block_1</td>\n",
       "      <td>1_female</td>\n",
       "      <td>2_26-49</td>\n",
       "      <td>2_no</td>\n",
       "      <td>1_yes</td>\n",
       "      <td>2_rwanda</td>\n",
       "      <td>1_not_at_all</td>\n",
       "      <td>...</td>\n",
       "      <td>3_moderately</td>\n",
       "      <td>2_slightly</td>\n",
       "      <td>3_moderately</td>\n",
       "      <td>1_not_at_all</td>\n",
       "      <td>1_not_at_all</td>\n",
       "      <td>1_elderly, 4_women</td>\n",
       "      <td>3_moderately</td>\n",
       "      <td>2_no</td>\n",
       "      <td>1_community_leaders, 4_suggestion_boxes, 5_other</td>\n",
       "      <td>3_moderately</td>\n",
       "    </tr>\n",
       "    <tr>\n",
       "      <th>2</th>\n",
       "      <td>there should be text here</td>\n",
       "      <td>kakuma_1</td>\n",
       "      <td>zone_a</td>\n",
       "      <td>block_1</td>\n",
       "      <td>1_female</td>\n",
       "      <td>3_50+</td>\n",
       "      <td>1_yes</td>\n",
       "      <td>1_yes</td>\n",
       "      <td>8_uganda</td>\n",
       "      <td>2_slightly</td>\n",
       "      <td>...</td>\n",
       "      <td>1_not_at_all</td>\n",
       "      <td>3_moderately</td>\n",
       "      <td>6_dont_know</td>\n",
       "      <td>1_not_at_all</td>\n",
       "      <td>5_completely</td>\n",
       "      <td>1_elderly, 4_women</td>\n",
       "      <td>1_not_at_all</td>\n",
       "      <td>2_no</td>\n",
       "      <td>1_community_leaders, 3_irc_staff, 5_other</td>\n",
       "      <td>1_not_at_all</td>\n",
       "    </tr>\n",
       "    <tr>\n",
       "      <th>3</th>\n",
       "      <td>there should be text here</td>\n",
       "      <td>kakuma_1</td>\n",
       "      <td>zone_a</td>\n",
       "      <td>block_1</td>\n",
       "      <td>2_male</td>\n",
       "      <td>3_50+</td>\n",
       "      <td>1_yes</td>\n",
       "      <td>1_yes</td>\n",
       "      <td>9_other</td>\n",
       "      <td>6_dont_know</td>\n",
       "      <td>...</td>\n",
       "      <td>1_not_at_all</td>\n",
       "      <td>2_slightly</td>\n",
       "      <td>1_not_at_all</td>\n",
       "      <td>2_slightly</td>\n",
       "      <td>2_slightly</td>\n",
       "      <td>1_elderly, 3_minority_ethnic_group, 5_children</td>\n",
       "      <td>4_nearly</td>\n",
       "      <td>1_yes</td>\n",
       "      <td>2_help_desk., 3_irc_staff</td>\n",
       "      <td>3_moderately</td>\n",
       "    </tr>\n",
       "    <tr>\n",
       "      <th>4</th>\n",
       "      <td>there should be text here</td>\n",
       "      <td>kakuma_1</td>\n",
       "      <td>zone_a</td>\n",
       "      <td>block_1</td>\n",
       "      <td>2_male</td>\n",
       "      <td>2_26-49</td>\n",
       "      <td>2_no</td>\n",
       "      <td>1_yes</td>\n",
       "      <td>2_rwanda</td>\n",
       "      <td>3_moderately</td>\n",
       "      <td>...</td>\n",
       "      <td>2_slightly</td>\n",
       "      <td>2_slightly</td>\n",
       "      <td>3_moderately</td>\n",
       "      <td>2_slightly</td>\n",
       "      <td>3_moderately</td>\n",
       "      <td>1_elderly, 3_minority_ethnic_group, 4_women, 5...</td>\n",
       "      <td>3_moderately</td>\n",
       "      <td>2_no</td>\n",
       "      <td>1_community_leaders, 3_irc_staff, 4_suggestion...</td>\n",
       "      <td>3_moderately</td>\n",
       "    </tr>\n",
       "  </tbody>\n",
       "</table>\n",
       "<p>5 rows × 21 columns</p>\n",
       "</div>"
      ],
      "text/plain": [
       "       A1_name_of_enumerator A2_kakuma A3_zone A4_block D1_gender   D2_age  \\\n",
       "0  there should be text here  kakuma_1  zone_a  block_1  1_female  2_26-49   \n",
       "1  there should be text here  kakuma_1  zone_a  block_1  1_female  2_26-49   \n",
       "2  there should be text here  kakuma_1  zone_a  block_1  1_female    3_50+   \n",
       "3  there should be text here  kakuma_1  zone_a  block_1    2_male    3_50+   \n",
       "4  there should be text here  kakuma_1  zone_a  block_1    2_male  2_26-49   \n",
       "\n",
       "  D3_have_you_been_visited_by_a_chp_in_the_last_4_months  \\\n",
       "0                                               2_no       \n",
       "1                                               2_no       \n",
       "2                                              1_yes       \n",
       "3                                              1_yes       \n",
       "4                                               2_no       \n",
       "\n",
       "  D4_have_you_been_visited_by_a_chp_in_the_last_12_months  \\\n",
       "0                                               2_no        \n",
       "1                                              1_yes        \n",
       "2                                              1_yes        \n",
       "3                                              1_yes        \n",
       "4                                              1_yes        \n",
       "\n",
       "  D5_what_is_your_nationality  \\\n",
       "0                   5_burundi   \n",
       "1                    2_rwanda   \n",
       "2                    8_uganda   \n",
       "3                     9_other   \n",
       "4                    2_rwanda   \n",
       "\n",
       "  Q1_to_what_extent_do_you_feel_safe_when_the_chp_visits_your_home  \\\n",
       "0                                       5_completely                 \n",
       "1                                       1_not_at_all                 \n",
       "2                                         2_slightly                 \n",
       "3                                        6_dont_know                 \n",
       "4                                       3_moderately                 \n",
       "\n",
       "                                 ...                                 \\\n",
       "0                                ...                                  \n",
       "1                                ...                                  \n",
       "2                                ...                                  \n",
       "3                                ...                                  \n",
       "4                                ...                                  \n",
       "\n",
       "  Q3_to_what_extent_are_the_chp_sensitive_of_your_culture_and_tradition  \\\n",
       "0                                        6_dont_know                      \n",
       "1                                       3_moderately                      \n",
       "2                                       1_not_at_all                      \n",
       "3                                       1_not_at_all                      \n",
       "4                                         2_slightly                      \n",
       "\n",
       "  Q4_to_what_extent_do_you_trust_the_chp_with_your_confidential_information  \\\n",
       "0                                       5_completely                          \n",
       "1                                         2_slightly                          \n",
       "2                                       3_moderately                          \n",
       "3                                         2_slightly                          \n",
       "4                                         2_slightly                          \n",
       "\n",
       "  Q5_to_what_extent_do_you_trust_the_health_messages_the_chp_shares_with_you  \\\n",
       "0                                           4_nearly                           \n",
       "1                                       3_moderately                           \n",
       "2                                        6_dont_know                           \n",
       "3                                       1_not_at_all                           \n",
       "4                                       3_moderately                           \n",
       "\n",
       "  Q6_to_what_extent_do_you_have_the_information_you_need_to_make_health_choices_for_yourself_and_your_family  \\\n",
       "0                                       5_completely                                                           \n",
       "1                                       1_not_at_all                                                           \n",
       "2                                       1_not_at_all                                                           \n",
       "3                                         2_slightly                                                           \n",
       "4                                         2_slightly                                                           \n",
       "\n",
       "  Q7_to_what_extent_are_the_chp_services_in_this_camp_offered_fairly_without_discrimination  \\\n",
       "0                                         2_slightly                                          \n",
       "1                                       1_not_at_all                                          \n",
       "2                                       5_completely                                          \n",
       "3                                         2_slightly                                          \n",
       "4                                       3_moderately                                          \n",
       "\n",
       "         Q7a_which_of_the_follow_groups_are_excluded  \\\n",
       "0  1_elderly, 2_plwds, 3_minority_ethnic_group, 4...   \n",
       "1                                 1_elderly, 4_women   \n",
       "2                                 1_elderly, 4_women   \n",
       "3     1_elderly, 3_minority_ethnic_group, 5_children   \n",
       "4  1_elderly, 3_minority_ethnic_group, 4_women, 5...   \n",
       "\n",
       "  Q8_to_what_extent_do_you_feel_you_have_a_say_in_how_the_chp_services_in_this_camp_are_offered  \\\n",
       "0                                       5_completely                                              \n",
       "1                                       3_moderately                                              \n",
       "2                                       1_not_at_all                                              \n",
       "3                                           4_nearly                                              \n",
       "4                                       3_moderately                                              \n",
       "\n",
       "  Q9_do_you_know_how_to_make_a_complaint_about_the_chp  \\\n",
       "0                                              1_yes     \n",
       "1                                               2_no     \n",
       "2                                               2_no     \n",
       "3                                              1_yes     \n",
       "4                                               2_no     \n",
       "\n",
       "  Q9a_which_mechanisms_do_you_feel_most_comfortable_using  \\\n",
       "0                                        3_irc_staff        \n",
       "1   1_community_leaders, 4_suggestion_boxes, 5_other        \n",
       "2          1_community_leaders, 3_irc_staff, 5_other        \n",
       "3                          2_help_desk., 3_irc_staff        \n",
       "4  1_community_leaders, 3_irc_staff, 4_suggestion...        \n",
       "\n",
       "  Q10_how_important_is_the_chp_service_in_meeting_your_health_needs  \n",
       "0                                       1_not_at_all                 \n",
       "1                                       3_moderately                 \n",
       "2                                       1_not_at_all                 \n",
       "3                                       3_moderately                 \n",
       "4                                       3_moderately                 \n",
       "\n",
       "[5 rows x 21 columns]"
      ]
     },
     "execution_count": 4,
     "metadata": {},
     "output_type": "execute_result"
    }
   ],
   "source": [
    "data = pd.read_csv('kenya_irc_example_data.csv')\n",
    "\n",
    "data['A2_kakuma'] = 'kakuma_1'\n",
    "data['A3_zone'] = np.repeat(['zone_a', 'zone_b'], 100)\n",
    "data['A4_block'] = np.repeat(['block_1', 'block_2', 'block_3', 'block_4'], 50)\n",
    "\n",
    "data.head()"
   ]
  },
  {
   "cell_type": "code",
   "execution_count": 6,
   "metadata": {
    "collapsed": false
   },
   "outputs": [],
   "source": [
    "data.to_csv('kenya_irc_example_data.csv', index=False)"
   ]
  },
  {
   "cell_type": "code",
   "execution_count": 60,
   "metadata": {
    "collapsed": false
   },
   "outputs": [],
   "source": [
    "frequency_columns = template.transpose().loc[(template.transpose()['question_type'] == 'likert') |\n",
    "                         (template.transpose()['question_type'] == 'binary') &\n",
    "                         (template.transpose()['question_section'] == 'main_questions'), :].index\n",
    "main_freq_dict = {}\n",
    "for column in frequency_columns:\n",
    "    table = sim_data.loc[:, column].value_counts()\n",
    "    table = pd.DataFrame(table).reset_index()\n",
    "    table.columns = column, 'frequency'\n",
    "    table = table.sort(columns=column).reset_index(drop=True)\n",
    "    main_freq_dict[column] = table\n"
   ]
  },
  {
   "cell_type": "code",
   "execution_count": 61,
   "metadata": {
    "collapsed": false
   },
   "outputs": [],
   "source": [
    "excel_path = pd.ExcelWriter('DCA_Ethiopia_Frequency_Tables.xlsx')\n",
    "for column in frequency_columns:\n",
    "    main_freq_dict[column].to_excel(excel_path, sheet_name=column.split('_')[0], index=False)"
   ]
  },
  {
   "cell_type": "code",
   "execution_count": 52,
   "metadata": {
    "collapsed": false
   },
   "outputs": [
    {
     "name": "stdout",
     "output_type": "stream",
     "text": [
      "Q1\n",
      "Q3\n",
      "Q4\n",
      "Q6\n",
      "Q7\n",
      "Q8\n",
      "Q9\n",
      "Q10\n"
     ]
    }
   ],
   "source": [
    "for column in frequency_columns:\n",
    "    print column.split('_')[0]"
   ]
  },
  {
   "cell_type": "code",
   "execution_count": 66,
   "metadata": {
    "collapsed": false
   },
   "outputs": [
    {
     "data": {
      "text/plain": [
       "False"
      ]
     },
     "execution_count": 66,
     "metadata": {},
     "output_type": "execute_result"
    }
   ],
   "source": [
    "question = template.columns[10]\n",
    "any([word in set(question.split('_')) for word in ['region', 'zone', 'woreda', 'camp_zone', 'division']])"
   ]
  },
  {
   "cell_type": "code",
   "execution_count": 17,
   "metadata": {
    "collapsed": false
   },
   "outputs": [
    {
     "data": {
      "text/plain": [
       "'Q2-1_to_what_extent_does_the_chp_treat_you_with_respect_and_dignity'"
      ]
     },
     "execution_count": 17,
     "metadata": {},
     "output_type": "execute_result"
    }
   ],
   "source": [
    "question = data.columns[10]\n",
    "words = question.split('_')\n",
    "words[0] = words[0]+'-%d' %1\n",
    "'_'.join(words)"
   ]
  },
  {
   "cell_type": "markdown",
   "metadata": {},
   "source": [
    "## Lebanon"
   ]
  },
  {
   "cell_type": "code",
   "execution_count": 38,
   "metadata": {
    "collapsed": false
   },
   "outputs": [
    {
     "data": {
      "text/html": [
       "<div>\n",
       "<table border=\"1\" class=\"dataframe\">\n",
       "  <thead>\n",
       "    <tr style=\"text-align: right;\">\n",
       "      <th></th>\n",
       "      <th>A1_name_of_interviewer</th>\n",
       "      <th>A2_id_number_of_interviewer</th>\n",
       "      <th>A3_questionnaire_serial_number</th>\n",
       "      <th>A4_mohafaza</th>\n",
       "      <th>A5_district</th>\n",
       "      <th>A6_town</th>\n",
       "      <th>A7_exact_location</th>\n",
       "      <th>A8_date</th>\n",
       "      <th>A9_interviewee</th>\n",
       "      <th>A10_start_time</th>\n",
       "      <th>...</th>\n",
       "      <th>Q4a-3_please_explain_your_answer_list_reasons</th>\n",
       "      <th>Q4a-4_please_explain_your_answer_list_reasons</th>\n",
       "      <th>Q4a-5_please_explain_your_answer_list_reasons</th>\n",
       "      <th>Q5_do_you_feel_you_have_a_say_in_what_activities_are_provided_in_the_centre</th>\n",
       "      <th>Q6_do_you_know_where_and_how_to_make_suggestions_or_complain_about_the_activities_and_the_coaches</th>\n",
       "      <th>Q7_if_you_are_to_make_a_complaint_do_you_think_you_will_get_a_response</th>\n",
       "      <th>Q8_do_the_coaches_treat_you_with_respect_and_dignity</th>\n",
       "      <th>D1_age</th>\n",
       "      <th>D2_location_of_birth</th>\n",
       "      <th>D3_time_spent_in_the_bar_elias_community</th>\n",
       "    </tr>\n",
       "  </thead>\n",
       "  <tbody>\n",
       "    <tr>\n",
       "      <th>0</th>\n",
       "      <td>there should be text here</td>\n",
       "      <td>there should be text here</td>\n",
       "      <td>there should be text here</td>\n",
       "      <td>there should be text here</td>\n",
       "      <td>there should be text here</td>\n",
       "      <td>there should be text here</td>\n",
       "      <td>there should be text here</td>\n",
       "      <td>NaN</td>\n",
       "      <td>there should be text here</td>\n",
       "      <td>NaN</td>\n",
       "      <td>...</td>\n",
       "      <td>there should be text here</td>\n",
       "      <td>there should be text here</td>\n",
       "      <td>there should be text here</td>\n",
       "      <td>5_completely</td>\n",
       "      <td>1_yes</td>\n",
       "      <td>4_nearly</td>\n",
       "      <td>5_completely</td>\n",
       "      <td>16</td>\n",
       "      <td>there should be text here</td>\n",
       "      <td>11</td>\n",
       "    </tr>\n",
       "    <tr>\n",
       "      <th>1</th>\n",
       "      <td>there should be text here</td>\n",
       "      <td>there should be text here</td>\n",
       "      <td>there should be text here</td>\n",
       "      <td>there should be text here</td>\n",
       "      <td>there should be text here</td>\n",
       "      <td>there should be text here</td>\n",
       "      <td>there should be text here</td>\n",
       "      <td>NaN</td>\n",
       "      <td>there should be text here</td>\n",
       "      <td>NaN</td>\n",
       "      <td>...</td>\n",
       "      <td>there should be text here</td>\n",
       "      <td>there should be text here</td>\n",
       "      <td>there should be text here</td>\n",
       "      <td>5_completely</td>\n",
       "      <td>1_yes</td>\n",
       "      <td>1_not_at_all</td>\n",
       "      <td>3_moderately</td>\n",
       "      <td>17</td>\n",
       "      <td>there should be text here</td>\n",
       "      <td>17</td>\n",
       "    </tr>\n",
       "    <tr>\n",
       "      <th>2</th>\n",
       "      <td>there should be text here</td>\n",
       "      <td>there should be text here</td>\n",
       "      <td>there should be text here</td>\n",
       "      <td>there should be text here</td>\n",
       "      <td>there should be text here</td>\n",
       "      <td>there should be text here</td>\n",
       "      <td>there should be text here</td>\n",
       "      <td>NaN</td>\n",
       "      <td>there should be text here</td>\n",
       "      <td>NaN</td>\n",
       "      <td>...</td>\n",
       "      <td>there should be text here</td>\n",
       "      <td>there should be text here</td>\n",
       "      <td>there should be text here</td>\n",
       "      <td>3_moderately</td>\n",
       "      <td>2_no</td>\n",
       "      <td>1_not_at_all</td>\n",
       "      <td>4_nearly</td>\n",
       "      <td>17</td>\n",
       "      <td>there should be text here</td>\n",
       "      <td>14</td>\n",
       "    </tr>\n",
       "    <tr>\n",
       "      <th>3</th>\n",
       "      <td>there should be text here</td>\n",
       "      <td>there should be text here</td>\n",
       "      <td>there should be text here</td>\n",
       "      <td>there should be text here</td>\n",
       "      <td>there should be text here</td>\n",
       "      <td>there should be text here</td>\n",
       "      <td>there should be text here</td>\n",
       "      <td>NaN</td>\n",
       "      <td>there should be text here</td>\n",
       "      <td>NaN</td>\n",
       "      <td>...</td>\n",
       "      <td>there should be text here</td>\n",
       "      <td>there should be text here</td>\n",
       "      <td>there should be text here</td>\n",
       "      <td>7_dont_want_to_answer</td>\n",
       "      <td>2_no</td>\n",
       "      <td>7_dont_want_to_answer</td>\n",
       "      <td>5_completely</td>\n",
       "      <td>17</td>\n",
       "      <td>there should be text here</td>\n",
       "      <td>18</td>\n",
       "    </tr>\n",
       "    <tr>\n",
       "      <th>4</th>\n",
       "      <td>there should be text here</td>\n",
       "      <td>there should be text here</td>\n",
       "      <td>there should be text here</td>\n",
       "      <td>there should be text here</td>\n",
       "      <td>there should be text here</td>\n",
       "      <td>there should be text here</td>\n",
       "      <td>there should be text here</td>\n",
       "      <td>NaN</td>\n",
       "      <td>there should be text here</td>\n",
       "      <td>NaN</td>\n",
       "      <td>...</td>\n",
       "      <td>there should be text here</td>\n",
       "      <td>there should be text here</td>\n",
       "      <td>there should be text here</td>\n",
       "      <td>1_not_at_all</td>\n",
       "      <td>2_no</td>\n",
       "      <td>4_nearly</td>\n",
       "      <td>7_dont_want_to_answer</td>\n",
       "      <td>18</td>\n",
       "      <td>there should be text here</td>\n",
       "      <td>11</td>\n",
       "    </tr>\n",
       "  </tbody>\n",
       "</table>\n",
       "<p>5 rows × 40 columns</p>\n",
       "</div>"
      ],
      "text/plain": [
       "      A1_name_of_interviewer A2_id_number_of_interviewer  \\\n",
       "0  there should be text here   there should be text here   \n",
       "1  there should be text here   there should be text here   \n",
       "2  there should be text here   there should be text here   \n",
       "3  there should be text here   there should be text here   \n",
       "4  there should be text here   there should be text here   \n",
       "\n",
       "  A3_questionnaire_serial_number                A4_mohafaza  \\\n",
       "0      there should be text here  there should be text here   \n",
       "1      there should be text here  there should be text here   \n",
       "2      there should be text here  there should be text here   \n",
       "3      there should be text here  there should be text here   \n",
       "4      there should be text here  there should be text here   \n",
       "\n",
       "                 A5_district                    A6_town  \\\n",
       "0  there should be text here  there should be text here   \n",
       "1  there should be text here  there should be text here   \n",
       "2  there should be text here  there should be text here   \n",
       "3  there should be text here  there should be text here   \n",
       "4  there should be text here  there should be text here   \n",
       "\n",
       "           A7_exact_location  A8_date             A9_interviewee  \\\n",
       "0  there should be text here      NaN  there should be text here   \n",
       "1  there should be text here      NaN  there should be text here   \n",
       "2  there should be text here      NaN  there should be text here   \n",
       "3  there should be text here      NaN  there should be text here   \n",
       "4  there should be text here      NaN  there should be text here   \n",
       "\n",
       "   A10_start_time                   ...                     \\\n",
       "0             NaN                   ...                      \n",
       "1             NaN                   ...                      \n",
       "2             NaN                   ...                      \n",
       "3             NaN                   ...                      \n",
       "4             NaN                   ...                      \n",
       "\n",
       "   Q4a-3_please_explain_your_answer_list_reasons  \\\n",
       "0                      there should be text here   \n",
       "1                      there should be text here   \n",
       "2                      there should be text here   \n",
       "3                      there should be text here   \n",
       "4                      there should be text here   \n",
       "\n",
       "  Q4a-4_please_explain_your_answer_list_reasons  \\\n",
       "0                     there should be text here   \n",
       "1                     there should be text here   \n",
       "2                     there should be text here   \n",
       "3                     there should be text here   \n",
       "4                     there should be text here   \n",
       "\n",
       "  Q4a-5_please_explain_your_answer_list_reasons  \\\n",
       "0                     there should be text here   \n",
       "1                     there should be text here   \n",
       "2                     there should be text here   \n",
       "3                     there should be text here   \n",
       "4                     there should be text here   \n",
       "\n",
       "  Q5_do_you_feel_you_have_a_say_in_what_activities_are_provided_in_the_centre  \\\n",
       "0                                       5_completely                            \n",
       "1                                       5_completely                            \n",
       "2                                       3_moderately                            \n",
       "3                              7_dont_want_to_answer                            \n",
       "4                                       1_not_at_all                            \n",
       "\n",
       "  Q6_do_you_know_where_and_how_to_make_suggestions_or_complain_about_the_activities_and_the_coaches  \\\n",
       "0                                              1_yes                                                  \n",
       "1                                              1_yes                                                  \n",
       "2                                               2_no                                                  \n",
       "3                                               2_no                                                  \n",
       "4                                               2_no                                                  \n",
       "\n",
       "  Q7_if_you_are_to_make_a_complaint_do_you_think_you_will_get_a_response  \\\n",
       "0                                           4_nearly                       \n",
       "1                                       1_not_at_all                       \n",
       "2                                       1_not_at_all                       \n",
       "3                              7_dont_want_to_answer                       \n",
       "4                                           4_nearly                       \n",
       "\n",
       "  Q8_do_the_coaches_treat_you_with_respect_and_dignity D1_age  \\\n",
       "0                                       5_completely       16   \n",
       "1                                       3_moderately       17   \n",
       "2                                           4_nearly       17   \n",
       "3                                       5_completely       17   \n",
       "4                              7_dont_want_to_answer       18   \n",
       "\n",
       "        D2_location_of_birth D3_time_spent_in_the_bar_elias_community  \n",
       "0  there should be text here                                       11  \n",
       "1  there should be text here                                       17  \n",
       "2  there should be text here                                       14  \n",
       "3  there should be text here                                       18  \n",
       "4  there should be text here                                       11  \n",
       "\n",
       "[5 rows x 40 columns]"
      ]
     },
     "execution_count": 38,
     "metadata": {},
     "output_type": "execute_result"
    }
   ],
   "source": [
    "data = pd.read_csv('lebanon_kayany_example_data.csv')\n",
    "data.head()"
   ]
  },
  {
   "cell_type": "code",
   "execution_count": 39,
   "metadata": {
    "collapsed": false
   },
   "outputs": [],
   "source": [
    "data['A2_id_number_of_interviewer'] = np.repeat(np.arange(1,5), 10)\n",
    "data['A3_questionnaire_serial_number'] = np.random.random_integers(1000, 9999, 40)\n",
    "data['A4_mohafaza'] = 'Beqaa'\n",
    "data['A5_district'] = 'Zahleh'\n",
    "data['A6_town'] = 'Bar Elias'\n",
    "data['A8_date'] = np.repeat(['20-10-2016', '21-10-2016'], 20)\n",
    "start_hours = np.random.choice(np.arange(8, 19), 40)\n",
    "end_hours = start_hours + 1\n",
    "minutes = np.random.choice(np.arange(10, 59), 40)\n",
    "#data['A10_start_time'] = [ str(start_hours[i]) + ':'  + str(minutes[i]) for i in range(40)]\n",
    "#data['A11_end_time'] = [ str(end_hours[i]) + ':'  + str(minutes[i]) for i in range(40)]\n",
    "data['A_12_interview_status'] = '1_completed'\n",
    "#data['D1_age'] = [\"%d years\" %n for n in data['D1_age']]\n",
    "data['D3_time_spent_in_the_bar_elias_community'] = [\"%d months\" %n for n in np.random.normal(15, 5, 40)]"
   ]
  },
  {
   "cell_type": "code",
   "execution_count": 40,
   "metadata": {
    "collapsed": false
   },
   "outputs": [],
   "source": [
    "data.to_csv('lebanon_kayany_example_data.csv', index=False)"
   ]
  },
  {
   "cell_type": "code",
   "execution_count": 41,
   "metadata": {
    "collapsed": false
   },
   "outputs": [
    {
     "data": {
      "text/html": [
       "<div>\n",
       "<table border=\"1\" class=\"dataframe\">\n",
       "  <thead>\n",
       "    <tr style=\"text-align: right;\">\n",
       "      <th></th>\n",
       "      <th>A1_name_of_interviewer</th>\n",
       "      <th>A2_id_number_of_interviewer</th>\n",
       "      <th>A3_questionnaire_serial_number</th>\n",
       "      <th>A4_mohafaza</th>\n",
       "      <th>A5_district</th>\n",
       "      <th>A6_town</th>\n",
       "      <th>A7_exact_location</th>\n",
       "      <th>A8_date</th>\n",
       "      <th>A9_interviewee</th>\n",
       "      <th>A10_start_time</th>\n",
       "      <th>...</th>\n",
       "      <th>Q3a-4_why_do_you_feel_unsafe_in_this_camp</th>\n",
       "      <th>Q3a-5_why_do_you_feel_unsafe_in_this_camp</th>\n",
       "      <th>Q4_are_you_aware_of_the_different_services_available_to_you_in_this_camp</th>\n",
       "      <th>Q5_did_you_receive_shelter_support_and_camp_improvements_from_save_the_children_when_you_needed_it</th>\n",
       "      <th>Q6_does_the_save_the_children_shelter_program_cause_any_tensions_between_the_camp_and_local_communities</th>\n",
       "      <th>Q6b_please_explain_how/why_it_creates_tensions_in_the_camp</th>\n",
       "      <th>Q7_do_you_feel_you_have_a_say_in_the_way_the_save_the_children_shelter_and_camp_services_are_provided</th>\n",
       "      <th>Q8_do_you_know_how_to_make_suggestions_or_complaints_about_the_quality_of_your_shelter_and_the_rest_of_the_camp_to_save_the_children</th>\n",
       "      <th>Q9_if_you_are_to_make_a_complaint_to_save_the_children_are_you_sure_you_will_get_a_response</th>\n",
       "      <th>Q10_overall_do_the_save_the_children_shelter_staff_treat_you_with_respect_and_dignity</th>\n",
       "    </tr>\n",
       "  </thead>\n",
       "  <tbody>\n",
       "    <tr>\n",
       "      <th>0</th>\n",
       "      <td>there should be text here</td>\n",
       "      <td>there should be text here</td>\n",
       "      <td>there should be text here</td>\n",
       "      <td>there should be text here</td>\n",
       "      <td>there should be text here</td>\n",
       "      <td>there should be text here</td>\n",
       "      <td>there should be text here</td>\n",
       "      <td>NaN</td>\n",
       "      <td>there should be text here</td>\n",
       "      <td>NaN</td>\n",
       "      <td>...</td>\n",
       "      <td>there should be text here</td>\n",
       "      <td>there should be text here</td>\n",
       "      <td>7_dont_want_to_answer</td>\n",
       "      <td>2_no</td>\n",
       "      <td>3_moderately</td>\n",
       "      <td>there should be text here</td>\n",
       "      <td>4_nearly</td>\n",
       "      <td>2_no</td>\n",
       "      <td>7_dont_want_to_answer</td>\n",
       "      <td>2_slightly</td>\n",
       "    </tr>\n",
       "    <tr>\n",
       "      <th>1</th>\n",
       "      <td>there should be text here</td>\n",
       "      <td>there should be text here</td>\n",
       "      <td>there should be text here</td>\n",
       "      <td>there should be text here</td>\n",
       "      <td>there should be text here</td>\n",
       "      <td>there should be text here</td>\n",
       "      <td>there should be text here</td>\n",
       "      <td>NaN</td>\n",
       "      <td>there should be text here</td>\n",
       "      <td>NaN</td>\n",
       "      <td>...</td>\n",
       "      <td>there should be text here</td>\n",
       "      <td>there should be text here</td>\n",
       "      <td>6_dont_know</td>\n",
       "      <td>2_no</td>\n",
       "      <td>5_not_at_all</td>\n",
       "      <td>there should be text here</td>\n",
       "      <td>1_not_at_all</td>\n",
       "      <td>2_no</td>\n",
       "      <td>6_dont_know</td>\n",
       "      <td>1_not_at_all</td>\n",
       "    </tr>\n",
       "    <tr>\n",
       "      <th>2</th>\n",
       "      <td>there should be text here</td>\n",
       "      <td>there should be text here</td>\n",
       "      <td>there should be text here</td>\n",
       "      <td>there should be text here</td>\n",
       "      <td>there should be text here</td>\n",
       "      <td>there should be text here</td>\n",
       "      <td>there should be text here</td>\n",
       "      <td>NaN</td>\n",
       "      <td>there should be text here</td>\n",
       "      <td>NaN</td>\n",
       "      <td>...</td>\n",
       "      <td>there should be text here</td>\n",
       "      <td>there should be text here</td>\n",
       "      <td>1_not_at_all</td>\n",
       "      <td>2_no</td>\n",
       "      <td>7_dont_want_to_answer</td>\n",
       "      <td>there should be text here</td>\n",
       "      <td>5_completely</td>\n",
       "      <td>2_no</td>\n",
       "      <td>3_moderately</td>\n",
       "      <td>4_nearly</td>\n",
       "    </tr>\n",
       "    <tr>\n",
       "      <th>3</th>\n",
       "      <td>there should be text here</td>\n",
       "      <td>there should be text here</td>\n",
       "      <td>there should be text here</td>\n",
       "      <td>there should be text here</td>\n",
       "      <td>there should be text here</td>\n",
       "      <td>there should be text here</td>\n",
       "      <td>there should be text here</td>\n",
       "      <td>NaN</td>\n",
       "      <td>there should be text here</td>\n",
       "      <td>NaN</td>\n",
       "      <td>...</td>\n",
       "      <td>there should be text here</td>\n",
       "      <td>there should be text here</td>\n",
       "      <td>6_dont_know</td>\n",
       "      <td>2_no</td>\n",
       "      <td>1_completely</td>\n",
       "      <td>there should be text here</td>\n",
       "      <td>7_dont_want_to_answer</td>\n",
       "      <td>1_yes</td>\n",
       "      <td>2_slightly</td>\n",
       "      <td>2_slightly</td>\n",
       "    </tr>\n",
       "    <tr>\n",
       "      <th>4</th>\n",
       "      <td>there should be text here</td>\n",
       "      <td>there should be text here</td>\n",
       "      <td>there should be text here</td>\n",
       "      <td>there should be text here</td>\n",
       "      <td>there should be text here</td>\n",
       "      <td>there should be text here</td>\n",
       "      <td>there should be text here</td>\n",
       "      <td>NaN</td>\n",
       "      <td>there should be text here</td>\n",
       "      <td>NaN</td>\n",
       "      <td>...</td>\n",
       "      <td>there should be text here</td>\n",
       "      <td>there should be text here</td>\n",
       "      <td>7_dont_want_to_answer</td>\n",
       "      <td>1_yes</td>\n",
       "      <td>5_not_at_all</td>\n",
       "      <td>there should be text here</td>\n",
       "      <td>5_completely</td>\n",
       "      <td>1_yes</td>\n",
       "      <td>2_slightly</td>\n",
       "      <td>3_moderately</td>\n",
       "    </tr>\n",
       "  </tbody>\n",
       "</table>\n",
       "<p>5 rows × 37 columns</p>\n",
       "</div>"
      ],
      "text/plain": [
       "      A1_name_of_interviewer A2_id_number_of_interviewer  \\\n",
       "0  there should be text here   there should be text here   \n",
       "1  there should be text here   there should be text here   \n",
       "2  there should be text here   there should be text here   \n",
       "3  there should be text here   there should be text here   \n",
       "4  there should be text here   there should be text here   \n",
       "\n",
       "  A3_questionnaire_serial_number                A4_mohafaza  \\\n",
       "0      there should be text here  there should be text here   \n",
       "1      there should be text here  there should be text here   \n",
       "2      there should be text here  there should be text here   \n",
       "3      there should be text here  there should be text here   \n",
       "4      there should be text here  there should be text here   \n",
       "\n",
       "                 A5_district                    A6_town  \\\n",
       "0  there should be text here  there should be text here   \n",
       "1  there should be text here  there should be text here   \n",
       "2  there should be text here  there should be text here   \n",
       "3  there should be text here  there should be text here   \n",
       "4  there should be text here  there should be text here   \n",
       "\n",
       "           A7_exact_location  A8_date             A9_interviewee  \\\n",
       "0  there should be text here      NaN  there should be text here   \n",
       "1  there should be text here      NaN  there should be text here   \n",
       "2  there should be text here      NaN  there should be text here   \n",
       "3  there should be text here      NaN  there should be text here   \n",
       "4  there should be text here      NaN  there should be text here   \n",
       "\n",
       "   A10_start_time  \\\n",
       "0             NaN   \n",
       "1             NaN   \n",
       "2             NaN   \n",
       "3             NaN   \n",
       "4             NaN   \n",
       "\n",
       "                                           ...                                           \\\n",
       "0                                          ...                                            \n",
       "1                                          ...                                            \n",
       "2                                          ...                                            \n",
       "3                                          ...                                            \n",
       "4                                          ...                                            \n",
       "\n",
       "   Q3a-4_why_do_you_feel_unsafe_in_this_camp  \\\n",
       "0                  there should be text here   \n",
       "1                  there should be text here   \n",
       "2                  there should be text here   \n",
       "3                  there should be text here   \n",
       "4                  there should be text here   \n",
       "\n",
       "  Q3a-5_why_do_you_feel_unsafe_in_this_camp  \\\n",
       "0                 there should be text here   \n",
       "1                 there should be text here   \n",
       "2                 there should be text here   \n",
       "3                 there should be text here   \n",
       "4                 there should be text here   \n",
       "\n",
       "  Q4_are_you_aware_of_the_different_services_available_to_you_in_this_camp  \\\n",
       "0                              7_dont_want_to_answer                         \n",
       "1                                        6_dont_know                         \n",
       "2                                       1_not_at_all                         \n",
       "3                                        6_dont_know                         \n",
       "4                              7_dont_want_to_answer                         \n",
       "\n",
       "   Q5_did_you_receive_shelter_support_and_camp_improvements_from_save_the_children_when_you_needed_it  \\\n",
       "0                                               2_no                                                    \n",
       "1                                               2_no                                                    \n",
       "2                                               2_no                                                    \n",
       "3                                               2_no                                                    \n",
       "4                                              1_yes                                                    \n",
       "\n",
       "  Q6_does_the_save_the_children_shelter_program_cause_any_tensions_between_the_camp_and_local_communities  \\\n",
       "0                                       3_moderately                                                        \n",
       "1                                       5_not_at_all                                                        \n",
       "2                              7_dont_want_to_answer                                                        \n",
       "3                                       1_completely                                                        \n",
       "4                                       5_not_at_all                                                        \n",
       "\n",
       "  Q6b_please_explain_how/why_it_creates_tensions_in_the_camp  \\\n",
       "0                          there should be text here           \n",
       "1                          there should be text here           \n",
       "2                          there should be text here           \n",
       "3                          there should be text here           \n",
       "4                          there should be text here           \n",
       "\n",
       "  Q7_do_you_feel_you_have_a_say_in_the_way_the_save_the_children_shelter_and_camp_services_are_provided  \\\n",
       "0                                           4_nearly                                                      \n",
       "1                                       1_not_at_all                                                      \n",
       "2                                       5_completely                                                      \n",
       "3                              7_dont_want_to_answer                                                      \n",
       "4                                       5_completely                                                      \n",
       "\n",
       "  Q8_do_you_know_how_to_make_suggestions_or_complaints_about_the_quality_of_your_shelter_and_the_rest_of_the_camp_to_save_the_children  \\\n",
       "0                                               2_no                                                                                     \n",
       "1                                               2_no                                                                                     \n",
       "2                                               2_no                                                                                     \n",
       "3                                              1_yes                                                                                     \n",
       "4                                              1_yes                                                                                     \n",
       "\n",
       "  Q9_if_you_are_to_make_a_complaint_to_save_the_children_are_you_sure_you_will_get_a_response  \\\n",
       "0                              7_dont_want_to_answer                                            \n",
       "1                                        6_dont_know                                            \n",
       "2                                       3_moderately                                            \n",
       "3                                         2_slightly                                            \n",
       "4                                         2_slightly                                            \n",
       "\n",
       "  Q10_overall_do_the_save_the_children_shelter_staff_treat_you_with_respect_and_dignity  \n",
       "0                                         2_slightly                                     \n",
       "1                                       1_not_at_all                                     \n",
       "2                                           4_nearly                                     \n",
       "3                                         2_slightly                                     \n",
       "4                                       3_moderately                                     \n",
       "\n",
       "[5 rows x 37 columns]"
      ]
     },
     "execution_count": 41,
     "metadata": {},
     "output_type": "execute_result"
    }
   ],
   "source": [
    "data = pd.read_csv('lebanon_sc_example_data.csv')\n",
    "data.head()"
   ]
  },
  {
   "cell_type": "code",
   "execution_count": 42,
   "metadata": {
    "collapsed": false
   },
   "outputs": [
    {
     "data": {
      "text/plain": [
       "Index([u'A1_name_of_interviewer', u'A2_id_number_of_interviewer',\n",
       "       u'A3_questionnaire_serial_number', u'A4_mohafaza', u'A5_district',\n",
       "       u'A6_town', u'A7_exact_location', u'A8_date', u'A9_interviewee',\n",
       "       u'A10_start_time', u'A11_end_time', u'A_12_interview_status',\n",
       "       u'D1_gender', u'D2_age', u'D3_location_of_birth',\n",
       "       u'D4_name_of_current_camp_of_residence',\n",
       "       u'D5_length_of_time_at_the_camp',\n",
       "       u'Q1-1_what_are_your_most_important_needs',\n",
       "       u'Q1-2_what_are_your_most_important_needs',\n",
       "       u'Q1-3_what_are_your_most_important_needs',\n",
       "       u'Q1-4_what_are_your_most_important_needs',\n",
       "       u'Q1-5_what_are_your_most_important_needs',\n",
       "       u'Q2_how_important_is_the_save_the_children_shelter_support_in_meeting_your_most_urgent_needs',\n",
       "       u'Q3_do_you_feel_safe_from_harm_in_this_camp',\n",
       "       u'Q3a-1_why_do_you_feel_unsafe_in_this_camp',\n",
       "       u'Q3a-2_why_do_you_feel_unsafe_in_this_camp',\n",
       "       u'Q3a-3_why_do_you_feel_unsafe_in_this_camp',\n",
       "       u'Q3a-4_why_do_you_feel_unsafe_in_this_camp',\n",
       "       u'Q3a-5_why_do_you_feel_unsafe_in_this_camp',\n",
       "       u'Q4_are_you_aware_of_the_different_services_available_to_you_in_this_camp',\n",
       "       u'Q5_did_you_receive_shelter_support_and_camp_improvements_from_save_the_children_when_you_needed_it',\n",
       "       u'Q6_does_the_save_the_children_shelter_program_cause_any_tensions_between_the_camp_and_local_communities',\n",
       "       u'Q6b_please_explain_how/why_it_creates_tensions_in_the_camp',\n",
       "       u'Q7_do_you_feel_you_have_a_say_in_the_way_the_save_the_children_shelter_and_camp_services_are_provided',\n",
       "       u'Q8_do_you_know_how_to_make_suggestions_or_complaints_about_the_quality_of_your_shelter_and_the_rest_of_the_camp_to_save_the_children',\n",
       "       u'Q9_if_you_are_to_make_a_complaint_to_save_the_children_are_you_sure_you_will_get_a_response',\n",
       "       u'Q10_overall_do_the_save_the_children_shelter_staff_treat_you_with_respect_and_dignity'],\n",
       "      dtype='object')"
      ]
     },
     "execution_count": 42,
     "metadata": {},
     "output_type": "execute_result"
    }
   ],
   "source": [
    "data.columns"
   ]
  },
  {
   "cell_type": "code",
   "execution_count": 43,
   "metadata": {
    "collapsed": false
   },
   "outputs": [],
   "source": [
    "data['A2_id_number_of_interviewer'] = np.repeat(np.arange(1,5), 25)\n",
    "data['A3_questionnaire_serial_number'] = np.random.random_integers(1000, 9999, 100)\n",
    "data['A4_mohafaza'] = 'Beqaa'\n",
    "data['A5_district'] = 'Zahle'\n",
    "data['A6_town'] = 'Zahle'\n",
    "data['A8_date'] = np.repeat(['20-10-2016', '21-10-2016'], 50)\n",
    "start_hours = np.random.choice(np.arange(8, 19), 100)\n",
    "end_hours = start_hours + 1\n",
    "minutes = np.random.choice(np.arange(10, 59), 100)\n",
    "data['A10_start_time'] = [ str(start_hours[i]) + ':'  + str(minutes[i]) for i in range(100)]\n",
    "data['A11_end_time'] = [ str(end_hours[i]) + ':'  + str(minutes[i]) for i in range(100)]\n",
    "data['A_12_interview_status'] = '1_completed'\n",
    "data['D2_age'] = [\"%d years\" %n for n in data['D2_age']]\n",
    "data['D5_length_of_time_at_the_camp'] = [\"%d months\" %n for n in np.random.normal(15, 5, 100)]"
   ]
  },
  {
   "cell_type": "code",
   "execution_count": 44,
   "metadata": {
    "collapsed": false
   },
   "outputs": [
    {
     "data": {
      "text/html": [
       "<div>\n",
       "<table border=\"1\" class=\"dataframe\">\n",
       "  <thead>\n",
       "    <tr style=\"text-align: right;\">\n",
       "      <th></th>\n",
       "      <th>A1_name_of_interviewer</th>\n",
       "      <th>A2_id_number_of_interviewer</th>\n",
       "      <th>A3_questionnaire_serial_number</th>\n",
       "      <th>A4_mohafaza</th>\n",
       "      <th>A5_district</th>\n",
       "      <th>A6_town</th>\n",
       "      <th>A7_exact_location</th>\n",
       "      <th>A8_date</th>\n",
       "      <th>A9_interviewee</th>\n",
       "      <th>A10_start_time</th>\n",
       "      <th>...</th>\n",
       "      <th>Q3a-4_why_do_you_feel_unsafe_in_this_camp</th>\n",
       "      <th>Q3a-5_why_do_you_feel_unsafe_in_this_camp</th>\n",
       "      <th>Q4_are_you_aware_of_the_different_services_available_to_you_in_this_camp</th>\n",
       "      <th>Q5_did_you_receive_shelter_support_and_camp_improvements_from_save_the_children_when_you_needed_it</th>\n",
       "      <th>Q6_does_the_save_the_children_shelter_program_cause_any_tensions_between_the_camp_and_local_communities</th>\n",
       "      <th>Q6b_please_explain_how/why_it_creates_tensions_in_the_camp</th>\n",
       "      <th>Q7_do_you_feel_you_have_a_say_in_the_way_the_save_the_children_shelter_and_camp_services_are_provided</th>\n",
       "      <th>Q8_do_you_know_how_to_make_suggestions_or_complaints_about_the_quality_of_your_shelter_and_the_rest_of_the_camp_to_save_the_children</th>\n",
       "      <th>Q9_if_you_are_to_make_a_complaint_to_save_the_children_are_you_sure_you_will_get_a_response</th>\n",
       "      <th>Q10_overall_do_the_save_the_children_shelter_staff_treat_you_with_respect_and_dignity</th>\n",
       "    </tr>\n",
       "  </thead>\n",
       "  <tbody>\n",
       "    <tr>\n",
       "      <th>0</th>\n",
       "      <td>there should be text here</td>\n",
       "      <td>1</td>\n",
       "      <td>6613</td>\n",
       "      <td>Beqaa</td>\n",
       "      <td>Zahle</td>\n",
       "      <td>Zahle</td>\n",
       "      <td>there should be text here</td>\n",
       "      <td>20-10-2016</td>\n",
       "      <td>there should be text here</td>\n",
       "      <td>16:12</td>\n",
       "      <td>...</td>\n",
       "      <td>there should be text here</td>\n",
       "      <td>there should be text here</td>\n",
       "      <td>7_dont_want_to_answer</td>\n",
       "      <td>2_no</td>\n",
       "      <td>3_moderately</td>\n",
       "      <td>there should be text here</td>\n",
       "      <td>4_nearly</td>\n",
       "      <td>2_no</td>\n",
       "      <td>7_dont_want_to_answer</td>\n",
       "      <td>2_slightly</td>\n",
       "    </tr>\n",
       "    <tr>\n",
       "      <th>1</th>\n",
       "      <td>there should be text here</td>\n",
       "      <td>1</td>\n",
       "      <td>9747</td>\n",
       "      <td>Beqaa</td>\n",
       "      <td>Zahle</td>\n",
       "      <td>Zahle</td>\n",
       "      <td>there should be text here</td>\n",
       "      <td>20-10-2016</td>\n",
       "      <td>there should be text here</td>\n",
       "      <td>14:13</td>\n",
       "      <td>...</td>\n",
       "      <td>there should be text here</td>\n",
       "      <td>there should be text here</td>\n",
       "      <td>6_dont_know</td>\n",
       "      <td>2_no</td>\n",
       "      <td>5_not_at_all</td>\n",
       "      <td>there should be text here</td>\n",
       "      <td>1_not_at_all</td>\n",
       "      <td>2_no</td>\n",
       "      <td>6_dont_know</td>\n",
       "      <td>1_not_at_all</td>\n",
       "    </tr>\n",
       "    <tr>\n",
       "      <th>2</th>\n",
       "      <td>there should be text here</td>\n",
       "      <td>1</td>\n",
       "      <td>7359</td>\n",
       "      <td>Beqaa</td>\n",
       "      <td>Zahle</td>\n",
       "      <td>Zahle</td>\n",
       "      <td>there should be text here</td>\n",
       "      <td>20-10-2016</td>\n",
       "      <td>there should be text here</td>\n",
       "      <td>12:24</td>\n",
       "      <td>...</td>\n",
       "      <td>there should be text here</td>\n",
       "      <td>there should be text here</td>\n",
       "      <td>1_not_at_all</td>\n",
       "      <td>2_no</td>\n",
       "      <td>7_dont_want_to_answer</td>\n",
       "      <td>there should be text here</td>\n",
       "      <td>5_completely</td>\n",
       "      <td>2_no</td>\n",
       "      <td>3_moderately</td>\n",
       "      <td>4_nearly</td>\n",
       "    </tr>\n",
       "    <tr>\n",
       "      <th>3</th>\n",
       "      <td>there should be text here</td>\n",
       "      <td>1</td>\n",
       "      <td>5512</td>\n",
       "      <td>Beqaa</td>\n",
       "      <td>Zahle</td>\n",
       "      <td>Zahle</td>\n",
       "      <td>there should be text here</td>\n",
       "      <td>20-10-2016</td>\n",
       "      <td>there should be text here</td>\n",
       "      <td>9:17</td>\n",
       "      <td>...</td>\n",
       "      <td>there should be text here</td>\n",
       "      <td>there should be text here</td>\n",
       "      <td>6_dont_know</td>\n",
       "      <td>2_no</td>\n",
       "      <td>1_completely</td>\n",
       "      <td>there should be text here</td>\n",
       "      <td>7_dont_want_to_answer</td>\n",
       "      <td>1_yes</td>\n",
       "      <td>2_slightly</td>\n",
       "      <td>2_slightly</td>\n",
       "    </tr>\n",
       "    <tr>\n",
       "      <th>4</th>\n",
       "      <td>there should be text here</td>\n",
       "      <td>1</td>\n",
       "      <td>5919</td>\n",
       "      <td>Beqaa</td>\n",
       "      <td>Zahle</td>\n",
       "      <td>Zahle</td>\n",
       "      <td>there should be text here</td>\n",
       "      <td>20-10-2016</td>\n",
       "      <td>there should be text here</td>\n",
       "      <td>13:49</td>\n",
       "      <td>...</td>\n",
       "      <td>there should be text here</td>\n",
       "      <td>there should be text here</td>\n",
       "      <td>7_dont_want_to_answer</td>\n",
       "      <td>1_yes</td>\n",
       "      <td>5_not_at_all</td>\n",
       "      <td>there should be text here</td>\n",
       "      <td>5_completely</td>\n",
       "      <td>1_yes</td>\n",
       "      <td>2_slightly</td>\n",
       "      <td>3_moderately</td>\n",
       "    </tr>\n",
       "  </tbody>\n",
       "</table>\n",
       "<p>5 rows × 37 columns</p>\n",
       "</div>"
      ],
      "text/plain": [
       "      A1_name_of_interviewer  A2_id_number_of_interviewer  \\\n",
       "0  there should be text here                            1   \n",
       "1  there should be text here                            1   \n",
       "2  there should be text here                            1   \n",
       "3  there should be text here                            1   \n",
       "4  there should be text here                            1   \n",
       "\n",
       "   A3_questionnaire_serial_number A4_mohafaza A5_district A6_town  \\\n",
       "0                            6613       Beqaa       Zahle   Zahle   \n",
       "1                            9747       Beqaa       Zahle   Zahle   \n",
       "2                            7359       Beqaa       Zahle   Zahle   \n",
       "3                            5512       Beqaa       Zahle   Zahle   \n",
       "4                            5919       Beqaa       Zahle   Zahle   \n",
       "\n",
       "           A7_exact_location     A8_date             A9_interviewee  \\\n",
       "0  there should be text here  20-10-2016  there should be text here   \n",
       "1  there should be text here  20-10-2016  there should be text here   \n",
       "2  there should be text here  20-10-2016  there should be text here   \n",
       "3  there should be text here  20-10-2016  there should be text here   \n",
       "4  there should be text here  20-10-2016  there should be text here   \n",
       "\n",
       "  A10_start_time  \\\n",
       "0          16:12   \n",
       "1          14:13   \n",
       "2          12:24   \n",
       "3           9:17   \n",
       "4          13:49   \n",
       "\n",
       "                                           ...                                           \\\n",
       "0                                          ...                                            \n",
       "1                                          ...                                            \n",
       "2                                          ...                                            \n",
       "3                                          ...                                            \n",
       "4                                          ...                                            \n",
       "\n",
       "  Q3a-4_why_do_you_feel_unsafe_in_this_camp  \\\n",
       "0                 there should be text here   \n",
       "1                 there should be text here   \n",
       "2                 there should be text here   \n",
       "3                 there should be text here   \n",
       "4                 there should be text here   \n",
       "\n",
       "  Q3a-5_why_do_you_feel_unsafe_in_this_camp  \\\n",
       "0                 there should be text here   \n",
       "1                 there should be text here   \n",
       "2                 there should be text here   \n",
       "3                 there should be text here   \n",
       "4                 there should be text here   \n",
       "\n",
       "  Q4_are_you_aware_of_the_different_services_available_to_you_in_this_camp  \\\n",
       "0                              7_dont_want_to_answer                         \n",
       "1                                        6_dont_know                         \n",
       "2                                       1_not_at_all                         \n",
       "3                                        6_dont_know                         \n",
       "4                              7_dont_want_to_answer                         \n",
       "\n",
       "  Q5_did_you_receive_shelter_support_and_camp_improvements_from_save_the_children_when_you_needed_it  \\\n",
       "0                                               2_no                                                   \n",
       "1                                               2_no                                                   \n",
       "2                                               2_no                                                   \n",
       "3                                               2_no                                                   \n",
       "4                                              1_yes                                                   \n",
       "\n",
       "  Q6_does_the_save_the_children_shelter_program_cause_any_tensions_between_the_camp_and_local_communities  \\\n",
       "0                                       3_moderately                                                        \n",
       "1                                       5_not_at_all                                                        \n",
       "2                              7_dont_want_to_answer                                                        \n",
       "3                                       1_completely                                                        \n",
       "4                                       5_not_at_all                                                        \n",
       "\n",
       "  Q6b_please_explain_how/why_it_creates_tensions_in_the_camp  \\\n",
       "0                          there should be text here           \n",
       "1                          there should be text here           \n",
       "2                          there should be text here           \n",
       "3                          there should be text here           \n",
       "4                          there should be text here           \n",
       "\n",
       "  Q7_do_you_feel_you_have_a_say_in_the_way_the_save_the_children_shelter_and_camp_services_are_provided  \\\n",
       "0                                           4_nearly                                                      \n",
       "1                                       1_not_at_all                                                      \n",
       "2                                       5_completely                                                      \n",
       "3                              7_dont_want_to_answer                                                      \n",
       "4                                       5_completely                                                      \n",
       "\n",
       "  Q8_do_you_know_how_to_make_suggestions_or_complaints_about_the_quality_of_your_shelter_and_the_rest_of_the_camp_to_save_the_children  \\\n",
       "0                                               2_no                                                                                     \n",
       "1                                               2_no                                                                                     \n",
       "2                                               2_no                                                                                     \n",
       "3                                              1_yes                                                                                     \n",
       "4                                              1_yes                                                                                     \n",
       "\n",
       "  Q9_if_you_are_to_make_a_complaint_to_save_the_children_are_you_sure_you_will_get_a_response  \\\n",
       "0                              7_dont_want_to_answer                                            \n",
       "1                                        6_dont_know                                            \n",
       "2                                       3_moderately                                            \n",
       "3                                         2_slightly                                            \n",
       "4                                         2_slightly                                            \n",
       "\n",
       "  Q10_overall_do_the_save_the_children_shelter_staff_treat_you_with_respect_and_dignity  \n",
       "0                                         2_slightly                                     \n",
       "1                                       1_not_at_all                                     \n",
       "2                                           4_nearly                                     \n",
       "3                                         2_slightly                                     \n",
       "4                                       3_moderately                                     \n",
       "\n",
       "[5 rows x 37 columns]"
      ]
     },
     "execution_count": 44,
     "metadata": {},
     "output_type": "execute_result"
    }
   ],
   "source": [
    "data.head()"
   ]
  },
  {
   "cell_type": "code",
   "execution_count": 45,
   "metadata": {
    "collapsed": true
   },
   "outputs": [],
   "source": [
    "data.to_csv('lebanon_sc_example_data.csv', index=False)"
   ]
  },
  {
   "cell_type": "code",
   "execution_count": 58,
   "metadata": {
    "collapsed": false
   },
   "outputs": [
    {
     "data": {
      "text/html": [
       "<div>\n",
       "<table border=\"1\" class=\"dataframe\">\n",
       "  <thead>\n",
       "    <tr style=\"text-align: right;\">\n",
       "      <th></th>\n",
       "      <th>A1_coordonnees_gps</th>\n",
       "      <th>A2_date_de_lenquete</th>\n",
       "      <th>A3_code_de_lenqueteur</th>\n",
       "      <th>A4_code_du_superviseur</th>\n",
       "      <th>D1_code_de_la_region</th>\n",
       "      <th>D2_code_du_cercle</th>\n",
       "      <th>D3_code_de_la_commune</th>\n",
       "      <th>D4_village/quartier/site</th>\n",
       "      <th>D5_sexe_de_linterviewe</th>\n",
       "      <th>D6_age_de_linterviewe</th>\n",
       "      <th>...</th>\n",
       "      <th>Q1a-3_quels_sont_les_besoins_cles_de_votre_enfant</th>\n",
       "      <th>Q1a-4_quels_sont_les_besoins_cles_de_votre_enfant</th>\n",
       "      <th>Q2_ avez-vous_acces_a _lassistance_quand_vous_avez_besoin</th>\n",
       "      <th>Q3_la_formation_que_vous_aviez_recu_de_save_the_children_vous_a-t-il_permit_de_mieux_vous_occuper_de_la_nutrition_de_votre_enfant</th>\n",
       "      <th>Q4_est-ce_que_vou_ pensez_que_vos_opinions_sont_prises_en_compte_dans_les_decisions_concernant_le_projet ?</th>\n",
       "      <th>Q5_savez-vous_o�_et_comment_faire_des_suggestions_ou_des_plaintes_par_rapport_a_lassistance_de_save_the_children</th>\n",
       "      <th>Q5a_si_vous_faites_une_plainte_par_rapport_a_lappui_de_save_the_children_pensez-vous_que_vous_allez_obtenir_une_reponse</th>\n",
       "      <th>Q6_le_personnel_de_save_the_children_vous_traite_il_avec_respect_et_dignite</th>\n",
       "      <th>Q7_vous_sentez_vous_suffisamment_inform�_sur_les_services_offerts_par_save_the_children</th>\n",
       "      <th>observations_generales_de_lenqueteur</th>\n",
       "    </tr>\n",
       "  </thead>\n",
       "  <tbody>\n",
       "    <tr>\n",
       "      <th>0</th>\n",
       "      <td>coordonnees</td>\n",
       "      <td>20-10-2016</td>\n",
       "      <td>il_devrait_y_avoir_du_texte_ici</td>\n",
       "      <td>il_devrait_y_avoir_du_texte_ici</td>\n",
       "      <td>il_devrait_y_avoir_du_texte_ici</td>\n",
       "      <td>il_devrait_y_avoir_du_texte_ici</td>\n",
       "      <td>il_devrait_y_avoir_du_texte_ici</td>\n",
       "      <td>il_devrait_y_avoir_du_texte_ici</td>\n",
       "      <td>1_masculin</td>\n",
       "      <td>23</td>\n",
       "      <td>...</td>\n",
       "      <td>il_devrait_y_avoir_du_texte_ici</td>\n",
       "      <td>il_devrait_y_avoir_du_texte_ici</td>\n",
       "      <td>2_non</td>\n",
       "      <td>5_extremement</td>\n",
       "      <td>3_moyennement</td>\n",
       "      <td>1_oui</td>\n",
       "      <td>5_tout_a_fait</td>\n",
       "      <td>6_je_ne_sais_pas</td>\n",
       "      <td>1_pas_du_tout</td>\n",
       "      <td>il_devrait_y_avoir_du_texte_ici</td>\n",
       "    </tr>\n",
       "    <tr>\n",
       "      <th>1</th>\n",
       "      <td>coordonnees</td>\n",
       "      <td>20-10-2016</td>\n",
       "      <td>il_devrait_y_avoir_du_texte_ici</td>\n",
       "      <td>il_devrait_y_avoir_du_texte_ici</td>\n",
       "      <td>il_devrait_y_avoir_du_texte_ici</td>\n",
       "      <td>il_devrait_y_avoir_du_texte_ici</td>\n",
       "      <td>il_devrait_y_avoir_du_texte_ici</td>\n",
       "      <td>il_devrait_y_avoir_du_texte_ici</td>\n",
       "      <td>2_feminin</td>\n",
       "      <td>30</td>\n",
       "      <td>...</td>\n",
       "      <td>il_devrait_y_avoir_du_texte_ici</td>\n",
       "      <td>il_devrait_y_avoir_du_texte_ici</td>\n",
       "      <td>2_non</td>\n",
       "      <td>6_je_ne_se_pas</td>\n",
       "      <td>4_la_plupart_du_temps_oui</td>\n",
       "      <td>1_oui</td>\n",
       "      <td>5_tout_a_fait</td>\n",
       "      <td>5_tout_a_fait</td>\n",
       "      <td>4_la_plupart_du_temps_oui</td>\n",
       "      <td>il_devrait_y_avoir_du_texte_ici</td>\n",
       "    </tr>\n",
       "    <tr>\n",
       "      <th>2</th>\n",
       "      <td>coordonnees</td>\n",
       "      <td>20-10-2016</td>\n",
       "      <td>il_devrait_y_avoir_du_texte_ici</td>\n",
       "      <td>il_devrait_y_avoir_du_texte_ici</td>\n",
       "      <td>il_devrait_y_avoir_du_texte_ici</td>\n",
       "      <td>il_devrait_y_avoir_du_texte_ici</td>\n",
       "      <td>il_devrait_y_avoir_du_texte_ici</td>\n",
       "      <td>il_devrait_y_avoir_du_texte_ici</td>\n",
       "      <td>2_feminin</td>\n",
       "      <td>21</td>\n",
       "      <td>...</td>\n",
       "      <td>il_devrait_y_avoir_du_texte_ici</td>\n",
       "      <td>il_devrait_y_avoir_du_texte_ici</td>\n",
       "      <td>1_oui</td>\n",
       "      <td>5_extremement</td>\n",
       "      <td>4_la_plupart_du_temps_oui</td>\n",
       "      <td>1_oui</td>\n",
       "      <td>1_pas_du_tout</td>\n",
       "      <td>4_la_plupart_du_temps_oui</td>\n",
       "      <td>2_pas_vraiment</td>\n",
       "      <td>il_devrait_y_avoir_du_texte_ici</td>\n",
       "    </tr>\n",
       "    <tr>\n",
       "      <th>3</th>\n",
       "      <td>coordonnees</td>\n",
       "      <td>20-10-2016</td>\n",
       "      <td>il_devrait_y_avoir_du_texte_ici</td>\n",
       "      <td>il_devrait_y_avoir_du_texte_ici</td>\n",
       "      <td>il_devrait_y_avoir_du_texte_ici</td>\n",
       "      <td>il_devrait_y_avoir_du_texte_ici</td>\n",
       "      <td>il_devrait_y_avoir_du_texte_ici</td>\n",
       "      <td>il_devrait_y_avoir_du_texte_ici</td>\n",
       "      <td>2_feminin</td>\n",
       "      <td>27</td>\n",
       "      <td>...</td>\n",
       "      <td>il_devrait_y_avoir_du_texte_ici</td>\n",
       "      <td>il_devrait_y_avoir_du_texte_ici</td>\n",
       "      <td>1_oui</td>\n",
       "      <td>2_pas_vraiment</td>\n",
       "      <td>6_je_ne_sais_pas</td>\n",
       "      <td>1_oui</td>\n",
       "      <td>3_moyennement</td>\n",
       "      <td>5_tout_a_fait</td>\n",
       "      <td>5_tout_a_fait</td>\n",
       "      <td>il_devrait_y_avoir_du_texte_ici</td>\n",
       "    </tr>\n",
       "    <tr>\n",
       "      <th>4</th>\n",
       "      <td>coordonnees</td>\n",
       "      <td>20-10-2016</td>\n",
       "      <td>il_devrait_y_avoir_du_texte_ici</td>\n",
       "      <td>il_devrait_y_avoir_du_texte_ici</td>\n",
       "      <td>il_devrait_y_avoir_du_texte_ici</td>\n",
       "      <td>il_devrait_y_avoir_du_texte_ici</td>\n",
       "      <td>il_devrait_y_avoir_du_texte_ici</td>\n",
       "      <td>il_devrait_y_avoir_du_texte_ici</td>\n",
       "      <td>1_masculin</td>\n",
       "      <td>28</td>\n",
       "      <td>...</td>\n",
       "      <td>il_devrait_y_avoir_du_texte_ici</td>\n",
       "      <td>il_devrait_y_avoir_du_texte_ici</td>\n",
       "      <td>1_oui</td>\n",
       "      <td>2_pas_vraiment</td>\n",
       "      <td>6_je_ne_sais_pas</td>\n",
       "      <td>2_non</td>\n",
       "      <td>3_moyennement</td>\n",
       "      <td>6_je_ne_sais_pas</td>\n",
       "      <td>3_moyennement</td>\n",
       "      <td>il_devrait_y_avoir_du_texte_ici</td>\n",
       "    </tr>\n",
       "  </tbody>\n",
       "</table>\n",
       "<p>5 rows × 23 columns</p>\n",
       "</div>"
      ],
      "text/plain": [
       "  A1_coordonnees_gps A2_date_de_lenquete            A3_code_de_lenqueteur  \\\n",
       "0        coordonnees          20-10-2016  il_devrait_y_avoir_du_texte_ici   \n",
       "1        coordonnees          20-10-2016  il_devrait_y_avoir_du_texte_ici   \n",
       "2        coordonnees          20-10-2016  il_devrait_y_avoir_du_texte_ici   \n",
       "3        coordonnees          20-10-2016  il_devrait_y_avoir_du_texte_ici   \n",
       "4        coordonnees          20-10-2016  il_devrait_y_avoir_du_texte_ici   \n",
       "\n",
       "            A4_code_du_superviseur             D1_code_de_la_region  \\\n",
       "0  il_devrait_y_avoir_du_texte_ici  il_devrait_y_avoir_du_texte_ici   \n",
       "1  il_devrait_y_avoir_du_texte_ici  il_devrait_y_avoir_du_texte_ici   \n",
       "2  il_devrait_y_avoir_du_texte_ici  il_devrait_y_avoir_du_texte_ici   \n",
       "3  il_devrait_y_avoir_du_texte_ici  il_devrait_y_avoir_du_texte_ici   \n",
       "4  il_devrait_y_avoir_du_texte_ici  il_devrait_y_avoir_du_texte_ici   \n",
       "\n",
       "                 D2_code_du_cercle            D3_code_de_la_commune  \\\n",
       "0  il_devrait_y_avoir_du_texte_ici  il_devrait_y_avoir_du_texte_ici   \n",
       "1  il_devrait_y_avoir_du_texte_ici  il_devrait_y_avoir_du_texte_ici   \n",
       "2  il_devrait_y_avoir_du_texte_ici  il_devrait_y_avoir_du_texte_ici   \n",
       "3  il_devrait_y_avoir_du_texte_ici  il_devrait_y_avoir_du_texte_ici   \n",
       "4  il_devrait_y_avoir_du_texte_ici  il_devrait_y_avoir_du_texte_ici   \n",
       "\n",
       "          D4_village/quartier/site D5_sexe_de_linterviewe  \\\n",
       "0  il_devrait_y_avoir_du_texte_ici             1_masculin   \n",
       "1  il_devrait_y_avoir_du_texte_ici              2_feminin   \n",
       "2  il_devrait_y_avoir_du_texte_ici              2_feminin   \n",
       "3  il_devrait_y_avoir_du_texte_ici              2_feminin   \n",
       "4  il_devrait_y_avoir_du_texte_ici             1_masculin   \n",
       "\n",
       "   D6_age_de_linterviewe                  ...                   \\\n",
       "0                     23                  ...                    \n",
       "1                     30                  ...                    \n",
       "2                     21                  ...                    \n",
       "3                     27                  ...                    \n",
       "4                     28                  ...                    \n",
       "\n",
       "  Q1a-3_quels_sont_les_besoins_cles_de_votre_enfant  \\\n",
       "0                   il_devrait_y_avoir_du_texte_ici   \n",
       "1                   il_devrait_y_avoir_du_texte_ici   \n",
       "2                   il_devrait_y_avoir_du_texte_ici   \n",
       "3                   il_devrait_y_avoir_du_texte_ici   \n",
       "4                   il_devrait_y_avoir_du_texte_ici   \n",
       "\n",
       "  Q1a-4_quels_sont_les_besoins_cles_de_votre_enfant  \\\n",
       "0                   il_devrait_y_avoir_du_texte_ici   \n",
       "1                   il_devrait_y_avoir_du_texte_ici   \n",
       "2                   il_devrait_y_avoir_du_texte_ici   \n",
       "3                   il_devrait_y_avoir_du_texte_ici   \n",
       "4                   il_devrait_y_avoir_du_texte_ici   \n",
       "\n",
       "  Q2_ avez-vous_acces_a _lassistance_quand_vous_avez_besoin  \\\n",
       "0                                              2_non          \n",
       "1                                              2_non          \n",
       "2                                              1_oui          \n",
       "3                                              1_oui          \n",
       "4                                              1_oui          \n",
       "\n",
       "  Q3_la_formation_que_vous_aviez_recu_de_save_the_children_vous_a-t-il_permit_de_mieux_vous_occuper_de_la_nutrition_de_votre_enfant  \\\n",
       "0                                      5_extremement                                                                                  \n",
       "1                                     6_je_ne_se_pas                                                                                  \n",
       "2                                      5_extremement                                                                                  \n",
       "3                                     2_pas_vraiment                                                                                  \n",
       "4                                     2_pas_vraiment                                                                                  \n",
       "\n",
       "  Q4_est-ce_que_vou_ pensez_que_vos_opinions_sont_prises_en_compte_dans_les_decisions_concernant_le_projet ?  \\\n",
       "0                                      3_moyennement                                                           \n",
       "1                          4_la_plupart_du_temps_oui                                                           \n",
       "2                          4_la_plupart_du_temps_oui                                                           \n",
       "3                                   6_je_ne_sais_pas                                                           \n",
       "4                                   6_je_ne_sais_pas                                                           \n",
       "\n",
       "  Q5_savez-vous_o�_et_comment_faire_des_suggestions_ou_des_plaintes_par_rapport_a_lassistance_de_save_the_children  \\\n",
       "0                                              1_oui                                                                 \n",
       "1                                              1_oui                                                                 \n",
       "2                                              1_oui                                                                 \n",
       "3                                              1_oui                                                                 \n",
       "4                                              2_non                                                                 \n",
       "\n",
       "  Q5a_si_vous_faites_une_plainte_par_rapport_a_lappui_de_save_the_children_pensez-vous_que_vous_allez_obtenir_une_reponse  \\\n",
       "0                                      5_tout_a_fait                                                                        \n",
       "1                                      5_tout_a_fait                                                                        \n",
       "2                                      1_pas_du_tout                                                                        \n",
       "3                                      3_moyennement                                                                        \n",
       "4                                      3_moyennement                                                                        \n",
       "\n",
       "  Q6_le_personnel_de_save_the_children_vous_traite_il_avec_respect_et_dignite  \\\n",
       "0                                   6_je_ne_sais_pas                            \n",
       "1                                      5_tout_a_fait                            \n",
       "2                          4_la_plupart_du_temps_oui                            \n",
       "3                                      5_tout_a_fait                            \n",
       "4                                   6_je_ne_sais_pas                            \n",
       "\n",
       "  Q7_vous_sentez_vous_suffisamment_inform�_sur_les_services_offerts_par_save_the_children  \\\n",
       "0                                      1_pas_du_tout                                        \n",
       "1                          4_la_plupart_du_temps_oui                                        \n",
       "2                                     2_pas_vraiment                                        \n",
       "3                                      5_tout_a_fait                                        \n",
       "4                                      3_moyennement                                        \n",
       "\n",
       "  observations_generales_de_lenqueteur   \n",
       "0       il_devrait_y_avoir_du_texte_ici  \n",
       "1       il_devrait_y_avoir_du_texte_ici  \n",
       "2       il_devrait_y_avoir_du_texte_ici  \n",
       "3       il_devrait_y_avoir_du_texte_ici  \n",
       "4       il_devrait_y_avoir_du_texte_ici  \n",
       "\n",
       "[5 rows x 23 columns]"
      ]
     },
     "execution_count": 58,
     "metadata": {},
     "output_type": "execute_result"
    }
   ],
   "source": [
    "path = 'mali_sc_example_data.csv'\n",
    "data = pd.read_csv(path)\n",
    "data['A1_coordonnees_gps'] = 'coordonnees'\n",
    "data['A2_date_de_lenquete'] = np.repeat(['20-10-2016', '21-10-2016'], 50)\n",
    "for column in data.columns:\n",
    "    if data[column].dtype == object:\n",
    "        data.loc[data[column]==np.repeat('there should be text here', 100), column] ='il_devrait_y_avoir_du_texte_ici'\n",
    "data.to_csv(path, index=False)\n",
    "data.head()"
   ]
  },
  {
   "cell_type": "code",
   "execution_count": 59,
   "metadata": {
    "collapsed": false
   },
   "outputs": [
    {
     "data": {
      "text/html": [
       "<div>\n",
       "<table border=\"1\" class=\"dataframe\">\n",
       "  <thead>\n",
       "    <tr style=\"text-align: right;\">\n",
       "      <th></th>\n",
       "      <th>A1_coordonnees_gps</th>\n",
       "      <th>A2_date_de_lenquete</th>\n",
       "      <th>A3_code_de_lenqueteur</th>\n",
       "      <th>A4_code_du_superviseur</th>\n",
       "      <th>D1_code_de_la_region</th>\n",
       "      <th>D2_code_du_cercle</th>\n",
       "      <th>D3_code_de_la_commune</th>\n",
       "      <th>D4_village/quartier/site</th>\n",
       "      <th>D5_sexe_de_linterviewe</th>\n",
       "      <th>D6_age_de_linterviewe</th>\n",
       "      <th>...</th>\n",
       "      <th>Q4a-4_si_oui_quel_type_de_tension_la_distribution_des_kits_a_cause</th>\n",
       "      <th>Q5_es_ce_que_tout_le_monde_qui_en_a_besoin_a_acces_aux_infrastructures_et_kits_dhygiene</th>\n",
       "      <th>Q5a-1_qui_na_pas_acces_qui_devrait</th>\n",
       "      <th>Q5a-2_qui_na_pas_acces_qui_devrait</th>\n",
       "      <th>Q5a-3_qui_na_pas_acces_qui_devrait</th>\n",
       "      <th>Q6_votre_opinion_est-elle_prise_en_compte_dans_les_decisions_concernant_le_projet</th>\n",
       "      <th>Q7_savez-vous_ou_et_comment_faire_des_suggestions_ou_des_plaintes_par_rapport_a_lassistance_de_laen_et_son_partenaire</th>\n",
       "      <th>Q8_si_vous_faites_une_plainte_par_rapport_aux_activites_de_laen_et_de_son_partenaire_pensez-vous_que_vous_allez_obtenir_une_reponse</th>\n",
       "      <th>Q9_est-ce_que_le_personnel_de_laen_et_son_partenaire_vous_traitent_avec_respect_et_dignite</th>\n",
       "      <th>observations_generales_de_lenqueteur</th>\n",
       "    </tr>\n",
       "  </thead>\n",
       "  <tbody>\n",
       "    <tr>\n",
       "      <th>0</th>\n",
       "      <td>coordonnees</td>\n",
       "      <td>20-10-2016</td>\n",
       "      <td>il_devrait_y_avoir_du_texte_ici</td>\n",
       "      <td>il_devrait_y_avoir_du_texte_ici</td>\n",
       "      <td>il_devrait_y_avoir_du_texte_ici</td>\n",
       "      <td>il_devrait_y_avoir_du_texte_ici</td>\n",
       "      <td>il_devrait_y_avoir_du_texte_ici</td>\n",
       "      <td>il_devrait_y_avoir_du_texte_ici</td>\n",
       "      <td>1_masculin</td>\n",
       "      <td>24</td>\n",
       "      <td>...</td>\n",
       "      <td>il_devrait_y_avoir_du_texte_ici</td>\n",
       "      <td>5_extremement</td>\n",
       "      <td>il_devrait_y_avoir_du_texte_ici</td>\n",
       "      <td>il_devrait_y_avoir_du_texte_ici</td>\n",
       "      <td>il_devrait_y_avoir_du_texte_ici</td>\n",
       "      <td>4_la_plupart_du_temps_oui</td>\n",
       "      <td>2_non</td>\n",
       "      <td>5_tout_a_fait</td>\n",
       "      <td>1_pas_du_tout</td>\n",
       "      <td>il_devrait_y_avoir_du_texte_ici</td>\n",
       "    </tr>\n",
       "    <tr>\n",
       "      <th>1</th>\n",
       "      <td>coordonnees</td>\n",
       "      <td>20-10-2016</td>\n",
       "      <td>il_devrait_y_avoir_du_texte_ici</td>\n",
       "      <td>il_devrait_y_avoir_du_texte_ici</td>\n",
       "      <td>il_devrait_y_avoir_du_texte_ici</td>\n",
       "      <td>il_devrait_y_avoir_du_texte_ici</td>\n",
       "      <td>il_devrait_y_avoir_du_texte_ici</td>\n",
       "      <td>il_devrait_y_avoir_du_texte_ici</td>\n",
       "      <td>1_masculin</td>\n",
       "      <td>30</td>\n",
       "      <td>...</td>\n",
       "      <td>il_devrait_y_avoir_du_texte_ici</td>\n",
       "      <td>1_pas_du_tout</td>\n",
       "      <td>il_devrait_y_avoir_du_texte_ici</td>\n",
       "      <td>il_devrait_y_avoir_du_texte_ici</td>\n",
       "      <td>il_devrait_y_avoir_du_texte_ici</td>\n",
       "      <td>4_la_plupart_du_temps_oui</td>\n",
       "      <td>1_oui</td>\n",
       "      <td>5_tout_a_fait</td>\n",
       "      <td>1_pas_du_tout</td>\n",
       "      <td>il_devrait_y_avoir_du_texte_ici</td>\n",
       "    </tr>\n",
       "    <tr>\n",
       "      <th>2</th>\n",
       "      <td>coordonnees</td>\n",
       "      <td>20-10-2016</td>\n",
       "      <td>il_devrait_y_avoir_du_texte_ici</td>\n",
       "      <td>il_devrait_y_avoir_du_texte_ici</td>\n",
       "      <td>il_devrait_y_avoir_du_texte_ici</td>\n",
       "      <td>il_devrait_y_avoir_du_texte_ici</td>\n",
       "      <td>il_devrait_y_avoir_du_texte_ici</td>\n",
       "      <td>il_devrait_y_avoir_du_texte_ici</td>\n",
       "      <td>2_feminin</td>\n",
       "      <td>25</td>\n",
       "      <td>...</td>\n",
       "      <td>il_devrait_y_avoir_du_texte_ici</td>\n",
       "      <td>1_pas_du_tout</td>\n",
       "      <td>il_devrait_y_avoir_du_texte_ici</td>\n",
       "      <td>il_devrait_y_avoir_du_texte_ici</td>\n",
       "      <td>il_devrait_y_avoir_du_texte_ici</td>\n",
       "      <td>1_pas_du_tout</td>\n",
       "      <td>1_oui</td>\n",
       "      <td>5_tout_a_fait</td>\n",
       "      <td>3_moyennement</td>\n",
       "      <td>il_devrait_y_avoir_du_texte_ici</td>\n",
       "    </tr>\n",
       "    <tr>\n",
       "      <th>3</th>\n",
       "      <td>coordonnees</td>\n",
       "      <td>20-10-2016</td>\n",
       "      <td>il_devrait_y_avoir_du_texte_ici</td>\n",
       "      <td>il_devrait_y_avoir_du_texte_ici</td>\n",
       "      <td>il_devrait_y_avoir_du_texte_ici</td>\n",
       "      <td>il_devrait_y_avoir_du_texte_ici</td>\n",
       "      <td>il_devrait_y_avoir_du_texte_ici</td>\n",
       "      <td>il_devrait_y_avoir_du_texte_ici</td>\n",
       "      <td>1_masculin</td>\n",
       "      <td>29</td>\n",
       "      <td>...</td>\n",
       "      <td>il_devrait_y_avoir_du_texte_ici</td>\n",
       "      <td>1_pas_du_tout</td>\n",
       "      <td>il_devrait_y_avoir_du_texte_ici</td>\n",
       "      <td>il_devrait_y_avoir_du_texte_ici</td>\n",
       "      <td>il_devrait_y_avoir_du_texte_ici</td>\n",
       "      <td>6_je_ne_sais_pas</td>\n",
       "      <td>1_oui</td>\n",
       "      <td>6_je_ne_sais_pas</td>\n",
       "      <td>6_je_ne_sais_pas</td>\n",
       "      <td>il_devrait_y_avoir_du_texte_ici</td>\n",
       "    </tr>\n",
       "    <tr>\n",
       "      <th>4</th>\n",
       "      <td>coordonnees</td>\n",
       "      <td>20-10-2016</td>\n",
       "      <td>il_devrait_y_avoir_du_texte_ici</td>\n",
       "      <td>il_devrait_y_avoir_du_texte_ici</td>\n",
       "      <td>il_devrait_y_avoir_du_texte_ici</td>\n",
       "      <td>il_devrait_y_avoir_du_texte_ici</td>\n",
       "      <td>il_devrait_y_avoir_du_texte_ici</td>\n",
       "      <td>il_devrait_y_avoir_du_texte_ici</td>\n",
       "      <td>1_masculin</td>\n",
       "      <td>27</td>\n",
       "      <td>...</td>\n",
       "      <td>il_devrait_y_avoir_du_texte_ici</td>\n",
       "      <td>3_moyennement</td>\n",
       "      <td>il_devrait_y_avoir_du_texte_ici</td>\n",
       "      <td>il_devrait_y_avoir_du_texte_ici</td>\n",
       "      <td>il_devrait_y_avoir_du_texte_ici</td>\n",
       "      <td>6_je_ne_sais_pas</td>\n",
       "      <td>1_oui</td>\n",
       "      <td>5_tout_a_fait</td>\n",
       "      <td>1_pas_du_tout</td>\n",
       "      <td>il_devrait_y_avoir_du_texte_ici</td>\n",
       "    </tr>\n",
       "  </tbody>\n",
       "</table>\n",
       "<p>5 rows × 31 columns</p>\n",
       "</div>"
      ],
      "text/plain": [
       "  A1_coordonnees_gps A2_date_de_lenquete            A3_code_de_lenqueteur  \\\n",
       "0        coordonnees          20-10-2016  il_devrait_y_avoir_du_texte_ici   \n",
       "1        coordonnees          20-10-2016  il_devrait_y_avoir_du_texte_ici   \n",
       "2        coordonnees          20-10-2016  il_devrait_y_avoir_du_texte_ici   \n",
       "3        coordonnees          20-10-2016  il_devrait_y_avoir_du_texte_ici   \n",
       "4        coordonnees          20-10-2016  il_devrait_y_avoir_du_texte_ici   \n",
       "\n",
       "            A4_code_du_superviseur             D1_code_de_la_region  \\\n",
       "0  il_devrait_y_avoir_du_texte_ici  il_devrait_y_avoir_du_texte_ici   \n",
       "1  il_devrait_y_avoir_du_texte_ici  il_devrait_y_avoir_du_texte_ici   \n",
       "2  il_devrait_y_avoir_du_texte_ici  il_devrait_y_avoir_du_texte_ici   \n",
       "3  il_devrait_y_avoir_du_texte_ici  il_devrait_y_avoir_du_texte_ici   \n",
       "4  il_devrait_y_avoir_du_texte_ici  il_devrait_y_avoir_du_texte_ici   \n",
       "\n",
       "                 D2_code_du_cercle            D3_code_de_la_commune  \\\n",
       "0  il_devrait_y_avoir_du_texte_ici  il_devrait_y_avoir_du_texte_ici   \n",
       "1  il_devrait_y_avoir_du_texte_ici  il_devrait_y_avoir_du_texte_ici   \n",
       "2  il_devrait_y_avoir_du_texte_ici  il_devrait_y_avoir_du_texte_ici   \n",
       "3  il_devrait_y_avoir_du_texte_ici  il_devrait_y_avoir_du_texte_ici   \n",
       "4  il_devrait_y_avoir_du_texte_ici  il_devrait_y_avoir_du_texte_ici   \n",
       "\n",
       "          D4_village/quartier/site D5_sexe_de_linterviewe  \\\n",
       "0  il_devrait_y_avoir_du_texte_ici             1_masculin   \n",
       "1  il_devrait_y_avoir_du_texte_ici             1_masculin   \n",
       "2  il_devrait_y_avoir_du_texte_ici              2_feminin   \n",
       "3  il_devrait_y_avoir_du_texte_ici             1_masculin   \n",
       "4  il_devrait_y_avoir_du_texte_ici             1_masculin   \n",
       "\n",
       "   D6_age_de_linterviewe                  ...                   \\\n",
       "0                     24                  ...                    \n",
       "1                     30                  ...                    \n",
       "2                     25                  ...                    \n",
       "3                     29                  ...                    \n",
       "4                     27                  ...                    \n",
       "\n",
       "  Q4a-4_si_oui_quel_type_de_tension_la_distribution_des_kits_a_cause  \\\n",
       "0                    il_devrait_y_avoir_du_texte_ici                   \n",
       "1                    il_devrait_y_avoir_du_texte_ici                   \n",
       "2                    il_devrait_y_avoir_du_texte_ici                   \n",
       "3                    il_devrait_y_avoir_du_texte_ici                   \n",
       "4                    il_devrait_y_avoir_du_texte_ici                   \n",
       "\n",
       "  Q5_es_ce_que_tout_le_monde_qui_en_a_besoin_a_acces_aux_infrastructures_et_kits_dhygiene  \\\n",
       "0                                      5_extremement                                        \n",
       "1                                      1_pas_du_tout                                        \n",
       "2                                      1_pas_du_tout                                        \n",
       "3                                      1_pas_du_tout                                        \n",
       "4                                      3_moyennement                                        \n",
       "\n",
       "  Q5a-1_qui_na_pas_acces_qui_devrait Q5a-2_qui_na_pas_acces_qui_devrait  \\\n",
       "0    il_devrait_y_avoir_du_texte_ici    il_devrait_y_avoir_du_texte_ici   \n",
       "1    il_devrait_y_avoir_du_texte_ici    il_devrait_y_avoir_du_texte_ici   \n",
       "2    il_devrait_y_avoir_du_texte_ici    il_devrait_y_avoir_du_texte_ici   \n",
       "3    il_devrait_y_avoir_du_texte_ici    il_devrait_y_avoir_du_texte_ici   \n",
       "4    il_devrait_y_avoir_du_texte_ici    il_devrait_y_avoir_du_texte_ici   \n",
       "\n",
       "  Q5a-3_qui_na_pas_acces_qui_devrait  \\\n",
       "0    il_devrait_y_avoir_du_texte_ici   \n",
       "1    il_devrait_y_avoir_du_texte_ici   \n",
       "2    il_devrait_y_avoir_du_texte_ici   \n",
       "3    il_devrait_y_avoir_du_texte_ici   \n",
       "4    il_devrait_y_avoir_du_texte_ici   \n",
       "\n",
       "  Q6_votre_opinion_est-elle_prise_en_compte_dans_les_decisions_concernant_le_projet  \\\n",
       "0                          4_la_plupart_du_temps_oui                                  \n",
       "1                          4_la_plupart_du_temps_oui                                  \n",
       "2                                      1_pas_du_tout                                  \n",
       "3                                   6_je_ne_sais_pas                                  \n",
       "4                                   6_je_ne_sais_pas                                  \n",
       "\n",
       "  Q7_savez-vous_ou_et_comment_faire_des_suggestions_ou_des_plaintes_par_rapport_a_lassistance_de_laen_et_son_partenaire  \\\n",
       "0                                              2_non                                                                      \n",
       "1                                              1_oui                                                                      \n",
       "2                                              1_oui                                                                      \n",
       "3                                              1_oui                                                                      \n",
       "4                                              1_oui                                                                      \n",
       "\n",
       "  Q8_si_vous_faites_une_plainte_par_rapport_aux_activites_de_laen_et_de_son_partenaire_pensez-vous_que_vous_allez_obtenir_une_reponse  \\\n",
       "0                                      5_tout_a_fait                                                                                    \n",
       "1                                      5_tout_a_fait                                                                                    \n",
       "2                                      5_tout_a_fait                                                                                    \n",
       "3                                   6_je_ne_sais_pas                                                                                    \n",
       "4                                      5_tout_a_fait                                                                                    \n",
       "\n",
       "  Q9_est-ce_que_le_personnel_de_laen_et_son_partenaire_vous_traitent_avec_respect_et_dignite  \\\n",
       "0                                      1_pas_du_tout                                           \n",
       "1                                      1_pas_du_tout                                           \n",
       "2                                      3_moyennement                                           \n",
       "3                                   6_je_ne_sais_pas                                           \n",
       "4                                      1_pas_du_tout                                           \n",
       "\n",
       "  observations_generales_de_lenqueteur   \n",
       "0       il_devrait_y_avoir_du_texte_ici  \n",
       "1       il_devrait_y_avoir_du_texte_ici  \n",
       "2       il_devrait_y_avoir_du_texte_ici  \n",
       "3       il_devrait_y_avoir_du_texte_ici  \n",
       "4       il_devrait_y_avoir_du_texte_ici  \n",
       "\n",
       "[5 rows x 31 columns]"
      ]
     },
     "execution_count": 59,
     "metadata": {},
     "output_type": "execute_result"
    }
   ],
   "source": [
    "path = 'mali_aen_example_data.csv'\n",
    "data = pd.read_csv(path)\n",
    "data['A1_coordonnees_gps'] = 'coordonnees'\n",
    "data['A2_date_de_lenquete'] = np.repeat(['20-10-2016', '21-10-2016'], 50)\n",
    "for column in data.columns:\n",
    "    if data[column].dtype == object:\n",
    "        data.loc[data[column]==np.repeat('there should be text here', 100), column] ='il_devrait_y_avoir_du_texte_ici'\n",
    "data.to_csv(path, index=False)\n",
    "data.head()"
   ]
  },
  {
   "cell_type": "code",
   "execution_count": 16,
   "metadata": {
    "collapsed": false
   },
   "outputs": [
    {
     "data": {
      "text/html": [
       "<div>\n",
       "<table border=\"1\" class=\"dataframe\">\n",
       "  <thead>\n",
       "    <tr style=\"text-align: right;\">\n",
       "      <th></th>\n",
       "      <th>D2_code_du_cercle</th>\n",
       "      <th>D3_code_de_la_commune</th>\n",
       "      <th>D4_village/quartier/site</th>\n",
       "      <th>D5_sexe_de_linterviewe</th>\n",
       "      <th>D6_age_de_linterviewe</th>\n",
       "      <th>D7</th>\n",
       "      <th>Q1_est-ce_que_lassistance_alimentaire_fournie_par_care_repond_a_vos_besoins_cles</th>\n",
       "      <th>Q1a-1_quels_sont_vos_besoins_cles</th>\n",
       "      <th>Q1a-2_quels_sont_vos_besoins_cles</th>\n",
       "      <th>Q1a-3_quels_sont_vos_besoins_cles</th>\n",
       "    </tr>\n",
       "  </thead>\n",
       "  <tbody>\n",
       "    <tr>\n",
       "      <th>0</th>\n",
       "      <td>il_devrait_y_avoir_du_texte_ici</td>\n",
       "      <td>il_devrait_y_avoir_du_texte_ici</td>\n",
       "      <td>il_devrait_y_avoir_du_texte_ici</td>\n",
       "      <td>1_masculin</td>\n",
       "      <td>21</td>\n",
       "      <td>1_beneficiaires_de_distribution_directe</td>\n",
       "      <td>6_je_ne_sais_pas</td>\n",
       "      <td>il_devrait_y_avoir_du_texte_ici</td>\n",
       "      <td>il_devrait_y_avoir_du_texte_ici</td>\n",
       "      <td>il_devrait_y_avoir_du_texte_ici</td>\n",
       "    </tr>\n",
       "    <tr>\n",
       "      <th>1</th>\n",
       "      <td>il_devrait_y_avoir_du_texte_ici</td>\n",
       "      <td>il_devrait_y_avoir_du_texte_ici</td>\n",
       "      <td>il_devrait_y_avoir_du_texte_ici</td>\n",
       "      <td>1_masculin</td>\n",
       "      <td>25</td>\n",
       "      <td>1_beneficiaires_de_distribution_directe</td>\n",
       "      <td>3_moyennement</td>\n",
       "      <td>il_devrait_y_avoir_du_texte_ici</td>\n",
       "      <td>il_devrait_y_avoir_du_texte_ici</td>\n",
       "      <td>il_devrait_y_avoir_du_texte_ici</td>\n",
       "    </tr>\n",
       "    <tr>\n",
       "      <th>2</th>\n",
       "      <td>il_devrait_y_avoir_du_texte_ici</td>\n",
       "      <td>il_devrait_y_avoir_du_texte_ici</td>\n",
       "      <td>il_devrait_y_avoir_du_texte_ici</td>\n",
       "      <td>2_feminin</td>\n",
       "      <td>27</td>\n",
       "      <td>1_beneficiaires_de_distribution_directe</td>\n",
       "      <td>6_je_ne_sais_pas</td>\n",
       "      <td>il_devrait_y_avoir_du_texte_ici</td>\n",
       "      <td>il_devrait_y_avoir_du_texte_ici</td>\n",
       "      <td>il_devrait_y_avoir_du_texte_ici</td>\n",
       "    </tr>\n",
       "    <tr>\n",
       "      <th>3</th>\n",
       "      <td>il_devrait_y_avoir_du_texte_ici</td>\n",
       "      <td>il_devrait_y_avoir_du_texte_ici</td>\n",
       "      <td>il_devrait_y_avoir_du_texte_ici</td>\n",
       "      <td>1_masculin</td>\n",
       "      <td>26</td>\n",
       "      <td>1_beneficiaires_de_distribution_directe</td>\n",
       "      <td>4_la_plupart_du_temps_oui</td>\n",
       "      <td>il_devrait_y_avoir_du_texte_ici</td>\n",
       "      <td>il_devrait_y_avoir_du_texte_ici</td>\n",
       "      <td>il_devrait_y_avoir_du_texte_ici</td>\n",
       "    </tr>\n",
       "    <tr>\n",
       "      <th>4</th>\n",
       "      <td>il_devrait_y_avoir_du_texte_ici</td>\n",
       "      <td>il_devrait_y_avoir_du_texte_ici</td>\n",
       "      <td>il_devrait_y_avoir_du_texte_ici</td>\n",
       "      <td>1_masculin</td>\n",
       "      <td>16</td>\n",
       "      <td>1_beneficiaires_de_distribution_directe</td>\n",
       "      <td>4_la_plupart_du_temps_oui</td>\n",
       "      <td>il_devrait_y_avoir_du_texte_ici</td>\n",
       "      <td>il_devrait_y_avoir_du_texte_ici</td>\n",
       "      <td>il_devrait_y_avoir_du_texte_ici</td>\n",
       "    </tr>\n",
       "    <tr>\n",
       "      <th>5</th>\n",
       "      <td>il_devrait_y_avoir_du_texte_ici</td>\n",
       "      <td>il_devrait_y_avoir_du_texte_ici</td>\n",
       "      <td>il_devrait_y_avoir_du_texte_ici</td>\n",
       "      <td>2_feminin</td>\n",
       "      <td>24</td>\n",
       "      <td>1_beneficiaires_de_distribution_directe</td>\n",
       "      <td>2_pas_vraiment</td>\n",
       "      <td>il_devrait_y_avoir_du_texte_ici</td>\n",
       "      <td>il_devrait_y_avoir_du_texte_ici</td>\n",
       "      <td>il_devrait_y_avoir_du_texte_ici</td>\n",
       "    </tr>\n",
       "    <tr>\n",
       "      <th>6</th>\n",
       "      <td>il_devrait_y_avoir_du_texte_ici</td>\n",
       "      <td>il_devrait_y_avoir_du_texte_ici</td>\n",
       "      <td>il_devrait_y_avoir_du_texte_ici</td>\n",
       "      <td>2_feminin</td>\n",
       "      <td>23</td>\n",
       "      <td>1_beneficiaires_de_distribution_directe</td>\n",
       "      <td>5_tout_a_fait</td>\n",
       "      <td>il_devrait_y_avoir_du_texte_ici</td>\n",
       "      <td>il_devrait_y_avoir_du_texte_ici</td>\n",
       "      <td>il_devrait_y_avoir_du_texte_ici</td>\n",
       "    </tr>\n",
       "    <tr>\n",
       "      <th>7</th>\n",
       "      <td>il_devrait_y_avoir_du_texte_ici</td>\n",
       "      <td>il_devrait_y_avoir_du_texte_ici</td>\n",
       "      <td>il_devrait_y_avoir_du_texte_ici</td>\n",
       "      <td>2_feminin</td>\n",
       "      <td>30</td>\n",
       "      <td>1_beneficiaires_de_distribution_directe</td>\n",
       "      <td>1_pas_du_tout</td>\n",
       "      <td>il_devrait_y_avoir_du_texte_ici</td>\n",
       "      <td>il_devrait_y_avoir_du_texte_ici</td>\n",
       "      <td>il_devrait_y_avoir_du_texte_ici</td>\n",
       "    </tr>\n",
       "    <tr>\n",
       "      <th>8</th>\n",
       "      <td>il_devrait_y_avoir_du_texte_ici</td>\n",
       "      <td>il_devrait_y_avoir_du_texte_ici</td>\n",
       "      <td>il_devrait_y_avoir_du_texte_ici</td>\n",
       "      <td>2_feminin</td>\n",
       "      <td>27</td>\n",
       "      <td>1_beneficiaires_de_distribution_directe</td>\n",
       "      <td>4_la_plupart_du_temps_oui</td>\n",
       "      <td>il_devrait_y_avoir_du_texte_ici</td>\n",
       "      <td>il_devrait_y_avoir_du_texte_ici</td>\n",
       "      <td>il_devrait_y_avoir_du_texte_ici</td>\n",
       "    </tr>\n",
       "    <tr>\n",
       "      <th>9</th>\n",
       "      <td>il_devrait_y_avoir_du_texte_ici</td>\n",
       "      <td>il_devrait_y_avoir_du_texte_ici</td>\n",
       "      <td>il_devrait_y_avoir_du_texte_ici</td>\n",
       "      <td>2_feminin</td>\n",
       "      <td>20</td>\n",
       "      <td>1_beneficiaires_de_distribution_directe</td>\n",
       "      <td>5_tout_a_fait</td>\n",
       "      <td>il_devrait_y_avoir_du_texte_ici</td>\n",
       "      <td>il_devrait_y_avoir_du_texte_ici</td>\n",
       "      <td>il_devrait_y_avoir_du_texte_ici</td>\n",
       "    </tr>\n",
       "  </tbody>\n",
       "</table>\n",
       "</div>"
      ],
      "text/plain": [
       "                 D2_code_du_cercle            D3_code_de_la_commune  \\\n",
       "0  il_devrait_y_avoir_du_texte_ici  il_devrait_y_avoir_du_texte_ici   \n",
       "1  il_devrait_y_avoir_du_texte_ici  il_devrait_y_avoir_du_texte_ici   \n",
       "2  il_devrait_y_avoir_du_texte_ici  il_devrait_y_avoir_du_texte_ici   \n",
       "3  il_devrait_y_avoir_du_texte_ici  il_devrait_y_avoir_du_texte_ici   \n",
       "4  il_devrait_y_avoir_du_texte_ici  il_devrait_y_avoir_du_texte_ici   \n",
       "5  il_devrait_y_avoir_du_texte_ici  il_devrait_y_avoir_du_texte_ici   \n",
       "6  il_devrait_y_avoir_du_texte_ici  il_devrait_y_avoir_du_texte_ici   \n",
       "7  il_devrait_y_avoir_du_texte_ici  il_devrait_y_avoir_du_texte_ici   \n",
       "8  il_devrait_y_avoir_du_texte_ici  il_devrait_y_avoir_du_texte_ici   \n",
       "9  il_devrait_y_avoir_du_texte_ici  il_devrait_y_avoir_du_texte_ici   \n",
       "\n",
       "          D4_village/quartier/site D5_sexe_de_linterviewe  \\\n",
       "0  il_devrait_y_avoir_du_texte_ici             1_masculin   \n",
       "1  il_devrait_y_avoir_du_texte_ici             1_masculin   \n",
       "2  il_devrait_y_avoir_du_texte_ici              2_feminin   \n",
       "3  il_devrait_y_avoir_du_texte_ici             1_masculin   \n",
       "4  il_devrait_y_avoir_du_texte_ici             1_masculin   \n",
       "5  il_devrait_y_avoir_du_texte_ici              2_feminin   \n",
       "6  il_devrait_y_avoir_du_texte_ici              2_feminin   \n",
       "7  il_devrait_y_avoir_du_texte_ici              2_feminin   \n",
       "8  il_devrait_y_avoir_du_texte_ici              2_feminin   \n",
       "9  il_devrait_y_avoir_du_texte_ici              2_feminin   \n",
       "\n",
       "   D6_age_de_linterviewe                                       D7  \\\n",
       "0                     21  1_beneficiaires_de_distribution_directe   \n",
       "1                     25  1_beneficiaires_de_distribution_directe   \n",
       "2                     27  1_beneficiaires_de_distribution_directe   \n",
       "3                     26  1_beneficiaires_de_distribution_directe   \n",
       "4                     16  1_beneficiaires_de_distribution_directe   \n",
       "5                     24  1_beneficiaires_de_distribution_directe   \n",
       "6                     23  1_beneficiaires_de_distribution_directe   \n",
       "7                     30  1_beneficiaires_de_distribution_directe   \n",
       "8                     27  1_beneficiaires_de_distribution_directe   \n",
       "9                     20  1_beneficiaires_de_distribution_directe   \n",
       "\n",
       "  Q1_est-ce_que_lassistance_alimentaire_fournie_par_care_repond_a_vos_besoins_cles  \\\n",
       "0                                   6_je_ne_sais_pas                                 \n",
       "1                                      3_moyennement                                 \n",
       "2                                   6_je_ne_sais_pas                                 \n",
       "3                          4_la_plupart_du_temps_oui                                 \n",
       "4                          4_la_plupart_du_temps_oui                                 \n",
       "5                                     2_pas_vraiment                                 \n",
       "6                                      5_tout_a_fait                                 \n",
       "7                                      1_pas_du_tout                                 \n",
       "8                          4_la_plupart_du_temps_oui                                 \n",
       "9                                      5_tout_a_fait                                 \n",
       "\n",
       "  Q1a-1_quels_sont_vos_besoins_cles Q1a-2_quels_sont_vos_besoins_cles  \\\n",
       "0   il_devrait_y_avoir_du_texte_ici   il_devrait_y_avoir_du_texte_ici   \n",
       "1   il_devrait_y_avoir_du_texte_ici   il_devrait_y_avoir_du_texte_ici   \n",
       "2   il_devrait_y_avoir_du_texte_ici   il_devrait_y_avoir_du_texte_ici   \n",
       "3   il_devrait_y_avoir_du_texte_ici   il_devrait_y_avoir_du_texte_ici   \n",
       "4   il_devrait_y_avoir_du_texte_ici   il_devrait_y_avoir_du_texte_ici   \n",
       "5   il_devrait_y_avoir_du_texte_ici   il_devrait_y_avoir_du_texte_ici   \n",
       "6   il_devrait_y_avoir_du_texte_ici   il_devrait_y_avoir_du_texte_ici   \n",
       "7   il_devrait_y_avoir_du_texte_ici   il_devrait_y_avoir_du_texte_ici   \n",
       "8   il_devrait_y_avoir_du_texte_ici   il_devrait_y_avoir_du_texte_ici   \n",
       "9   il_devrait_y_avoir_du_texte_ici   il_devrait_y_avoir_du_texte_ici   \n",
       "\n",
       "  Q1a-3_quels_sont_vos_besoins_cles  \n",
       "0   il_devrait_y_avoir_du_texte_ici  \n",
       "1   il_devrait_y_avoir_du_texte_ici  \n",
       "2   il_devrait_y_avoir_du_texte_ici  \n",
       "3   il_devrait_y_avoir_du_texte_ici  \n",
       "4   il_devrait_y_avoir_du_texte_ici  \n",
       "5   il_devrait_y_avoir_du_texte_ici  \n",
       "6   il_devrait_y_avoir_du_texte_ici  \n",
       "7   il_devrait_y_avoir_du_texte_ici  \n",
       "8   il_devrait_y_avoir_du_texte_ici  \n",
       "9   il_devrait_y_avoir_du_texte_ici  "
      ]
     },
     "execution_count": 16,
     "metadata": {},
     "output_type": "execute_result"
    }
   ],
   "source": [
    "path = 'mali_care_example_data.csv'\n",
    "data = pd.read_csv(path)\n",
    "data['A1_coordonnees_gps'] = 'coordonnees'\n",
    "data['A2_date_de_lenquete'] = np.repeat(['20-10-2016', '21-10-2016'], 50)\n",
    "for column in data.columns:\n",
    "    if data[column].dtype == object:\n",
    "        data.loc[data[column]==np.repeat('there should be text here', 100), column] ='il_devrait_y_avoir_du_texte_ici'\n",
    "data.loc[:, 'D7'] = np.repeat(['1_beneficiaires_de_distribution_directe', '2_beneficiaires_de_coupon'], [60, 40])\n",
    "data.to_csv(path, index=False)\n",
    "data.iloc[0:10, 5:15]"
   ]
  },
  {
   "cell_type": "code",
   "execution_count": 83,
   "metadata": {
    "collapsed": false
   },
   "outputs": [
    {
     "data": {
      "text/html": [
       "<div>\n",
       "<table border=\"1\" class=\"dataframe\">\n",
       "  <thead>\n",
       "    <tr style=\"text-align: right;\">\n",
       "      <th></th>\n",
       "      <th>D2_code_du_cercle</th>\n",
       "      <th>D3_code_de_la_commune</th>\n",
       "      <th>D4_village/quartier/site</th>\n",
       "      <th>D5_sexe_de_linterviewe</th>\n",
       "      <th>D6_age_de_linterviewe</th>\n",
       "      <th>D7</th>\n",
       "      <th>Q1_est_ce_que_lappui_de_mercy_corps_repond-ils_a_vos_besoins_cl�s�</th>\n",
       "      <th>Q1a-1_quels_sont_les_besoins_cles ?</th>\n",
       "      <th>Q1a-2_quels_sont_les_besoins_cles ?</th>\n",
       "      <th>Q1a-3_quels_sont_les_besoins_cles ?</th>\n",
       "    </tr>\n",
       "  </thead>\n",
       "  <tbody>\n",
       "    <tr>\n",
       "      <th>0</th>\n",
       "      <td>il_devrait_y_avoir_du_texte_ici</td>\n",
       "      <td>il_devrait_y_avoir_du_texte_ici</td>\n",
       "      <td>il_devrait_y_avoir_du_texte_ici</td>\n",
       "      <td>2_feminin</td>\n",
       "      <td>30</td>\n",
       "      <td>1_beneficiaires_du_programm_de_relance_economique</td>\n",
       "      <td>4_la_plupart_du_temps_oui</td>\n",
       "      <td>il_devrait_y_avoir_du_texte_ici</td>\n",
       "      <td>il_devrait_y_avoir_du_texte_ici</td>\n",
       "      <td>il_devrait_y_avoir_du_texte_ici</td>\n",
       "    </tr>\n",
       "    <tr>\n",
       "      <th>1</th>\n",
       "      <td>il_devrait_y_avoir_du_texte_ici</td>\n",
       "      <td>il_devrait_y_avoir_du_texte_ici</td>\n",
       "      <td>il_devrait_y_avoir_du_texte_ici</td>\n",
       "      <td>2_feminin</td>\n",
       "      <td>28</td>\n",
       "      <td>1_beneficiaires_du_programm_de_relance_economique</td>\n",
       "      <td>3_moyennement</td>\n",
       "      <td>il_devrait_y_avoir_du_texte_ici</td>\n",
       "      <td>il_devrait_y_avoir_du_texte_ici</td>\n",
       "      <td>il_devrait_y_avoir_du_texte_ici</td>\n",
       "    </tr>\n",
       "    <tr>\n",
       "      <th>2</th>\n",
       "      <td>il_devrait_y_avoir_du_texte_ici</td>\n",
       "      <td>il_devrait_y_avoir_du_texte_ici</td>\n",
       "      <td>il_devrait_y_avoir_du_texte_ici</td>\n",
       "      <td>1_masculin</td>\n",
       "      <td>22</td>\n",
       "      <td>1_beneficiaires_du_programm_de_relance_economique</td>\n",
       "      <td>1_pas_du_tout</td>\n",
       "      <td>il_devrait_y_avoir_du_texte_ici</td>\n",
       "      <td>il_devrait_y_avoir_du_texte_ici</td>\n",
       "      <td>il_devrait_y_avoir_du_texte_ici</td>\n",
       "    </tr>\n",
       "    <tr>\n",
       "      <th>3</th>\n",
       "      <td>il_devrait_y_avoir_du_texte_ici</td>\n",
       "      <td>il_devrait_y_avoir_du_texte_ici</td>\n",
       "      <td>il_devrait_y_avoir_du_texte_ici</td>\n",
       "      <td>1_masculin</td>\n",
       "      <td>22</td>\n",
       "      <td>1_beneficiaires_du_programm_de_relance_economique</td>\n",
       "      <td>2_pas_vraiment</td>\n",
       "      <td>il_devrait_y_avoir_du_texte_ici</td>\n",
       "      <td>il_devrait_y_avoir_du_texte_ici</td>\n",
       "      <td>il_devrait_y_avoir_du_texte_ici</td>\n",
       "    </tr>\n",
       "    <tr>\n",
       "      <th>4</th>\n",
       "      <td>il_devrait_y_avoir_du_texte_ici</td>\n",
       "      <td>il_devrait_y_avoir_du_texte_ici</td>\n",
       "      <td>il_devrait_y_avoir_du_texte_ici</td>\n",
       "      <td>1_masculin</td>\n",
       "      <td>25</td>\n",
       "      <td>1_beneficiaires_du_programm_de_relance_economique</td>\n",
       "      <td>3_moyennement</td>\n",
       "      <td>il_devrait_y_avoir_du_texte_ici</td>\n",
       "      <td>il_devrait_y_avoir_du_texte_ici</td>\n",
       "      <td>il_devrait_y_avoir_du_texte_ici</td>\n",
       "    </tr>\n",
       "    <tr>\n",
       "      <th>5</th>\n",
       "      <td>il_devrait_y_avoir_du_texte_ici</td>\n",
       "      <td>il_devrait_y_avoir_du_texte_ici</td>\n",
       "      <td>il_devrait_y_avoir_du_texte_ici</td>\n",
       "      <td>2_feminin</td>\n",
       "      <td>24</td>\n",
       "      <td>1_beneficiaires_du_programm_de_relance_economique</td>\n",
       "      <td>4_la_plupart_du_temps_oui</td>\n",
       "      <td>il_devrait_y_avoir_du_texte_ici</td>\n",
       "      <td>il_devrait_y_avoir_du_texte_ici</td>\n",
       "      <td>il_devrait_y_avoir_du_texte_ici</td>\n",
       "    </tr>\n",
       "    <tr>\n",
       "      <th>6</th>\n",
       "      <td>il_devrait_y_avoir_du_texte_ici</td>\n",
       "      <td>il_devrait_y_avoir_du_texte_ici</td>\n",
       "      <td>il_devrait_y_avoir_du_texte_ici</td>\n",
       "      <td>1_masculin</td>\n",
       "      <td>30</td>\n",
       "      <td>1_beneficiaires_du_programm_de_relance_economique</td>\n",
       "      <td>5_tout_a_fait</td>\n",
       "      <td>il_devrait_y_avoir_du_texte_ici</td>\n",
       "      <td>il_devrait_y_avoir_du_texte_ici</td>\n",
       "      <td>il_devrait_y_avoir_du_texte_ici</td>\n",
       "    </tr>\n",
       "    <tr>\n",
       "      <th>7</th>\n",
       "      <td>il_devrait_y_avoir_du_texte_ici</td>\n",
       "      <td>il_devrait_y_avoir_du_texte_ici</td>\n",
       "      <td>il_devrait_y_avoir_du_texte_ici</td>\n",
       "      <td>2_feminin</td>\n",
       "      <td>29</td>\n",
       "      <td>1_beneficiaires_du_programm_de_relance_economique</td>\n",
       "      <td>6_je_ne_sais_pas</td>\n",
       "      <td>il_devrait_y_avoir_du_texte_ici</td>\n",
       "      <td>il_devrait_y_avoir_du_texte_ici</td>\n",
       "      <td>il_devrait_y_avoir_du_texte_ici</td>\n",
       "    </tr>\n",
       "    <tr>\n",
       "      <th>8</th>\n",
       "      <td>il_devrait_y_avoir_du_texte_ici</td>\n",
       "      <td>il_devrait_y_avoir_du_texte_ici</td>\n",
       "      <td>il_devrait_y_avoir_du_texte_ici</td>\n",
       "      <td>1_masculin</td>\n",
       "      <td>30</td>\n",
       "      <td>1_beneficiaires_du_programm_de_relance_economique</td>\n",
       "      <td>3_moyennement</td>\n",
       "      <td>il_devrait_y_avoir_du_texte_ici</td>\n",
       "      <td>il_devrait_y_avoir_du_texte_ici</td>\n",
       "      <td>il_devrait_y_avoir_du_texte_ici</td>\n",
       "    </tr>\n",
       "    <tr>\n",
       "      <th>9</th>\n",
       "      <td>il_devrait_y_avoir_du_texte_ici</td>\n",
       "      <td>il_devrait_y_avoir_du_texte_ici</td>\n",
       "      <td>il_devrait_y_avoir_du_texte_ici</td>\n",
       "      <td>1_masculin</td>\n",
       "      <td>25</td>\n",
       "      <td>1_beneficiaires_du_programm_de_relance_economique</td>\n",
       "      <td>3_moyennement</td>\n",
       "      <td>il_devrait_y_avoir_du_texte_ici</td>\n",
       "      <td>il_devrait_y_avoir_du_texte_ici</td>\n",
       "      <td>il_devrait_y_avoir_du_texte_ici</td>\n",
       "    </tr>\n",
       "  </tbody>\n",
       "</table>\n",
       "</div>"
      ],
      "text/plain": [
       "                 D2_code_du_cercle            D3_code_de_la_commune  \\\n",
       "0  il_devrait_y_avoir_du_texte_ici  il_devrait_y_avoir_du_texte_ici   \n",
       "1  il_devrait_y_avoir_du_texte_ici  il_devrait_y_avoir_du_texte_ici   \n",
       "2  il_devrait_y_avoir_du_texte_ici  il_devrait_y_avoir_du_texte_ici   \n",
       "3  il_devrait_y_avoir_du_texte_ici  il_devrait_y_avoir_du_texte_ici   \n",
       "4  il_devrait_y_avoir_du_texte_ici  il_devrait_y_avoir_du_texte_ici   \n",
       "5  il_devrait_y_avoir_du_texte_ici  il_devrait_y_avoir_du_texte_ici   \n",
       "6  il_devrait_y_avoir_du_texte_ici  il_devrait_y_avoir_du_texte_ici   \n",
       "7  il_devrait_y_avoir_du_texte_ici  il_devrait_y_avoir_du_texte_ici   \n",
       "8  il_devrait_y_avoir_du_texte_ici  il_devrait_y_avoir_du_texte_ici   \n",
       "9  il_devrait_y_avoir_du_texte_ici  il_devrait_y_avoir_du_texte_ici   \n",
       "\n",
       "          D4_village/quartier/site D5_sexe_de_linterviewe  \\\n",
       "0  il_devrait_y_avoir_du_texte_ici              2_feminin   \n",
       "1  il_devrait_y_avoir_du_texte_ici              2_feminin   \n",
       "2  il_devrait_y_avoir_du_texte_ici             1_masculin   \n",
       "3  il_devrait_y_avoir_du_texte_ici             1_masculin   \n",
       "4  il_devrait_y_avoir_du_texte_ici             1_masculin   \n",
       "5  il_devrait_y_avoir_du_texte_ici              2_feminin   \n",
       "6  il_devrait_y_avoir_du_texte_ici             1_masculin   \n",
       "7  il_devrait_y_avoir_du_texte_ici              2_feminin   \n",
       "8  il_devrait_y_avoir_du_texte_ici             1_masculin   \n",
       "9  il_devrait_y_avoir_du_texte_ici             1_masculin   \n",
       "\n",
       "   D6_age_de_linterviewe                                                 D7  \\\n",
       "0                     30  1_beneficiaires_du_programm_de_relance_economique   \n",
       "1                     28  1_beneficiaires_du_programm_de_relance_economique   \n",
       "2                     22  1_beneficiaires_du_programm_de_relance_economique   \n",
       "3                     22  1_beneficiaires_du_programm_de_relance_economique   \n",
       "4                     25  1_beneficiaires_du_programm_de_relance_economique   \n",
       "5                     24  1_beneficiaires_du_programm_de_relance_economique   \n",
       "6                     30  1_beneficiaires_du_programm_de_relance_economique   \n",
       "7                     29  1_beneficiaires_du_programm_de_relance_economique   \n",
       "8                     30  1_beneficiaires_du_programm_de_relance_economique   \n",
       "9                     25  1_beneficiaires_du_programm_de_relance_economique   \n",
       "\n",
       "  Q1_est_ce_que_lappui_de_mercy_corps_repond-ils_a_vos_besoins_cl�s�  \\\n",
       "0                          4_la_plupart_du_temps_oui                   \n",
       "1                                      3_moyennement                   \n",
       "2                                      1_pas_du_tout                   \n",
       "3                                     2_pas_vraiment                   \n",
       "4                                      3_moyennement                   \n",
       "5                          4_la_plupart_du_temps_oui                   \n",
       "6                                      5_tout_a_fait                   \n",
       "7                                   6_je_ne_sais_pas                   \n",
       "8                                      3_moyennement                   \n",
       "9                                      3_moyennement                   \n",
       "\n",
       "  Q1a-1_quels_sont_les_besoins_cles ? Q1a-2_quels_sont_les_besoins_cles ?  \\\n",
       "0     il_devrait_y_avoir_du_texte_ici     il_devrait_y_avoir_du_texte_ici   \n",
       "1     il_devrait_y_avoir_du_texte_ici     il_devrait_y_avoir_du_texte_ici   \n",
       "2     il_devrait_y_avoir_du_texte_ici     il_devrait_y_avoir_du_texte_ici   \n",
       "3     il_devrait_y_avoir_du_texte_ici     il_devrait_y_avoir_du_texte_ici   \n",
       "4     il_devrait_y_avoir_du_texte_ici     il_devrait_y_avoir_du_texte_ici   \n",
       "5     il_devrait_y_avoir_du_texte_ici     il_devrait_y_avoir_du_texte_ici   \n",
       "6     il_devrait_y_avoir_du_texte_ici     il_devrait_y_avoir_du_texte_ici   \n",
       "7     il_devrait_y_avoir_du_texte_ici     il_devrait_y_avoir_du_texte_ici   \n",
       "8     il_devrait_y_avoir_du_texte_ici     il_devrait_y_avoir_du_texte_ici   \n",
       "9     il_devrait_y_avoir_du_texte_ici     il_devrait_y_avoir_du_texte_ici   \n",
       "\n",
       "  Q1a-3_quels_sont_les_besoins_cles ?  \n",
       "0     il_devrait_y_avoir_du_texte_ici  \n",
       "1     il_devrait_y_avoir_du_texte_ici  \n",
       "2     il_devrait_y_avoir_du_texte_ici  \n",
       "3     il_devrait_y_avoir_du_texte_ici  \n",
       "4     il_devrait_y_avoir_du_texte_ici  \n",
       "5     il_devrait_y_avoir_du_texte_ici  \n",
       "6     il_devrait_y_avoir_du_texte_ici  \n",
       "7     il_devrait_y_avoir_du_texte_ici  \n",
       "8     il_devrait_y_avoir_du_texte_ici  \n",
       "9     il_devrait_y_avoir_du_texte_ici  "
      ]
     },
     "execution_count": 83,
     "metadata": {},
     "output_type": "execute_result"
    }
   ],
   "source": [
    "path = 'mali_mercy_example_data.csv'\n",
    "data = pd.read_csv(path)\n",
    "data['A1_coordonnees_gps'] = 'coordonnees'\n",
    "data['A2_date_de_lenquete'] = np.repeat(['20-10-2016', '21-10-2016'], 50)\n",
    "for column in data.columns:\n",
    "    if data[column].dtype == object:\n",
    "        data.loc[data[column]==np.repeat('there should be text here', 100), column] ='il_devrait_y_avoir_du_texte_ici'\n",
    "data.loc[:, 'D7'] = np.repeat(['1_beneficiaires_du_programm_de_relance_economique',\n",
    "                              '2_beneficiaires_du_programme_de_fourrage_animaux', \n",
    "                              '3_beneficiaires_du_programme_agriculture'], (34, 33, 33))\n",
    "data.to_csv(path, index=False)\n",
    "data.iloc[0:10, 5:15]"
   ]
  },
  {
   "cell_type": "markdown",
   "metadata": {},
   "source": [
    "# Actually preparing analysis code"
   ]
  },
  {
   "cell_type": "markdown",
   "metadata": {},
   "source": [
    "## Loading data"
   ]
  },
  {
   "cell_type": "code",
   "execution_count": 2,
   "metadata": {
    "collapsed": false,
    "scrolled": true
   },
   "outputs": [],
   "source": [
    "data_path = '../example_data/ethiopia/ethiopia_plan_example_data.csv'\n",
    "template_path = '../templates/ethiopia/ethiopia_plan_template.csv'\n",
    "data = pd.read_csv(data_path)\n",
    "template = pd.read_csv(template_path, index_col=0)\n",
    "template = template.transpose()"
   ]
  },
  {
   "cell_type": "markdown",
   "metadata": {},
   "source": [
    "## Checking that column names match"
   ]
  },
  {
   "cell_type": "code",
   "execution_count": 4,
   "metadata": {
    "collapsed": false,
    "scrolled": true
   },
   "outputs": [
    {
     "name": "stdout",
     "output_type": "stream",
     "text": [
      "['D5_division', 'D9_length_of_time_in_camp', 'A4_start_time', 'Q3_do_you_feel_think_that_the_skills_you_learn_here_will_help_you_in_your_life_afterwards ', 'Q4_do_you_feel_you_have_a_say_in_what_activities_are_provided_in_the_child_friendly_space ']\n"
     ]
    }
   ],
   "source": [
    "mismatches, mismatch_numbers = mismatch_search(data, template)"
   ]
  },
  {
   "cell_type": "markdown",
   "metadata": {},
   "source": [
    "### manually matching labels"
   ]
  },
  {
   "cell_type": "code",
   "execution_count": 5,
   "metadata": {
    "collapsed": true
   },
   "outputs": [],
   "source": [
    "matched_labels = ['D5_division_if_any', 'D9_length_of_time_in_the_camp',\n",
    "                'A4_starting_time',\n",
    "                'Q3_do_you_feel_think_that_the_skills_you_learn_here_will_help_you_in_your_life_afterwards',\n",
    "                'Q4_do_you_feel_you_have_a_say_in_what_activities_are_provided_in_the_child_friendly_space']"
   ]
  },
  {
   "cell_type": "markdown",
   "metadata": {},
   "source": [
    "### changing the column names to fit the template"
   ]
  },
  {
   "cell_type": "code",
   "execution_count": 7,
   "metadata": {
    "collapsed": false
   },
   "outputs": [],
   "source": [
    "matching_dict = gen_match_dict(mismatches, matched_labels)"
   ]
  },
  {
   "cell_type": "markdown",
   "metadata": {},
   "source": [
    "### running the test again to make sure everything has worked"
   ]
  },
  {
   "cell_type": "code",
   "execution_count": 9,
   "metadata": {
    "collapsed": false
   },
   "outputs": [
    {
     "name": "stdout",
     "output_type": "stream",
     "text": [
      "[]\n"
     ]
    }
   ],
   "source": [
    "mismatches, mismatch_numbers = mismatch_search(data, template)"
   ]
  },
  {
   "cell_type": "markdown",
   "metadata": {},
   "source": [
    "## getting the column names for the automatic analysis"
   ]
  },
  {
   "cell_type": "code",
   "execution_count": 10,
   "metadata": {
    "collapsed": true
   },
   "outputs": [],
   "source": [
    "demographic_columns = template.loc[template['question_section'].isin(['demograpic_data', 'demographic_data']), :].index\n",
    "collection_columns = template.loc[template['question_section']=='collection_info', :].index\n",
    "question_columns = template.loc[template['question_section']=='main_questions', :].index\n",
    "\n",
    "template_questions = template.loc[question_columns] \n",
    "breakdown_columns = template_questions.loc[template_questions['question_type'].isin(['binary', 'likert']), :].index\n",
    "mean_columns = template_questions.loc[template_questions['question_type'].isin(['likert']), :].index"
   ]
  },
  {
   "cell_type": "markdown",
   "metadata": {},
   "source": [
    "### checking that the options are correctly labelled for the likert scales and the binary questions"
   ]
  },
  {
   "cell_type": "markdown",
   "metadata": {},
   "source": [
    "## generating the excel spreadsheet"
   ]
  },
  {
   "cell_type": "markdown",
   "metadata": {},
   "source": [
    "### demographics"
   ]
  },
  {
   "cell_type": "code",
   "execution_count": 11,
   "metadata": {
    "collapsed": false
   },
   "outputs": [],
   "source": [
    "writer = pd.ExcelWriter('ethiopia_plan_example_output.xlsx')"
   ]
  },
  {
   "cell_type": "code",
   "execution_count": 12,
   "metadata": {
    "collapsed": false
   },
   "outputs": [
    {
     "data": {
      "text/plain": [
       "Index([u'D1_region', u'D2_zone', u'D3_woreda', u'D4_camp_zone',\n",
       "       u'D5_division_if_any', u'D6_respondent_id', u'D7_sex_of_respondent',\n",
       "       u'D8_age_of_respondent', u'D9_length_of_time_in_the_camp'],\n",
       "      dtype='object')"
      ]
     },
     "execution_count": 12,
     "metadata": {},
     "output_type": "execute_result"
    }
   ],
   "source": [
    "demographic_columns"
   ]
  },
  {
   "cell_type": "code",
   "execution_count": 13,
   "metadata": {
    "collapsed": false
   },
   "outputs": [
    {
     "data": {
      "text/plain": [
       "['D1_region',\n",
       " 'D2_zone',\n",
       " 'D3_woreda',\n",
       " 'D4_camp_zone',\n",
       " 'D5_division_if_any',\n",
       " 'D7_sex_of_respondent',\n",
       " 'D8_age_of_respondent',\n",
       " 'D9_length_of_time_in_the_camp']"
      ]
     },
     "execution_count": 13,
     "metadata": {},
     "output_type": "execute_result"
    }
   ],
   "source": [
    "demographic_columns = [x for x in demographic_columns if x != 'D6_respondent_id']\n",
    "demographic_columns"
   ]
  },
  {
   "cell_type": "code",
   "execution_count": 14,
   "metadata": {
    "collapsed": false
   },
   "outputs": [
    {
     "name": "stdout",
     "output_type": "stream",
     "text": [
      "D1_region\n",
      "0\n",
      "1\n",
      "D2_zone\n",
      "3\n",
      "1\n",
      "D3_woreda\n",
      "6\n",
      "2\n",
      "D4_camp_zone\n",
      "10\n",
      "2\n",
      "D5_division_if_any\n",
      "14\n",
      "4\n",
      "D7_sex_of_respondent\n",
      "20\n",
      "2\n",
      "D8_age_of_respondent\n",
      "24\n",
      "          D8_age_of_respondent\n",
      "[6, 31]                    146\n",
      "(39, 62]                   132\n",
      "(31, 39]                   122\n",
      "3\n",
      "D9_length_of_time_in_the_camp\n",
      "29\n",
      "13\n"
     ]
    }
   ],
   "source": [
    "row = 0\n",
    "for column in demographic_columns:\n",
    "    print column\n",
    "    print row\n",
    "    if 'age' in column.split('_'):\n",
    "        year_list = []\n",
    "        for index in data.index:\n",
    "            year_list.append(np.int(data.loc[index, column].split()[0]))\n",
    "        data['age_quantiles'] = pd.qcut(year_list, 3)\n",
    "        output = pd.DataFrame(data.loc[:, 'age_quantiles'].value_counts())\n",
    "        output.columns = [column]\n",
    "        print output\n",
    "    else:\n",
    "        output = pd.DataFrame(data.loc[:, column].value_counts())\n",
    "        output.columns = [column]\n",
    "    output.to_excel(writer, 'demographics', startrow=row)\n",
    "    row = row + output.shape[0] + 2\n",
    "    print output.shape[0]"
   ]
  },
  {
   "cell_type": "code",
   "execution_count": 15,
   "metadata": {
    "collapsed": false
   },
   "outputs": [],
   "source": [
    "writer.save()"
   ]
  },
  {
   "cell_type": "code",
   "execution_count": 16,
   "metadata": {
    "collapsed": false
   },
   "outputs": [
    {
     "data": {
      "text/plain": [
       "Index([u'Q1_how_satisfied_are_you_with_the_activities_provided_by_plan_international_in_the_child_friendly_space',\n",
       "       u'Q1b_what_are_you_not_satisfied_with',\n",
       "       u'Q2_are_you_able_to_attend_the_activities_that_you_want_to',\n",
       "       u'Q2b_why_not',\n",
       "       u'Q3_do_you_feel_think_that_the_skills_you_learn_here_will_help_you_in_your_life_afterwards',\n",
       "       u'Q4_do_you_feel_you_have_a_say_in_what_activities_are_provided_in_the_child_friendly_space',\n",
       "       u'Q5_do_you_feel_safe_from_harm_in_this_camp',\n",
       "       u'Q5b_why_do_you_feel_unsafe_in_this_camp',\n",
       "       u'Q6_do_you_know_who_to_talk_to_if_you_have_a_problem_with_the_activities_in_the_child_friendly_space',\n",
       "       u'Q7_if_you_make_a_complaint_about_the_activities_do_you_think_you_will_get_a_response',\n",
       "       u'Q8_do_plan_international_staffs_treat_you_well'],\n",
       "      dtype='object')"
      ]
     },
     "execution_count": 16,
     "metadata": {},
     "output_type": "execute_result"
    }
   ],
   "source": [
    "question_columns"
   ]
  },
  {
   "cell_type": "code",
   "execution_count": 18,
   "metadata": {
    "collapsed": false,
    "scrolled": true
   },
   "outputs": [
    {
     "data": {
      "text/plain": [
       "5_completely    88\n",
       "2_slightly      69\n",
       "6_dont_know     68\n",
       "4_nearly        60\n",
       "1_not_at_all    59\n",
       "3_moderately    56\n",
       "dtype: int64"
      ]
     },
     "execution_count": 18,
     "metadata": {},
     "output_type": "execute_result"
    }
   ],
   "source": [
    "data['Q3_do_you_feel_think_that_the_skills_you_learn_here_will_help_you_in_your_life_afterwards'].value_counts()"
   ]
  },
  {
   "cell_type": "code",
   "execution_count": 19,
   "metadata": {
    "collapsed": true
   },
   "outputs": [],
   "source": [
    "data.loc[data['Q3_do_you_feel_think_that_the_skills_you_learn_here_will_help_you_in_your_life_afterwards']==\n",
    "        '6_dont_know', 'Q3_do_you_feel_think_that_the_skills_you_learn_here_will_help_you_in_your_life_afterwards'] = np.nan"
   ]
  },
  {
   "cell_type": "code",
   "execution_count": 455,
   "metadata": {
    "collapsed": false
   },
   "outputs": [
    {
     "data": {
      "text/html": [
       "<div>\n",
       "<table border=\"1\" class=\"dataframe\">\n",
       "  <thead>\n",
       "    <tr style=\"text-align: right;\">\n",
       "      <th></th>\n",
       "      <th>Q3_do_you_feel_think_that_the_skills_you_learn_here_will_help_you_in_your_life_afterwards</th>\n",
       "      <th>frequency</th>\n",
       "      <th>percent</th>\n",
       "      <th>cum_frequency</th>\n",
       "      <th>cum_proportion</th>\n",
       "    </tr>\n",
       "  </thead>\n",
       "  <tbody>\n",
       "    <tr>\n",
       "      <th>0</th>\n",
       "      <td>1_not_at_all</td>\n",
       "      <td>59</td>\n",
       "      <td>18</td>\n",
       "      <td>59</td>\n",
       "      <td>0.177711</td>\n",
       "    </tr>\n",
       "    <tr>\n",
       "      <th>1</th>\n",
       "      <td>2_slightly</td>\n",
       "      <td>69</td>\n",
       "      <td>21</td>\n",
       "      <td>128</td>\n",
       "      <td>0.385542</td>\n",
       "    </tr>\n",
       "    <tr>\n",
       "      <th>2</th>\n",
       "      <td>3_moderately</td>\n",
       "      <td>56</td>\n",
       "      <td>17</td>\n",
       "      <td>184</td>\n",
       "      <td>0.554217</td>\n",
       "    </tr>\n",
       "    <tr>\n",
       "      <th>3</th>\n",
       "      <td>4_nearly</td>\n",
       "      <td>60</td>\n",
       "      <td>18</td>\n",
       "      <td>244</td>\n",
       "      <td>0.734940</td>\n",
       "    </tr>\n",
       "    <tr>\n",
       "      <th>4</th>\n",
       "      <td>5_completely</td>\n",
       "      <td>88</td>\n",
       "      <td>27</td>\n",
       "      <td>332</td>\n",
       "      <td>1.000000</td>\n",
       "    </tr>\n",
       "  </tbody>\n",
       "</table>\n",
       "</div>"
      ],
      "text/plain": [
       "  Q3_do_you_feel_think_that_the_skills_you_learn_here_will_help_you_in_your_life_afterwards  \\\n",
       "0                                       1_not_at_all                                          \n",
       "1                                         2_slightly                                          \n",
       "2                                       3_moderately                                          \n",
       "3                                           4_nearly                                          \n",
       "4                                       5_completely                                          \n",
       "\n",
       "   frequency  percent  cum_frequency  cum_proportion  \n",
       "0         59       18             59        0.177711  \n",
       "1         69       21            128        0.385542  \n",
       "2         56       17            184        0.554217  \n",
       "3         60       18            244        0.734940  \n",
       "4         88       27            332        1.000000  "
      ]
     },
     "execution_count": 455,
     "metadata": {},
     "output_type": "execute_result"
    }
   ],
   "source": [
    "table = gen_freq_table(data, 'Q3_do_you_feel_think_that_the_skills_you_learn_here_will_help_you_in_your_life_afterwards')\n",
    "table"
   ]
  },
  {
   "cell_type": "code",
   "execution_count": 8,
   "metadata": {
    "collapsed": false
   },
   "outputs": [],
   "source": [
    "def draw_likert_plot(table):\n",
    "    # set up figure parameters\n",
    "    sns.set(style='white', font_scale=1.5)\n",
    "    fig, ax = plt.subplots(figsize=(15,2))\n",
    "    likert_colours = sns.color_palette([\"#f19891\", \"#f8cac3\", \"#e9ecf0\", \"#b2cfb3\", \"#4aa168\", \"#d1b26f\", '#ad8150'])\n",
    "    \n",
    "    # plot the figure\n",
    "    response_categories = range(table.shape[0])\n",
    "    response_categories.reverse()\n",
    "    for cat in response_categories:\n",
    "        sns.barplot(x=table.loc[cat, 'cum_proportion'], color=likert_colours[cat])\n",
    "\n",
    "    # remove black lines around the figure\n",
    "    sns.despine(top=True, right=True, left=True, bottom=True)\n",
    "    # remove the y-scale\n",
    "    ax.set(xticklabels=[])\n",
    "    \n",
    "    #create the white spaces between the squares\n",
    "    rects = ax.patches\n",
    "    [rect.set(edgecolor='white', linewidth=3) for rect in rects]\n",
    "\n",
    "    #add the percentage labels\n",
    "    labels = list(table['percent'].astype(int))\n",
    "    labels.reverse()\n",
    "    labels = [\"{0:.0f}\".format(label) for label in labels]\n",
    "\n",
    "    start_points = [rect.get_width() for rect in rects]\n",
    "    start_points.pop(0)\n",
    "    start_points.append(0.0)\n",
    "    end_points = [rect.get_width() for rect in rects]\n",
    "    differences = np.array(end_points) - np.array(start_points)\n",
    "    label_positions = differences/2 + start_points\n",
    "\n",
    "    for rect, label, label_position in zip(rects, labels, label_positions):\n",
    "        height = rect.get_height()/6\n",
    "        ax.text(rect.get_x() + label_position, height, label,\n",
    "                weight='bold', ha='center', va='bottom', size=30, color='#000000')\n",
    "    \n",
    "    # savefig\n",
    "    question_name = table.columns[0]\n",
    "    plt.tight_layout()\n",
    "    fig.gca().set_axis_off()\n",
    "    fig.subplots_adjust(top = 1, bottom = 0, right = 1, left = 0, \n",
    "            hspace = 0, wspace = 0)\n",
    "    ax.margins(0,0)\n",
    "    fig.gca().xaxis.set_major_locator(plt.NullLocator())\n",
    "    fig.gca().yaxis.set_major_locator(plt.NullLocator())\n",
    "    \n",
    "    plt.savefig('output/' + question_name+'.pdf', dpi=600, bbox_inches='tight', pad_inches=0)"
   ]
  },
  {
   "cell_type": "code",
   "execution_count": 472,
   "metadata": {
    "collapsed": false,
    "scrolled": false
   },
   "outputs": [
    {
     "data": {
      "text/html": [
       "<div>\n",
       "<table border=\"1\" class=\"dataframe\">\n",
       "  <thead>\n",
       "    <tr style=\"text-align: right;\">\n",
       "      <th></th>\n",
       "      <th>Q3_do_you_feel_think_that_the_skills_you_learn_here_will_help_you_in_your_life_afterwards</th>\n",
       "      <th>frequency</th>\n",
       "      <th>percent</th>\n",
       "      <th>cum_frequency</th>\n",
       "      <th>cum_proportion</th>\n",
       "    </tr>\n",
       "  </thead>\n",
       "  <tbody>\n",
       "    <tr>\n",
       "      <th>0</th>\n",
       "      <td>1_not_at_all</td>\n",
       "      <td>59</td>\n",
       "      <td>18</td>\n",
       "      <td>59</td>\n",
       "      <td>0.177711</td>\n",
       "    </tr>\n",
       "    <tr>\n",
       "      <th>1</th>\n",
       "      <td>2_slightly</td>\n",
       "      <td>69</td>\n",
       "      <td>21</td>\n",
       "      <td>128</td>\n",
       "      <td>0.385542</td>\n",
       "    </tr>\n",
       "    <tr>\n",
       "      <th>2</th>\n",
       "      <td>3_moderately</td>\n",
       "      <td>56</td>\n",
       "      <td>17</td>\n",
       "      <td>184</td>\n",
       "      <td>0.554217</td>\n",
       "    </tr>\n",
       "    <tr>\n",
       "      <th>3</th>\n",
       "      <td>4_nearly</td>\n",
       "      <td>60</td>\n",
       "      <td>18</td>\n",
       "      <td>244</td>\n",
       "      <td>0.734940</td>\n",
       "    </tr>\n",
       "    <tr>\n",
       "      <th>4</th>\n",
       "      <td>5_completely</td>\n",
       "      <td>88</td>\n",
       "      <td>27</td>\n",
       "      <td>332</td>\n",
       "      <td>1.000000</td>\n",
       "    </tr>\n",
       "  </tbody>\n",
       "</table>\n",
       "</div>"
      ],
      "text/plain": [
       "  Q3_do_you_feel_think_that_the_skills_you_learn_here_will_help_you_in_your_life_afterwards  \\\n",
       "0                                       1_not_at_all                                          \n",
       "1                                         2_slightly                                          \n",
       "2                                       3_moderately                                          \n",
       "3                                           4_nearly                                          \n",
       "4                                       5_completely                                          \n",
       "\n",
       "   frequency  percent  cum_frequency  cum_proportion  \n",
       "0         59       18             59        0.177711  \n",
       "1         69       21            128        0.385542  \n",
       "2         56       17            184        0.554217  \n",
       "3         60       18            244        0.734940  \n",
       "4         88       27            332        1.000000  "
      ]
     },
     "execution_count": 472,
     "metadata": {},
     "output_type": "execute_result"
    }
   ],
   "source": [
    "table = gen_freq_table(data, 'Q3_do_you_feel_think_that_the_skills_you_learn_here_will_help_you_in_your_life_afterwards')\n",
    "table"
   ]
  },
  {
   "cell_type": "code",
   "execution_count": 473,
   "metadata": {
    "collapsed": false,
    "scrolled": true
   },
   "outputs": [
    {
     "data": {
      "image/png": "[encoded data removed]",
      "text/plain": [
       "<matplotlib.figure.Figure at 0x1bc0b278>"
      ]
     },
     "metadata": {},
     "output_type": "display_data"
    }
   ],
   "source": [
    "draw_likert_plot(gen_freq_table(data, 'Q3_do_you_feel_think_that_the_skills_you_learn_here_will_help_you_in_your_life_afterwards'))"
   ]
  },
  {
   "cell_type": "code",
   "execution_count": 9,
   "metadata": {
    "collapsed": true
   },
   "outputs": [],
   "source": [
    "def draw_binary_plot(table):\n",
    "    # set up figure parameters\n",
    "    sns.set(style='white', font_scale=1.5)\n",
    "    fig, ax = plt.subplots(figsize=(15,2))\n",
    "    binary_colours = sns.color_palette([\"#f19891\", \"#4aa168\", \"#d1b26f\", '#ad8150'])\n",
    "    \n",
    "    # plot the figure\n",
    "    sns.barplot(x=table.loc[1, 'cum_proportion'], color=binary_colours[1])\n",
    "    sns.barplot(x=table.loc[0, 'cum_proportion'], color=binary_colours[0])\n",
    "    \n",
    "    # remove black lines around the figure\n",
    "    sns.despine(top=True, right=True, left=True, bottom=True)\n",
    "    # remove the y-scale\n",
    "    ax.set(xticklabels=[])\n",
    "    \n",
    "    #create the white spaces between the squares\n",
    "    rects = ax.patches\n",
    "    [rect.set(edgecolor='white', linewidth=3) for rect in rects]\n",
    "\n",
    "    #add the percentage labels\n",
    "    labels = list(table['percent'].astype(int))\n",
    "    labels.reverse()\n",
    "    labels = [\"{0:.0f}\".format(label) for label in labels]\n",
    "\n",
    "    start_points = [rect.get_width() for rect in rects]\n",
    "    start_points.pop(0)\n",
    "    start_points.append(0.0)\n",
    "    end_points = [rect.get_width() for rect in rects]\n",
    "    differences = np.array(end_points) - np.array(start_points)\n",
    "    label_positions = differences/2 + start_points\n",
    "\n",
    "    for rect, label, label_position in zip(rects, labels, label_positions):\n",
    "        height = rect.get_height()/6\n",
    "        ax.text(rect.get_x() + label_position, height, label,\n",
    "                weight='bold', ha='center', va='bottom', size=30, color='#000000')\n",
    "        \n",
    "    # savefig\n",
    "    question_name = table.columns[0]\n",
    "    plt.tight_layout()\n",
    "    plt.savefig('output/'+question_name+'.pdf', dpi=600)"
   ]
  },
  {
   "cell_type": "code",
   "execution_count": 10,
   "metadata": {
    "collapsed": false
   },
   "outputs": [],
   "source": [
    "def reverse_question_scoring(data, question):\n",
    "    response_numbers = [np.int(answer.split('_')[0]) for answer in data[question]]\n",
    "    response_numbers = np.array(response_numbers)\n",
    "    response_numbers = max(response_numbers) - response_numbers + 1\n",
    "    response_splits = [answer.split('_') for answer in data[question]]\n",
    "    updated_responses = []\n",
    "    for x in range(len(response_splits)):\n",
    "        updated_responses.append(np.str(response_numbers[x]) + '_' + response_splits[x][1])\n",
    "    return updated_responses"
   ]
  },
  {
   "cell_type": "code",
   "execution_count": 480,
   "metadata": {
    "collapsed": true
   },
   "outputs": [],
   "source": [
    "data['Q2_are_you_able_to_attend_the_activities_that_you_want_to'] = reverse_question_scoring(data, 'Q2_are_you_able_to_attend_the_activities_that_you_want_to')"
   ]
  },
  {
   "cell_type": "code",
   "execution_count": 481,
   "metadata": {
    "collapsed": false,
    "scrolled": true
   },
   "outputs": [
    {
     "data": {
      "image/png": "[encoded data removed]",
      "text/plain": [
       "<matplotlib.figure.Figure at 0x1f1000f0>"
      ]
     },
     "metadata": {},
     "output_type": "display_data"
    }
   ],
   "source": [
    "draw_binary_plot(gen_freq_table(data, 'Q2_are_you_able_to_attend_the_activities_that_you_want_to'))"
   ]
  },
  {
   "cell_type": "markdown",
   "metadata": {},
   "source": [
    "## Code for disaggregation Tables and plots"
   ]
  },
  {
   "cell_type": "code",
   "execution_count": 36,
   "metadata": {
    "collapsed": false
   },
   "outputs": [
    {
     "data": {
      "text/plain": [
       "['D1_region',\n",
       " 'D2_zone',\n",
       " 'D3_woreda',\n",
       " 'D4_camp_zone',\n",
       " 'D5_division_if_any',\n",
       " 'D7_sex_of_respondent',\n",
       " 'D8_age_of_respondent',\n",
       " 'D9_length_of_time_in_the_camp']"
      ]
     },
     "execution_count": 36,
     "metadata": {},
     "output_type": "execute_result"
    }
   ],
   "source": [
    "demographic_columns"
   ]
  },
  {
   "cell_type": "code",
   "execution_count": 11,
   "metadata": {
    "collapsed": false
   },
   "outputs": [],
   "source": [
    "def gen_disag_table(data, question, breakdown):\n",
    "    table = data.groupby(breakdown)[question].value_counts()\n",
    "    table = pd.DataFrame(table)\n",
    "    table = table.reset_index()\n",
    "    table.columns = breakdown, question, 'frequency',\n",
    "    table = table.sort_values(by=[breakdown, question])\n",
    "    table.reset_index(inplace=True, drop=True)\n",
    "    table\n",
    "    table['percent'] = table['frequency']\n",
    "    table['cum_frequency'] = table['frequency']\n",
    "    table['cum_proportion'] = np.nan\n",
    "\n",
    "    for category in table[breakdown].unique():    \n",
    "        counter = 0\n",
    "        for index in table.loc[table[breakdown]==category].index:\n",
    "            if counter > 0:\n",
    "                table.loc[index, 'cum_frequency'] = table.loc[index, 'frequency'] + table.loc[index-1, 'cum_frequency']\n",
    "            counter +=1\n",
    "        table.loc[table[breakdown]==category, 'percent'] = (table.loc[table[breakdown]==category, 'percent']/\n",
    "        table.loc[table.loc[table[breakdown]==category, :].index.max(), 'cum_frequency'])\n",
    "        table.loc[table[breakdown]==category, 'percent'] = table.loc[table[breakdown]==category, 'percent']*100\n",
    "        table.loc[table[breakdown]==category, 'cum_proportion'] = (table.loc[table[breakdown]==category, 'cum_frequency']/\n",
    "        table.loc[table.loc[table[breakdown]==category, :].index.max(), 'cum_frequency'])\n",
    "    return table"
   ]
  },
  {
   "cell_type": "code",
   "execution_count": 344,
   "metadata": {
    "collapsed": false
   },
   "outputs": [],
   "source": [
    "table = gen_disag_table(data, 'Q2_are_you_able_to_attend_the_activities_that_you_want_to', 'D7_sex_of_respondent')"
   ]
  },
  {
   "cell_type": "code",
   "execution_count": 345,
   "metadata": {
    "collapsed": false,
    "scrolled": true
   },
   "outputs": [
    {
     "data": {
      "text/html": [
       "<div>\n",
       "<table border=\"1\" class=\"dataframe\">\n",
       "  <thead>\n",
       "    <tr style=\"text-align: right;\">\n",
       "      <th></th>\n",
       "      <th>D7_sex_of_respondent</th>\n",
       "      <th>Q2_are_you_able_to_attend_the_activities_that_you_want_to</th>\n",
       "      <th>frequency</th>\n",
       "      <th>percent</th>\n",
       "      <th>cum_frequency</th>\n",
       "      <th>cum_proportion</th>\n",
       "    </tr>\n",
       "  </thead>\n",
       "  <tbody>\n",
       "    <tr>\n",
       "      <th>0</th>\n",
       "      <td>1_female</td>\n",
       "      <td>1_no</td>\n",
       "      <td>84</td>\n",
       "      <td>43.979058</td>\n",
       "      <td>84</td>\n",
       "      <td>0.439791</td>\n",
       "    </tr>\n",
       "    <tr>\n",
       "      <th>1</th>\n",
       "      <td>1_female</td>\n",
       "      <td>2_yes</td>\n",
       "      <td>107</td>\n",
       "      <td>56.020942</td>\n",
       "      <td>191</td>\n",
       "      <td>1.000000</td>\n",
       "    </tr>\n",
       "    <tr>\n",
       "      <th>2</th>\n",
       "      <td>2_male</td>\n",
       "      <td>1_no</td>\n",
       "      <td>105</td>\n",
       "      <td>50.239234</td>\n",
       "      <td>105</td>\n",
       "      <td>0.502392</td>\n",
       "    </tr>\n",
       "    <tr>\n",
       "      <th>3</th>\n",
       "      <td>2_male</td>\n",
       "      <td>2_yes</td>\n",
       "      <td>104</td>\n",
       "      <td>49.760766</td>\n",
       "      <td>209</td>\n",
       "      <td>1.000000</td>\n",
       "    </tr>\n",
       "  </tbody>\n",
       "</table>\n",
       "</div>"
      ],
      "text/plain": [
       "  D7_sex_of_respondent  \\\n",
       "0             1_female   \n",
       "1             1_female   \n",
       "2               2_male   \n",
       "3               2_male   \n",
       "\n",
       "  Q2_are_you_able_to_attend_the_activities_that_you_want_to  frequency  \\\n",
       "0                                               1_no                84   \n",
       "1                                              2_yes               107   \n",
       "2                                               1_no               105   \n",
       "3                                              2_yes               104   \n",
       "\n",
       "     percent  cum_frequency  cum_proportion  \n",
       "0  43.979058             84        0.439791  \n",
       "1  56.020942            191        1.000000  \n",
       "2  50.239234            105        0.502392  \n",
       "3  49.760766            209        1.000000  "
      ]
     },
     "execution_count": 345,
     "metadata": {},
     "output_type": "execute_result"
    }
   ],
   "source": [
    "table"
   ]
  },
  {
   "cell_type": "code",
   "execution_count": 67,
   "metadata": {
    "collapsed": false
   },
   "outputs": [],
   "source": [
    "def draw_disag_plot(table, likert=True):\n",
    "    likert_colours = sns.color_palette([\"#f19891\", \"#f8cac3\", \"#e9ecf0\", \"#b2cfb3\", \"#4aa168\", \"#d1b26f\", '#ad8150'])\n",
    "    binary_colours = sns.color_palette([\"#f19891\", \"#4aa168\", \"#d1b26f\", '#ad8150'])\n",
    "    if likert == True:\n",
    "        colours = likert_colours\n",
    "    else:\n",
    "        colours = binary_colours\n",
    "\n",
    "    # this is a stiupid formula so that the figure gets 2 inches wider for each category, with an additional inch for\n",
    "    # the whitespace between each category\n",
    "    fig_height = len(table.loc[:, table.columns[0]].unique())*2\n",
    "    fig, ax = plt.subplots(figsize=(15, fig_height))\n",
    "    \n",
    "    # preparing and plotting the basic graph\n",
    "    table2 = table.pivot(index=table.columns[0], columns=table.columns[1], values='percent')\n",
    "    table2.plot(kind='barh', stacked=True, color=colours, ax=ax, legend=False, width=0.6)\n",
    "\n",
    "    # remove black lines around the figure\n",
    "    sns.despine(top=True, right=True, left=True, bottom=True)\n",
    "    ax.set(xticklabels=[], ylabel='', yticklabels=[])\n",
    "\n",
    "    #create the white spaces between the squares\n",
    "    rects = ax.patches\n",
    "    [rect.set(edgecolor='white', linewidth=3) for rect in rects]\n",
    "\n",
    "    # Adding the percentage labels\n",
    "    for p in ax.patches:\n",
    "        ax.annotate(\"{0:.0f}\".format(p.get_width()),\n",
    "                    (p.get_x() + p.get_width()/2-2, p.get_y()), xytext=(0, 30), textcoords='offset points',\n",
    "                   weight='bold', size=30)\n",
    "    # savefig\n",
    "    question_name = table2.columns.name + '_' + table2.index.name + '_alternatives'\n",
    "    for alternative in table.iloc[:, 1].unique():\n",
    "        question_name = question_name + '_' + np.str(alternative)\n",
    "    plt.tight_layout()\n",
    "    fig.gca().set_axis_off()\n",
    "    fig.subplots_adjust(top = 1, bottom = 0, right = 1, left = 0, \n",
    "    hspace = 0, wspace = 0)\n",
    "    ax.margins(0,0)\n",
    "    fig.gca().xaxis.set_major_locator(plt.NullLocator())\n",
    "    fig.gca().yaxis.set_major_locator(plt.NullLocator())\n",
    "    plt.savefig('output/' + table2.columns.name + '_breakdowns' + question_name+'.pdf', dpi=600, bbox_inches='tight', pad_inches=0)"
   ]
  },
  {
   "cell_type": "code",
   "execution_count": 450,
   "metadata": {
    "collapsed": false,
    "scrolled": true
   },
   "outputs": [
    {
     "data": {
      "image/png": "[encoded data removed]",
      "text/plain": [
       "<matplotlib.figure.Figure at 0x1bb49be0>"
      ]
     },
     "metadata": {},
     "output_type": "display_data"
    }
   ],
   "source": [
    "draw_disag_plot(gen_disag_table(data, 'Q2_are_you_able_to_attend_the_activities_that_you_want_to', 'D7_sex_of_respondent'), likert=False)"
   ]
  },
  {
   "cell_type": "code",
   "execution_count": 451,
   "metadata": {
    "collapsed": false,
    "scrolled": true
   },
   "outputs": [
    {
     "data": {
      "image/png": "[encoded data removed]",
      "text/plain": [
       "<matplotlib.figure.Figure at 0x1bc21668>"
      ]
     },
     "metadata": {},
     "output_type": "display_data"
    }
   ],
   "source": [
    "draw_disag_plot(gen_disag_table(data, 'Q3_do_you_feel_think_that_the_skills_you_learn_here_will_help_you_in_your_life_afterwards', 'D7_sex_of_respondent'), likert=True)"
   ]
  },
  {
   "cell_type": "code",
   "execution_count": 452,
   "metadata": {
    "collapsed": false,
    "scrolled": true
   },
   "outputs": [
    {
     "data": {
      "image/png": "[encoded data removed]",
      "text/plain": [
       "<matplotlib.figure.Figure at 0x1f0b9710>"
      ]
     },
     "metadata": {},
     "output_type": "display_data"
    }
   ],
   "source": [
    "draw_disag_plot(gen_disag_table(data, 'Q3_do_you_feel_think_that_the_skills_you_learn_here_will_help_you_in_your_life_afterwards', 'D5_division_if_any'), likert=True)"
   ]
  },
  {
   "cell_type": "markdown",
   "metadata": {},
   "source": [
    "# Practice, Complete Analysis"
   ]
  },
  {
   "cell_type": "code",
   "execution_count": 3,
   "metadata": {
    "collapsed": false
   },
   "outputs": [
    {
     "data": {
      "image/png": "[encoded data removed]",
      "text/plain": [
       "<matplotlib.figure.Figure at 0xb79cc88>"
      ]
     },
     "metadata": {},
     "output_type": "display_data"
    }
   ],
   "source": [
    "likert_colours = sns.color_palette([\"#f19891\", \"#f8cac3\", \"#e9ecf0\", \"#b2cfb3\", \"#4aa168\", \"#d1b26f\", '#ad8150'])\n",
    "binary_colours = sns.color_palette([\"#f19891\", \"#4aa168\", \"#d1b26f\", '#ad8150'])\n",
    "sns.palplot(likert_colours)"
   ]
  },
  {
   "cell_type": "code",
   "execution_count": 4,
   "metadata": {
    "collapsed": false
   },
   "outputs": [
    {
     "data": {
      "image/png": "[encoded data removed]",
      "text/plain": [
       "<matplotlib.figure.Figure at 0xbeef780>"
      ]
     },
     "metadata": {},
     "output_type": "display_data"
    }
   ],
   "source": [
    "binary_colours = sns.color_palette([\"#f19891\", \"#4aa168\", \"#d1b26f\", '#ad8150'])\n",
    "sns.palplot(binary_colours)"
   ]
  },
  {
   "cell_type": "markdown",
   "metadata": {},
   "source": [
    "### Loading The Data"
   ]
  },
  {
   "cell_type": "code",
   "execution_count": 5,
   "metadata": {
    "collapsed": true
   },
   "outputs": [],
   "source": [
    "data_path = '../example_data/ethiopia/ethiopia_plan_example_data.csv'\n",
    "template_path = '../templates/ethiopia/ethiopia_plan_template.csv'\n",
    "data = pd.read_csv(data_path)\n",
    "template = pd.read_csv(template_path, index_col=0)\n",
    "template = template.transpose()"
   ]
  },
  {
   "cell_type": "code",
   "execution_count": 9,
   "metadata": {
    "collapsed": true
   },
   "outputs": [],
   "source": [
    "def mismatch_search(data, template):\n",
    "    mismatches = []\n",
    "    mismatch_numbers = []\n",
    "    mismatch_number = 0\n",
    "    for column in data.columns:\n",
    "        if column not in template.index:\n",
    "            mismatches.append(column)\n",
    "            mismatch_numbers.append(mismatch_number)\n",
    "        mismatch_number +=1\n",
    "    print mismatches\n",
    "    return mismatches, mismatch_numbers"
   ]
  },
  {
   "cell_type": "code",
   "execution_count": 6,
   "metadata": {
    "collapsed": true
   },
   "outputs": [],
   "source": [
    "def find_suggested_labels(mismatches, template):\n",
    "    suggestion_list = []\n",
    "    mismatch_prefixes = [mismatch.split('_')[0] for mismatch in mismatches]\n",
    "    for label in template.index:\n",
    "        if label.split('_')[0] in mismatch_prefixes:\n",
    "            suggestion_list.append(label)\n",
    "    return suggestion_list"
   ]
  },
  {
   "cell_type": "code",
   "execution_count": 7,
   "metadata": {
    "collapsed": false
   },
   "outputs": [],
   "source": [
    "def gen_match_dict(mismatches, suggestions):\n",
    "    matching_dict ={}\n",
    "    mismatches_no_partner = []\n",
    "    for mismatch in mismatches:\n",
    "        match = False\n",
    "        for suggestion in suggestions:\n",
    "                if mismatch.split('_')[0] == suggestion.split('_')[0]:\n",
    "                    matching_dict[mismatch] = suggestion\n",
    "                    match = True\n",
    "        if match == False:\n",
    "            mismatches_no_partner.append(mismatch)\n",
    "            \n",
    "    if len(mismatches) == len(matching_dict):\n",
    "        return matching_dict\n",
    "    else:\n",
    "        return np.nan()\n",
    "        print 'Matching failed, the following data columns lack suggestions:'\n",
    "        print mismatches_no_partner"
   ]
  },
  {
   "cell_type": "markdown",
   "metadata": {},
   "source": [
    "### Check if column names doesn't match"
   ]
  },
  {
   "cell_type": "code",
   "execution_count": 10,
   "metadata": {
    "collapsed": false,
    "scrolled": false
   },
   "outputs": [
    {
     "name": "stdout",
     "output_type": "stream",
     "text": [
      "['D5_division', 'D9_length_of_time_in_camp', 'A4_start_time', 'Q3_do_you_feel_think_that_the_skills_you_learn_here_will_help_you_in_your_life_afterwards ', 'Q4_do_you_feel_you_have_a_say_in_what_activities_are_provided_in_the_child_friendly_space ']\n"
     ]
    }
   ],
   "source": [
    "mismatches, mismatch_numbers = mismatch_search(data, template)"
   ]
  },
  {
   "cell_type": "markdown",
   "metadata": {},
   "source": [
    "### Suggest matches for mismatched column names"
   ]
  },
  {
   "cell_type": "code",
   "execution_count": 11,
   "metadata": {
    "collapsed": false
   },
   "outputs": [],
   "source": [
    "suggested_matches = find_suggested_labels(mismatches, template)"
   ]
  },
  {
   "cell_type": "markdown",
   "metadata": {},
   "source": [
    "### create a dictionary to easily change the column names"
   ]
  },
  {
   "cell_type": "code",
   "execution_count": 12,
   "metadata": {
    "collapsed": false,
    "scrolled": true
   },
   "outputs": [],
   "source": [
    "match_dict = gen_match_dict(mismatches, suggested_matches)"
   ]
  },
  {
   "cell_type": "markdown",
   "metadata": {},
   "source": [
    "### rename the mismatched columns"
   ]
  },
  {
   "cell_type": "code",
   "execution_count": 13,
   "metadata": {
    "collapsed": false
   },
   "outputs": [],
   "source": [
    "data = data.rename(columns=match_dict)"
   ]
  },
  {
   "cell_type": "markdown",
   "metadata": {},
   "source": [
    "### check that the issue has been resolved"
   ]
  },
  {
   "cell_type": "code",
   "execution_count": 14,
   "metadata": {
    "collapsed": false
   },
   "outputs": [
    {
     "name": "stdout",
     "output_type": "stream",
     "text": [
      "[]\n"
     ]
    }
   ],
   "source": [
    "mismatches, mismatch_numbers = mismatch_search(data, template)"
   ]
  },
  {
   "cell_type": "markdown",
   "metadata": {},
   "source": [
    "### Get the column groups"
   ]
  },
  {
   "cell_type": "code",
   "execution_count": 15,
   "metadata": {
    "collapsed": true
   },
   "outputs": [],
   "source": [
    "demographic_columns = template.loc[template['question_section'].isin(['demograpic_data', 'demographic_data']), :].index\n",
    "collection_columns = template.loc[template['question_section']=='collection_info', :].index\n",
    "question_columns = template.loc[template['question_section']=='main_questions', :].index\n",
    "\n",
    "template_questions = template.loc[question_columns] \n",
    "breakdown_columns = template_questions.loc[template_questions['question_type'].isin(['binary', 'likert']), :].index\n",
    "mean_columns = template_questions.loc[template_questions['question_type'].isin(['likert']), :].index"
   ]
  },
  {
   "cell_type": "markdown",
   "metadata": {},
   "source": [
    "### response overviews"
   ]
  },
  {
   "cell_type": "code",
   "execution_count": 16,
   "metadata": {
    "collapsed": false
   },
   "outputs": [],
   "source": [
    "def print_response_overview(data, columns):\n",
    "    for column in columns:\n",
    "        print column\n",
    "        print np.sort(data.loc[:, column].unique())\n",
    "        print"
   ]
  },
  {
   "cell_type": "code",
   "execution_count": 17,
   "metadata": {
    "collapsed": false
   },
   "outputs": [
    {
     "name": "stdout",
     "output_type": "stream",
     "text": [
      "D1_region\n",
      "['region_1']\n",
      "\n",
      "D2_zone\n",
      "['zone_a']\n",
      "\n",
      "D3_woreda\n",
      "['woreda_1' 'woreda_2']\n",
      "\n",
      "D4_camp_zone\n",
      "['camp_zone_a' 'camp_zone_b']\n",
      "\n",
      "D5_division_if_any\n",
      "['division_1' 'division_2' 'division_3' 'division_4']\n",
      "\n",
      "D6_respondent_id\n",
      "[  1   2   3   4   5   6   7   8   9  10  11  12  13  14  15  16  17  18\n",
      "  19  20  21  22  23  24  25  26  27  28  29  30  31  32  33  34  35  36\n",
      "  37  38  39  40  41  42  43  44  45  46  47  48  49  50  51  52  53  54\n",
      "  55  56  57  58  59  60  61  62  63  64  65  66  67  68  69  70  71  72\n",
      "  73  74  75  76  77  78  79  80  81  82  83  84  85  86  87  88  89  90\n",
      "  91  92  93  94  95  96  97  98  99 100 101 102 103 104 105 106 107 108\n",
      " 109 110 111 112 113 114 115 116 117 118 119 120 121 122 123 124 125 126\n",
      " 127 128 129 130 131 132 133 134 135 136 137 138 139 140 141 142 143 144\n",
      " 145 146 147 148 149 150 151 152 153 154 155 156 157 158 159 160 161 162\n",
      " 163 164 165 166 167 168 169 170 171 172 173 174 175 176 177 178 179 180\n",
      " 181 182 183 184 185 186 187 188 189 190 191 192 193 194 195 196 197 198\n",
      " 199 200 201 202 203 204 205 206 207 208 209 210 211 212 213 214 215 216\n",
      " 217 218 219 220 221 222 223 224 225 226 227 228 229 230 231 232 233 234\n",
      " 235 236 237 238 239 240 241 242 243 244 245 246 247 248 249 250 251 252\n",
      " 253 254 255 256 257 258 259 260 261 262 263 264 265 266 267 268 269 270\n",
      " 271 272 273 274 275 276 277 278 279 280 281 282 283 284 285 286 287 288\n",
      " 289 290 291 292 293 294 295 296 297 298 299 300 301 302 303 304 305 306\n",
      " 307 308 309 310 311 312 313 314 315 316 317 318 319 320 321 322 323 324\n",
      " 325 326 327 328 329 330 331 332 333 334 335 336 337 338 339 340 341 342\n",
      " 343 344 345 346 347 348 349 350 351 352 353 354 355 356 357 358 359 360\n",
      " 361 362 363 364 365 366 367 368 369 370 371 372 373 374 375 376 377 378\n",
      " 379 380 381 382 383 384 385 386 387 388 389 390 391 392 393 394 395 396\n",
      " 397 398 399 400]\n",
      "\n",
      "D7_sex_of_respondent\n",
      "['1_female' '2_male']\n",
      "\n",
      "D8_age_of_respondent\n",
      "['10 years' '11 years' '12 years' '13 years' '14 years' '15 years'\n",
      " '16 years' '17 years' '18 years' '19 years' '20 years' '21 years'\n",
      " '22 years' '23 years' '24 years' '25 years' '26 years' '27 years'\n",
      " '28 years' '29 years' '30 years' '31 years' '32 years' '33 years'\n",
      " '34 years' '35 years' '36 years' '37 years' '38 years' '39 years'\n",
      " '40 years' '41 years' '42 years' '43 years' '44 years' '45 years'\n",
      " '46 years' '47 years' '48 years' '49 years' '50 years' '51 years'\n",
      " '52 years' '53 years' '54 years' '55 years' '56 years' '58 years'\n",
      " '6 years' '60 years' '62 years']\n",
      "\n",
      "D9_length_of_time_in_the_camp\n",
      "['1 years' '10 years' '11 years' '12 years' '13 years' '2 years' '3 years'\n",
      " '4 years' '5 years' '6 years' '7 years' '8 years' '9 years']\n",
      "\n"
     ]
    }
   ],
   "source": [
    "print_response_overview(data, demographic_columns)"
   ]
  },
  {
   "cell_type": "markdown",
   "metadata": {},
   "source": [
    "### Removing the id variable from the summary because it doesn't carry any meaningful information"
   ]
  },
  {
   "cell_type": "code",
   "execution_count": 18,
   "metadata": {
    "collapsed": false
   },
   "outputs": [],
   "source": [
    "demographic_columns = list(demographic_columns)\n",
    "demographic_columns.remove('D6_respondent_id')"
   ]
  },
  {
   "cell_type": "code",
   "execution_count": 19,
   "metadata": {
    "collapsed": false
   },
   "outputs": [
    {
     "data": {
      "text/plain": [
       "['D1_region',\n",
       " 'D2_zone',\n",
       " 'D3_woreda',\n",
       " 'D4_camp_zone',\n",
       " 'D5_division_if_any',\n",
       " 'D7_sex_of_respondent',\n",
       " 'D8_age_of_respondent',\n",
       " 'D9_length_of_time_in_the_camp']"
      ]
     },
     "execution_count": 19,
     "metadata": {},
     "output_type": "execute_result"
    }
   ],
   "source": [
    "demographic_columns"
   ]
  },
  {
   "cell_type": "code",
   "execution_count": 20,
   "metadata": {
    "collapsed": false,
    "scrolled": true
   },
   "outputs": [
    {
     "name": "stdout",
     "output_type": "stream",
     "text": [
      "Q1_how_satisfied_are_you_with_the_activities_provided_by_plan_international_in_the_child_friendly_space\n",
      "['1_not_at_all' '2_slightly' '3_moderately' '4_nearly' '5_completely'\n",
      " '6_dont_know']\n",
      "\n",
      "Q2_are_you_able_to_attend_the_activities_that_you_want_to\n",
      "['1_yes' '2_no']\n",
      "\n",
      "Q3_do_you_feel_think_that_the_skills_you_learn_here_will_help_you_in_your_life_afterwards\n",
      "['1_not_at_all' '2_slightly' '3_moderately' '4_nearly' '5_completely'\n",
      " '6_dont_know']\n",
      "\n",
      "Q4_do_you_feel_you_have_a_say_in_what_activities_are_provided_in_the_child_friendly_space\n",
      "['1_not_at_all' '2_slightly' '3_moderately' '4_nearly' '5_completely'\n",
      " '6_dont_know']\n",
      "\n",
      "Q5_do_you_feel_safe_from_harm_in_this_camp\n",
      "['1_never' '2_rarely' '3_sometimes' '4_most_of_the_time' '5_always'\n",
      " '6_dont' 'know']\n",
      "\n",
      "Q6_do_you_know_who_to_talk_to_if_you_have_a_problem_with_the_activities_in_the_child_friendly_space\n",
      "['1_yes' '2_no']\n",
      "\n",
      "Q7_if_you_make_a_complaint_about_the_activities_do_you_think_you_will_get_a_response\n",
      "['1_not_at_all' '2_slightly' '3_moderately' '4_nearly' '5_completely'\n",
      " '6_dont_know']\n",
      "\n",
      "Q8_do_plan_international_staffs_treat_you_well\n",
      "['1_not_at_all' '2_slightly' '3_moderately' '4_nearly' '5_completely'\n",
      " '6_dont_know']\n",
      "\n"
     ]
    }
   ],
   "source": [
    "print_response_overview(data, breakdown_columns)"
   ]
  },
  {
   "cell_type": "markdown",
   "metadata": {},
   "source": [
    "### Determine proportion of don't knows and delete them"
   ]
  },
  {
   "cell_type": "code",
   "execution_count": 21,
   "metadata": {
    "collapsed": false
   },
   "outputs": [],
   "source": [
    "def count_dont_knows(data, template, columns):\n",
    "    for column in columns:\n",
    "        temp = pd.DataFrame(data.loc[:, column].value_counts())\n",
    "        temp = temp.reset_index()\n",
    "        temp.columns = column, 'frequency'\n",
    "        temp = temp.sort_values(by=column).reset_index(drop=True)\n",
    "        if template.loc[column, 'question_type'] == 'likert':\n",
    "            print temp.loc[5:, :]\n",
    "        elif template.loc[column, 'question_type'] == 'likert':\n",
    "            print temp.loc[2:, :]"
   ]
  },
  {
   "cell_type": "code",
   "execution_count": 22,
   "metadata": {
    "collapsed": false,
    "scrolled": false
   },
   "outputs": [
    {
     "name": "stdout",
     "output_type": "stream",
     "text": [
      "  Q1_how_satisfied_are_you_with_the_activities_provided_by_plan_international_in_the_child_friendly_space  \\\n",
      "5                                        6_dont_know                                                        \n",
      "\n",
      "   frequency  \n",
      "5         73  \n",
      "  Q3_do_you_feel_think_that_the_skills_you_learn_here_will_help_you_in_your_life_afterwards  \\\n",
      "5                                        6_dont_know                                          \n",
      "\n",
      "   frequency  \n",
      "5         68  \n",
      "  Q4_do_you_feel_you_have_a_say_in_what_activities_are_provided_in_the_child_friendly_space  \\\n",
      "5                                        6_dont_know                                          \n",
      "\n",
      "   frequency  \n",
      "5         74  \n",
      "  Q5_do_you_feel_safe_from_harm_in_this_camp  frequency\n",
      "5                                     6_dont         57\n",
      "6                                       know         51\n",
      "  Q7_if_you_make_a_complaint_about_the_activities_do_you_think_you_will_get_a_response  \\\n",
      "5                                        6_dont_know                                     \n",
      "\n",
      "   frequency  \n",
      "5         66  \n",
      "  Q8_do_plan_international_staffs_treat_you_well  frequency\n",
      "5                                    6_dont_know         64\n"
     ]
    }
   ],
   "source": [
    "count_dont_knows(data, template, breakdown_columns)"
   ]
  },
  {
   "cell_type": "markdown",
   "metadata": {},
   "source": [
    "### These are obviously high enough to be included in the report, but because this is an exercise I will delete them all"
   ]
  },
  {
   "cell_type": "code",
   "execution_count": 23,
   "metadata": {
    "collapsed": true
   },
   "outputs": [],
   "source": [
    "def delete_dont_knows(data, columns):\n",
    "     data.loc[:, columns] = data.loc[:, columns].replace(['6_dont_know', '3_dont_know', '7_dont_want_to_answer', '4_dont_want_to_answer'], np.nan)"
   ]
  },
  {
   "cell_type": "code",
   "execution_count": 24,
   "metadata": {
    "collapsed": false
   },
   "outputs": [],
   "source": [
    "delete_dont_knows(data, breakdown_columns)"
   ]
  },
  {
   "cell_type": "code",
   "execution_count": 25,
   "metadata": {
    "collapsed": false
   },
   "outputs": [],
   "source": [
    "data.loc[:, breakdown_columns] = data.loc[:, breakdown_columns].replace(['6_dont', 'know'], np.nan)"
   ]
  },
  {
   "cell_type": "markdown",
   "metadata": {},
   "source": [
    "### Reverse code the binary questions:"
   ]
  },
  {
   "cell_type": "code",
   "execution_count": 26,
   "metadata": {
    "collapsed": false
   },
   "outputs": [],
   "source": [
    "def reverse_question_scoring(data, question):\n",
    "    response_numbers = [np.int(answer.split('_')[0]) for answer in data[question]]\n",
    "    response_numbers = np.array(response_numbers)\n",
    "    response_numbers = max(response_numbers) - response_numbers + 1\n",
    "    response_splits = [answer.split('_') for answer in data[question]]\n",
    "    updated_responses = []\n",
    "    for x in range(len(response_splits)):\n",
    "        updated_responses.append(np.str(response_numbers[x]) + '_' + response_splits[x][1])\n",
    "    return updated_responses"
   ]
  },
  {
   "cell_type": "markdown",
   "metadata": {},
   "source": [
    "### Reverse the scoring of the binary questions because they are currently not going from negative to positive"
   ]
  },
  {
   "cell_type": "code",
   "execution_count": 27,
   "metadata": {
    "collapsed": true
   },
   "outputs": [],
   "source": [
    "data.loc[:, 'Q2_are_you_able_to_attend_the_activities_that_you_want_to'] = reverse_question_scoring(data, 'Q2_are_you_able_to_attend_the_activities_that_you_want_to')\n",
    "data.loc[:, 'Q6_do_you_know_who_to_talk_to_if_you_have_a_problem_with_the_activities_in_the_child_friendly_space'] = reverse_question_scoring(data, 'Q6_do_you_know_who_to_talk_to_if_you_have_a_problem_with_the_activities_in_the_child_friendly_space')"
   ]
  },
  {
   "cell_type": "code",
   "execution_count": 28,
   "metadata": {
    "collapsed": false,
    "scrolled": false
   },
   "outputs": [
    {
     "name": "stdout",
     "output_type": "stream",
     "text": [
      "Q1_how_satisfied_are_you_with_the_activities_provided_by_plan_international_in_the_child_friendly_space\n",
      "[nan '1_not_at_all' '2_slightly' '3_moderately' '4_nearly' '5_completely']\n",
      "\n",
      "Q2_are_you_able_to_attend_the_activities_that_you_want_to\n",
      "['1_no' '2_yes']\n",
      "\n",
      "Q3_do_you_feel_think_that_the_skills_you_learn_here_will_help_you_in_your_life_afterwards\n",
      "[nan '1_not_at_all' '2_slightly' '3_moderately' '4_nearly' '5_completely']\n",
      "\n",
      "Q4_do_you_feel_you_have_a_say_in_what_activities_are_provided_in_the_child_friendly_space\n",
      "[nan '1_not_at_all' '2_slightly' '3_moderately' '4_nearly' '5_completely']\n",
      "\n",
      "Q5_do_you_feel_safe_from_harm_in_this_camp\n",
      "[nan '1_never' '2_rarely' '3_sometimes' '4_most_of_the_time' '5_always']\n",
      "\n",
      "Q6_do_you_know_who_to_talk_to_if_you_have_a_problem_with_the_activities_in_the_child_friendly_space\n",
      "['1_no' '2_yes']\n",
      "\n",
      "Q7_if_you_make_a_complaint_about_the_activities_do_you_think_you_will_get_a_response\n",
      "[nan '1_not_at_all' '2_slightly' '3_moderately' '4_nearly' '5_completely']\n",
      "\n",
      "Q8_do_plan_international_staffs_treat_you_well\n",
      "[nan '1_not_at_all' '2_slightly' '3_moderately' '4_nearly' '5_completely']\n",
      "\n"
     ]
    }
   ],
   "source": [
    "print_response_overview(data, breakdown_columns)"
   ]
  },
  {
   "cell_type": "code",
   "execution_count": 29,
   "metadata": {
    "collapsed": false
   },
   "outputs": [],
   "source": [
    "def bin_quantities(data, template, quantiles=3):\n",
    "    for column in template.loc[template['question_type']=='quantity', :].index:\n",
    "        print column\n",
    "        extracted_quantities = []\n",
    "        for index in data.index:\n",
    "            extracted_quantities.append(np.int(data.loc[index, column].split()[0]))\n",
    "        data[column+'_quantiles'] = pd.qcut(extracted_quantities, quantiles)"
   ]
  },
  {
   "cell_type": "code",
   "execution_count": 30,
   "metadata": {
    "collapsed": false
   },
   "outputs": [
    {
     "name": "stdout",
     "output_type": "stream",
     "text": [
      "D8_age_of_respondent\n",
      "D9_length_of_time_in_the_camp\n"
     ]
    }
   ],
   "source": [
    "bin_quantities(data, template)"
   ]
  },
  {
   "cell_type": "code",
   "execution_count": 31,
   "metadata": {
    "collapsed": false
   },
   "outputs": [
    {
     "name": "stdout",
     "output_type": "stream",
     "text": [
      "Q1_how_satisfied_are_you_with_the_activities_provided_by_plan_international_in_the_child_friendly_space\n",
      "Q3_do_you_feel_think_that_the_skills_you_learn_here_will_help_you_in_your_life_afterwards\n",
      "Q4_do_you_feel_you_have_a_say_in_what_activities_are_provided_in_the_child_friendly_space\n",
      "Q5_do_you_feel_safe_from_harm_in_this_camp\n",
      "Q7_if_you_make_a_complaint_about_the_activities_do_you_think_you_will_get_a_response\n",
      "Q8_do_plan_international_staffs_treat_you_well\n"
     ]
    },
    {
     "data": {
      "text/html": [
       "<div>\n",
       "<table border=\"1\" class=\"dataframe\">\n",
       "  <thead>\n",
       "    <tr style=\"text-align: right;\">\n",
       "      <th></th>\n",
       "      <th>Q1_how_satisfied_are_you_with_the_activities_provided_by_plan_international_in_the_child_friendly_space</th>\n",
       "      <th>Q3_do_you_feel_think_that_the_skills_you_learn_here_will_help_you_in_your_life_afterwards</th>\n",
       "      <th>Q4_do_you_feel_you_have_a_say_in_what_activities_are_provided_in_the_child_friendly_space</th>\n",
       "      <th>Q5_do_you_feel_safe_from_harm_in_this_camp</th>\n",
       "      <th>Q7_if_you_make_a_complaint_about_the_activities_do_you_think_you_will_get_a_response</th>\n",
       "      <th>Q8_do_plan_international_staffs_treat_you_well</th>\n",
       "    </tr>\n",
       "  </thead>\n",
       "  <tbody>\n",
       "    <tr>\n",
       "      <th>0</th>\n",
       "      <td>NaN</td>\n",
       "      <td>5.0</td>\n",
       "      <td>4.0</td>\n",
       "      <td>4.0</td>\n",
       "      <td>NaN</td>\n",
       "      <td>4.0</td>\n",
       "    </tr>\n",
       "    <tr>\n",
       "      <th>1</th>\n",
       "      <td>5.0</td>\n",
       "      <td>3.0</td>\n",
       "      <td>2.0</td>\n",
       "      <td>NaN</td>\n",
       "      <td>4.0</td>\n",
       "      <td>4.0</td>\n",
       "    </tr>\n",
       "    <tr>\n",
       "      <th>2</th>\n",
       "      <td>2.0</td>\n",
       "      <td>3.0</td>\n",
       "      <td>5.0</td>\n",
       "      <td>NaN</td>\n",
       "      <td>NaN</td>\n",
       "      <td>3.0</td>\n",
       "    </tr>\n",
       "    <tr>\n",
       "      <th>3</th>\n",
       "      <td>1.0</td>\n",
       "      <td>1.0</td>\n",
       "      <td>3.0</td>\n",
       "      <td>4.0</td>\n",
       "      <td>4.0</td>\n",
       "      <td>3.0</td>\n",
       "    </tr>\n",
       "    <tr>\n",
       "      <th>4</th>\n",
       "      <td>2.0</td>\n",
       "      <td>1.0</td>\n",
       "      <td>1.0</td>\n",
       "      <td>4.0</td>\n",
       "      <td>NaN</td>\n",
       "      <td>2.0</td>\n",
       "    </tr>\n",
       "    <tr>\n",
       "      <th>5</th>\n",
       "      <td>5.0</td>\n",
       "      <td>5.0</td>\n",
       "      <td>5.0</td>\n",
       "      <td>5.0</td>\n",
       "      <td>4.0</td>\n",
       "      <td>NaN</td>\n",
       "    </tr>\n",
       "    <tr>\n",
       "      <th>6</th>\n",
       "      <td>NaN</td>\n",
       "      <td>1.0</td>\n",
       "      <td>5.0</td>\n",
       "      <td>1.0</td>\n",
       "      <td>5.0</td>\n",
       "      <td>NaN</td>\n",
       "    </tr>\n",
       "    <tr>\n",
       "      <th>7</th>\n",
       "      <td>NaN</td>\n",
       "      <td>2.0</td>\n",
       "      <td>5.0</td>\n",
       "      <td>2.0</td>\n",
       "      <td>4.0</td>\n",
       "      <td>1.0</td>\n",
       "    </tr>\n",
       "    <tr>\n",
       "      <th>8</th>\n",
       "      <td>5.0</td>\n",
       "      <td>4.0</td>\n",
       "      <td>4.0</td>\n",
       "      <td>4.0</td>\n",
       "      <td>2.0</td>\n",
       "      <td>1.0</td>\n",
       "    </tr>\n",
       "    <tr>\n",
       "      <th>9</th>\n",
       "      <td>1.0</td>\n",
       "      <td>3.0</td>\n",
       "      <td>4.0</td>\n",
       "      <td>2.0</td>\n",
       "      <td>5.0</td>\n",
       "      <td>3.0</td>\n",
       "    </tr>\n",
       "    <tr>\n",
       "      <th>10</th>\n",
       "      <td>NaN</td>\n",
       "      <td>4.0</td>\n",
       "      <td>2.0</td>\n",
       "      <td>NaN</td>\n",
       "      <td>NaN</td>\n",
       "      <td>NaN</td>\n",
       "    </tr>\n",
       "  </tbody>\n",
       "</table>\n",
       "</div>"
      ],
      "text/plain": [
       "    Q1_how_satisfied_are_you_with_the_activities_provided_by_plan_international_in_the_child_friendly_space  \\\n",
       "0                                                 NaN                                                         \n",
       "1                                                 5.0                                                         \n",
       "2                                                 2.0                                                         \n",
       "3                                                 1.0                                                         \n",
       "4                                                 2.0                                                         \n",
       "5                                                 5.0                                                         \n",
       "6                                                 NaN                                                         \n",
       "7                                                 NaN                                                         \n",
       "8                                                 5.0                                                         \n",
       "9                                                 1.0                                                         \n",
       "10                                                NaN                                                         \n",
       "\n",
       "    Q3_do_you_feel_think_that_the_skills_you_learn_here_will_help_you_in_your_life_afterwards  \\\n",
       "0                                                 5.0                                           \n",
       "1                                                 3.0                                           \n",
       "2                                                 3.0                                           \n",
       "3                                                 1.0                                           \n",
       "4                                                 1.0                                           \n",
       "5                                                 5.0                                           \n",
       "6                                                 1.0                                           \n",
       "7                                                 2.0                                           \n",
       "8                                                 4.0                                           \n",
       "9                                                 3.0                                           \n",
       "10                                                4.0                                           \n",
       "\n",
       "    Q4_do_you_feel_you_have_a_say_in_what_activities_are_provided_in_the_child_friendly_space  \\\n",
       "0                                                 4.0                                           \n",
       "1                                                 2.0                                           \n",
       "2                                                 5.0                                           \n",
       "3                                                 3.0                                           \n",
       "4                                                 1.0                                           \n",
       "5                                                 5.0                                           \n",
       "6                                                 5.0                                           \n",
       "7                                                 5.0                                           \n",
       "8                                                 4.0                                           \n",
       "9                                                 4.0                                           \n",
       "10                                                2.0                                           \n",
       "\n",
       "    Q5_do_you_feel_safe_from_harm_in_this_camp  \\\n",
       "0                                          4.0   \n",
       "1                                          NaN   \n",
       "2                                          NaN   \n",
       "3                                          4.0   \n",
       "4                                          4.0   \n",
       "5                                          5.0   \n",
       "6                                          1.0   \n",
       "7                                          2.0   \n",
       "8                                          4.0   \n",
       "9                                          2.0   \n",
       "10                                         NaN   \n",
       "\n",
       "    Q7_if_you_make_a_complaint_about_the_activities_do_you_think_you_will_get_a_response  \\\n",
       "0                                                 NaN                                      \n",
       "1                                                 4.0                                      \n",
       "2                                                 NaN                                      \n",
       "3                                                 4.0                                      \n",
       "4                                                 NaN                                      \n",
       "5                                                 4.0                                      \n",
       "6                                                 5.0                                      \n",
       "7                                                 4.0                                      \n",
       "8                                                 2.0                                      \n",
       "9                                                 5.0                                      \n",
       "10                                                NaN                                      \n",
       "\n",
       "    Q8_do_plan_international_staffs_treat_you_well  \n",
       "0                                              4.0  \n",
       "1                                              4.0  \n",
       "2                                              3.0  \n",
       "3                                              3.0  \n",
       "4                                              2.0  \n",
       "5                                              NaN  \n",
       "6                                              NaN  \n",
       "7                                              1.0  \n",
       "8                                              1.0  \n",
       "9                                              3.0  \n",
       "10                                             NaN  "
      ]
     },
     "execution_count": 31,
     "metadata": {},
     "output_type": "execute_result"
    }
   ],
   "source": [
    "mean_data = data.copy()\n",
    "for column in mean_columns:\n",
    "    print column\n",
    "    number_list = []\n",
    "    for answer in mean_data.loc[: , column]:\n",
    "        if answer != answer:\n",
    "            number_list.append(np.nan)\n",
    "        else:\n",
    "            number_list.append(answer.split('_')[0])\n",
    "    mean_data.loc[: , column] = number_list\n",
    "    mean_data.loc[: , column] = mean_data.loc[: , column].astype(float)\n",
    "mean_data.loc[0:10, mean_columns]"
   ]
  },
  {
   "cell_type": "markdown",
   "metadata": {},
   "source": [
    "## Creating the excel spreadsheet and plotting the graphs"
   ]
  },
  {
   "cell_type": "code",
   "execution_count": 107,
   "metadata": {
    "collapsed": false
   },
   "outputs": [],
   "source": [
    "def gen_freq_table(data, question):\n",
    "    table = data[question].value_counts()\n",
    "    table = pd.DataFrame(table)\n",
    "    table = table.reset_index()\n",
    "    table.columns = [question, 'frequency']\n",
    "    if question.split('_')[0] != 'quantiles':\n",
    "        table = table.sort_values(by=question, ascending=True)\n",
    "    table = table.reset_index(drop=True)\n",
    "    table['percent'] = table['frequency']\n",
    "    table['cum_frequency'] = table['frequency']\n",
    "    for index in table.index:\n",
    "        if index > 0:\n",
    "            table.loc[index, 'cum_frequency'] = table.loc[index, 'frequency'] + table.loc[index-1, 'cum_frequency']\n",
    "    table['percent'] = table['percent']/table.loc[table.shape[0]-1, 'cum_frequency']\n",
    "    table['percent'] = np.round(table['percent']*100)\n",
    "    table['cum_proportion'] = table['cum_frequency']/table.loc[table.shape[0]-1, 'cum_frequency']\n",
    "    return table"
   ]
  },
  {
   "cell_type": "code",
   "execution_count": 32,
   "metadata": {
    "collapsed": false
   },
   "outputs": [],
   "source": [
    "import os as os\n",
    "newpath = r'example_output' \n",
    "if not os.path.exists(newpath):\n",
    "    os.makedirs(newpath)"
   ]
  },
  {
   "cell_type": "code",
   "execution_count": 33,
   "metadata": {
    "collapsed": false,
    "scrolled": true
   },
   "outputs": [],
   "source": [
    "writer = pd.ExcelWriter('output/ethiopia_plan_example_spreadsheet.xlsx')"
   ]
  },
  {
   "cell_type": "code",
   "execution_count": 34,
   "metadata": {
    "collapsed": false
   },
   "outputs": [
    {
     "name": "stdout",
     "output_type": "stream",
     "text": [
      "D1_region\n",
      "0\n"
     ]
    },
    {
     "ename": "NameError",
     "evalue": "name 'gen_freq_table' is not defined",
     "output_type": "error",
     "traceback": [
      "\u001b[0;31m---------------------------------------------------------------------------\u001b[0m",
      "\u001b[0;31mNameError\u001b[0m                                 Traceback (most recent call last)",
      "\u001b[0;32m<ipython-input-34-7e72bc596322>\u001b[0m in \u001b[0;36m<module>\u001b[0;34m()\u001b[0m\n\u001b[1;32m     14\u001b[0m         \u001b[0moutput\u001b[0m\u001b[1;33m.\u001b[0m\u001b[0mrename\u001b[0m\u001b[1;33m(\u001b[0m\u001b[0mcolumns\u001b[0m\u001b[1;33m=\u001b[0m\u001b[1;33m{\u001b[0m\u001b[0mcolumn\u001b[0m\u001b[1;33m+\u001b[0m\u001b[1;34m'_quantiles'\u001b[0m\u001b[1;33m:\u001b[0m\u001b[0mcolumn\u001b[0m\u001b[1;33m}\u001b[0m\u001b[1;33m,\u001b[0m \u001b[0minplace\u001b[0m\u001b[1;33m=\u001b[0m\u001b[0mTrue\u001b[0m\u001b[1;33m)\u001b[0m\u001b[1;33m\u001b[0m\u001b[0m\n\u001b[1;32m     15\u001b[0m     \u001b[1;32melse\u001b[0m\u001b[1;33m:\u001b[0m\u001b[1;33m\u001b[0m\u001b[0m\n\u001b[0;32m---> 16\u001b[0;31m         \u001b[0moutput\u001b[0m \u001b[1;33m=\u001b[0m \u001b[0mgen_freq_table\u001b[0m\u001b[1;33m(\u001b[0m\u001b[0mdata\u001b[0m\u001b[1;33m,\u001b[0m \u001b[0mcolumn\u001b[0m\u001b[1;33m)\u001b[0m\u001b[1;33m\u001b[0m\u001b[0m\n\u001b[0m\u001b[1;32m     17\u001b[0m         \u001b[0moutput\u001b[0m \u001b[1;33m=\u001b[0m \u001b[0moutput\u001b[0m\u001b[1;33m.\u001b[0m\u001b[0miloc\u001b[0m\u001b[1;33m[\u001b[0m\u001b[1;33m:\u001b[0m\u001b[1;33m,\u001b[0m \u001b[1;36m0\u001b[0m\u001b[1;33m:\u001b[0m\u001b[1;36m3\u001b[0m\u001b[1;33m]\u001b[0m\u001b[1;33m\u001b[0m\u001b[0m\n\u001b[1;32m     18\u001b[0m     \u001b[0moutput\u001b[0m\u001b[1;33m.\u001b[0m\u001b[0mto_excel\u001b[0m\u001b[1;33m(\u001b[0m\u001b[0mwriter\u001b[0m\u001b[1;33m,\u001b[0m \u001b[1;34m'demographics'\u001b[0m\u001b[1;33m,\u001b[0m \u001b[0mstartrow\u001b[0m\u001b[1;33m=\u001b[0m\u001b[0mrow\u001b[0m\u001b[1;33m)\u001b[0m\u001b[1;33m\u001b[0m\u001b[0m\n",
      "\u001b[0;31mNameError\u001b[0m: name 'gen_freq_table' is not defined"
     ]
    }
   ],
   "source": [
    "row = 0\n",
    "for column in demographic_columns:\n",
    "    print column\n",
    "    print row\n",
    "    ### Dealing with quantities\n",
    "    if column in template.loc[template['question_type']=='quantity', :].index:\n",
    "        output = gen_freq_table(data, column+'_quantiles')\n",
    "        output = output.sort(output.columns[0], ascending=True)\n",
    "        output = output.iloc[:, 0:3]\n",
    "        categories = output.iloc[:, 0]\n",
    "        categories = [category.translate(None, \"(),[]\") for category in categories]\n",
    "        categories = ['-'.join(category.split()) for category in categories]\n",
    "        output.iloc[:, 0] = categories\n",
    "        output.rename(columns={column+'_quantiles':column}, inplace=True)\n",
    "    else:\n",
    "        output = gen_freq_table(data, column)\n",
    "        output = output.iloc[:, 0:3]\n",
    "    output.to_excel(writer, 'demographics', startrow=row)\n",
    "    print output\n",
    "    row = row + output.shape[0] + 2\n",
    "    print output.shape[0]"
   ]
  },
  {
   "cell_type": "code",
   "execution_count": 214,
   "metadata": {
    "collapsed": false
   },
   "outputs": [
    {
     "data": {
      "image/png": "[encoded data removed]",
      "text/plain": [
       "<matplotlib.figure.Figure at 0xe182978>"
      ]
     },
     "metadata": {},
     "output_type": "display_data"
    },
    {
     "data": {
      "image/png": "[encoded data removed]",
      "text/plain": [
       "<matplotlib.figure.Figure at 0x115bdf98>"
      ]
     },
     "metadata": {},
     "output_type": "display_data"
    },
    {
     "data": {
      "image/png": "[encoded data removed]",
      "text/plain": [
       "<matplotlib.figure.Figure at 0xe16c748>"
      ]
     },
     "metadata": {},
     "output_type": "display_data"
    },
    {
     "data": {
      "image/png": "[encoded data removed]",
      "text/plain": [
       "<matplotlib.figure.Figure at 0x1a0c14a8>"
      ]
     },
     "metadata": {},
     "output_type": "display_data"
    },
    {
     "data": {
      "image/png": "[encoded data removed]",
      "text/plain": [
       "<matplotlib.figure.Figure at 0xdf91e80>"
      ]
     },
     "metadata": {},
     "output_type": "display_data"
    },
    {
     "data": {
      "image/png": "[encoded data removed]",
      "text/plain": [
       "<matplotlib.figure.Figure at 0xdef4128>"
      ]
     },
     "metadata": {},
     "output_type": "display_data"
    },
    {
     "data": {
      "image/png": "[encoded data removed]",
      "text/plain": [
       "<matplotlib.figure.Figure at 0x1a9d1f98>"
      ]
     },
     "metadata": {},
     "output_type": "display_data"
    },
    {
     "data": {
      "image/png": "[encoded data removed]",
      "text/plain": [
       "<matplotlib.figure.Figure at 0xd799860>"
      ]
     },
     "metadata": {},
     "output_type": "display_data"
    }
   ],
   "source": [
    "row = 0\n",
    "written_rows = {}\n",
    "def draw_basic_plot(template, column, output):\n",
    "    if column in template.loc[template['question_type']=='binary', :].index:\n",
    "        draw_binary_plot(output)\n",
    "    elif column in template.loc[template['question_type']=='likert', :].index:\n",
    "        draw_likert_plot(output)\n",
    "\n",
    "for column in question_columns:\n",
    "    ### Dealing with quantities\n",
    "    if column in template.loc[template['question_type']=='quantity', :].index:\n",
    "        output = gen_freq_table(data, column+'_quantiles')\n",
    "        draw_basic_plot(template, column, output)\n",
    "        output = output.iloc[:, 0:3]\n",
    "        categories = output.iloc[:, 0]\n",
    "        categories = [category.translate(None, \"(),[]\") for category in categories]\n",
    "        categories = ['-'.join(category.split()) for category in categories]\n",
    "        output.iloc[:, 0] = categories\n",
    "    else:\n",
    "        output = gen_freq_table(data, column)\n",
    "        draw_basic_plot(template, column, output)\n",
    "        output = output.iloc[:, 0:3]\n",
    "    written_rows[column] = output.shape[0] + 2\n",
    "    output.to_excel(writer, column.split('_')[0], startrow=row)\n",
    "    if column in mean_columns:\n",
    "        mean_data[column]"
   ]
  },
  {
   "cell_type": "code",
   "execution_count": 215,
   "metadata": {
    "collapsed": true
   },
   "outputs": [],
   "source": [
    "breakdown_variables = ['D5_division_if_any', 'D7_sex_of_respondent', 'D8_age_of_respondent',\n",
    "                      'D9_length_of_time_in_the_camp']"
   ]
  },
  {
   "cell_type": "code",
   "execution_count": 216,
   "metadata": {
    "collapsed": false
   },
   "outputs": [],
   "source": [
    "def draw_disag_plot(table, likert=True):\n",
    "    likert_colours = sns.color_palette([\"#f19891\", \"#f8cac3\", \"#e9ecf0\", \"#b2cfb3\", \"#4aa168\", \"#d1b26f\", '#ad8150'])\n",
    "    binary_colours = sns.color_palette([\"#f19891\", \"#4aa168\", \"#d1b26f\", '#ad8150'])\n",
    "    if likert == True:\n",
    "        colours = likert_colours\n",
    "    else:\n",
    "        colours = binary_colours\n",
    "\n",
    "    # this is a stiupid formula so that the figure gets 2 inches wider for each category, with an additional inch for\n",
    "    # the whitespace between each category\n",
    "    fig_height = len(table.loc[:, table.columns[0]].unique())*2\n",
    "    fig, ax = plt.subplots(figsize=(15, fig_height))\n",
    "    \n",
    "    # preparing and plotting the basic graph\n",
    "    table2 = table.pivot(index=table.columns[0], columns=table.columns[1], values='percent')\n",
    "    table2.plot(kind='barh', stacked=True, color=colours, ax=ax, legend=False, width=0.6)\n",
    "\n",
    "    # remove black lines around the figure\n",
    "    sns.despine(top=True, right=True, left=True, bottom=True)\n",
    "    ax.set(xticklabels=[], ylabel='', yticklabels=[])\n",
    "\n",
    "    #create the white spaces between the squares\n",
    "    rects = ax.patches\n",
    "    [rect.set(edgecolor='white', linewidth=3) for rect in rects]\n",
    "\n",
    "    # Adding the percentage labels\n",
    "    for p in ax.patches:\n",
    "        ax.annotate(\"{0:.0f}\".format(p.get_width()),\n",
    "                    (p.get_x() + p.get_width()/2-2, p.get_y()), xytext=(0, 30), textcoords='offset points',\n",
    "                   weight='bold', size=30)\n",
    "    # savefig\n",
    "    question_name = table2.columns.name.split('_')[0] + '_by_' + table2.index.name.split('_')[0] + '_order_'\n",
    "    for alternative in table.iloc[:, 0].unique():\n",
    "        question_name = question_name + '_' + np.str(alternative)\n",
    "    plt.tight_layout()\n",
    "    fig.gca().set_axis_off()\n",
    "    fig.subplots_adjust(top = 1, bottom = 0, right = 1, left = 0, \n",
    "    hspace = 0, wspace = 0)\n",
    "    ax.margins(0,0)\n",
    "    fig.gca().xaxis.set_major_locator(plt.NullLocator())\n",
    "    fig.gca().yaxis.set_major_locator(plt.NullLocator())\n",
    "    plt.savefig(r'output/' + table2.index.name + '_breakdowns/' + question_name+'.pdf', dpi=600, bbox_inches='tight', pad_inches=0)\n",
    "    plt.close()"
   ]
  },
  {
   "cell_type": "code",
   "execution_count": 217,
   "metadata": {
    "collapsed": false,
    "scrolled": true
   },
   "outputs": [
    {
     "name": "stdout",
     "output_type": "stream",
     "text": [
      "Q1_how_satisfied_are_you_with_the_activities_provided_by_plan_international_in_the_child_friendly_space\n",
      "7\n",
      "4\n",
      "Q2_are_you_able_to_attend_the_activities_that_you_want_to\n",
      "4\n",
      "4\n",
      "Q3_do_you_feel_think_that_the_skills_you_learn_here_will_help_you_in_your_life_afterwards\n",
      "7\n",
      "4\n",
      "Q4_do_you_feel_you_have_a_say_in_what_activities_are_provided_in_the_child_friendly_space\n",
      "7\n",
      "4\n",
      "Q5_do_you_feel_safe_from_harm_in_this_camp\n",
      "7\n",
      "4\n",
      "Q6_do_you_know_who_to_talk_to_if_you_have_a_problem_with_the_activities_in_the_child_friendly_space\n",
      "4\n",
      "4\n",
      "Q7_if_you_make_a_complaint_about_the_activities_do_you_think_you_will_get_a_response\n",
      "7\n",
      "4\n",
      "Q8_do_plan_international_staffs_treat_you_well\n",
      "7\n",
      "4\n",
      "Q1_how_satisfied_are_you_with_the_activities_provided_by_plan_international_in_the_child_friendly_space\n",
      "14\n",
      "2\n",
      "Q2_are_you_able_to_attend_the_activities_that_you_want_to\n",
      "11\n",
      "2\n",
      "Q3_do_you_feel_think_that_the_skills_you_learn_here_will_help_you_in_your_life_afterwards\n",
      "14\n",
      "2\n",
      "Q4_do_you_feel_you_have_a_say_in_what_activities_are_provided_in_the_child_friendly_space\n",
      "14\n",
      "2\n",
      "Q5_do_you_feel_safe_from_harm_in_this_camp\n",
      "14\n",
      "2\n",
      "Q6_do_you_know_who_to_talk_to_if_you_have_a_problem_with_the_activities_in_the_child_friendly_space\n",
      "11\n",
      "2\n",
      "Q7_if_you_make_a_complaint_about_the_activities_do_you_think_you_will_get_a_response\n",
      "14\n",
      "2\n",
      "Q8_do_plan_international_staffs_treat_you_well\n",
      "14\n",
      "2\n",
      "Q1_how_satisfied_are_you_with_the_activities_provided_by_plan_international_in_the_child_friendly_space\n",
      "19\n",
      "3\n",
      "Q2_are_you_able_to_attend_the_activities_that_you_want_to\n",
      "16\n",
      "3\n",
      "Q3_do_you_feel_think_that_the_skills_you_learn_here_will_help_you_in_your_life_afterwards\n",
      "19\n",
      "3\n",
      "Q4_do_you_feel_you_have_a_say_in_what_activities_are_provided_in_the_child_friendly_space\n",
      "19\n",
      "3\n",
      "Q5_do_you_feel_safe_from_harm_in_this_camp\n",
      "19\n",
      "3\n",
      "Q6_do_you_know_who_to_talk_to_if_you_have_a_problem_with_the_activities_in_the_child_friendly_space\n",
      "16\n",
      "3\n",
      "Q7_if_you_make_a_complaint_about_the_activities_do_you_think_you_will_get_a_response\n",
      "19\n",
      "3\n",
      "Q8_do_plan_international_staffs_treat_you_well\n",
      "19\n",
      "3\n",
      "Q1_how_satisfied_are_you_with_the_activities_provided_by_plan_international_in_the_child_friendly_space\n",
      "25\n",
      "3\n",
      "Q2_are_you_able_to_attend_the_activities_that_you_want_to\n",
      "22\n",
      "3\n",
      "Q3_do_you_feel_think_that_the_skills_you_learn_here_will_help_you_in_your_life_afterwards\n",
      "25\n",
      "3\n",
      "Q4_do_you_feel_you_have_a_say_in_what_activities_are_provided_in_the_child_friendly_space\n",
      "25\n",
      "3\n",
      "Q5_do_you_feel_safe_from_harm_in_this_camp\n",
      "25\n",
      "3\n",
      "Q6_do_you_know_who_to_talk_to_if_you_have_a_problem_with_the_activities_in_the_child_friendly_space\n",
      "22\n",
      "3\n",
      "Q7_if_you_make_a_complaint_about_the_activities_do_you_think_you_will_get_a_response\n",
      "25\n",
      "3\n",
      "Q8_do_plan_international_staffs_treat_you_well\n",
      "25\n",
      "3\n"
     ]
    }
   ],
   "source": [
    "for variable in breakdown_variables:\n",
    "    quantile_table = False\n",
    "    if variable in template.loc[template['question_type']=='quantity', :].index:\n",
    "        variable = variable + '_quantiles'\n",
    "        quantile_table = True\n",
    "    newpath = r'output/' + variable + '_breakdowns'  \n",
    "    if not os.path.exists(newpath):\n",
    "        os.makedirs(newpath)\n",
    "    for column in breakdown_columns:\n",
    "        mean_column = False\n",
    "        print column\n",
    "        if column in mean_columns:\n",
    "            mean_column = True\n",
    "            means = pd.DataFrame(mean_data.groupby(variable)[column].mean())\n",
    "            means.columns = ['mean']\n",
    "        if column in template.loc[template['question_type']=='likert', :].index:\n",
    "            likert_question = True\n",
    "        else:\n",
    "            likert_question = False\n",
    "        table = gen_disag_table(data, column, variable)\n",
    "        if quantile_table == True:\n",
    "            categories = table.iloc[:, 0].unique()\n",
    "            categories = [category.translate(None, \"(),[]\") for category in categories]\n",
    "            categories = ['-'.join(category.split()) for category in categories]\n",
    "            categories\n",
    "            table.iloc[:, 0] = table.iloc[:, 0].astype('str')\n",
    "            table = table.replace(table.iloc[:, 0].unique(), categories)\n",
    "            if mean_column == True:\n",
    "                means.index = categories\n",
    "        \n",
    "        frequency_output = table.pivot(index=table.columns[0], columns=table.columns[1], values='frequency')\n",
    "        frequency_output.columns.name = frequency_output.columns.name + '_frequency'\n",
    "        \n",
    "        \n",
    "        percent_output = table.pivot(index=table.columns[0], columns=table.columns[1], values='percent')\n",
    "        percent_output = percent_output.round().astype(int)\n",
    "        percent_output.columns.name = percent_output.columns.name + '_percent'\n",
    "        \n",
    "        frequency_output.to_excel(writer, column.split('_')[0], startrow=written_rows[column])\n",
    "        percent_output.to_excel(writer, column.split('_')[0], startrow=written_rows[column], startcol=10)\n",
    "        if mean_column == True:\n",
    "            means.to_excel(writer, column.split('_')[0], startrow=written_rows[column], startcol=20) \n",
    "        print written_rows[column]\n",
    "        print frequency_output.shape[0]\n",
    "        written_rows[column] = written_rows[column] + frequency_output.shape[0] + 3\n",
    "        draw_disag_plot(table, likert_question)\n",
    "    "
   ]
  },
  {
   "cell_type": "markdown",
   "metadata": {},
   "source": [
    "### Add the question_means and correlations"
   ]
  },
  {
   "cell_type": "code",
   "execution_count": 218,
   "metadata": {
    "collapsed": false
   },
   "outputs": [],
   "source": [
    "means = pd.DataFrame(mean_data[mean_columns].mean())\n",
    "means.columns = ['mean']\n",
    "means.to_excel(writer, 'question_means')\n",
    "correlations = pd.DataFrame(mean_data[mean_columns].corr())\n",
    "correlations.to_excel(writer, 'question_correlations')"
   ]
  },
  {
   "cell_type": "code",
   "execution_count": 219,
   "metadata": {
    "collapsed": false
   },
   "outputs": [],
   "source": [
    "writer.save()"
   ]
  },
  {
   "cell_type": "code",
   "execution_count": 142,
   "metadata": {
    "collapsed": false
   },
   "outputs": [
    {
     "data": {
      "text/plain": [
       "3.0244648318042815"
      ]
     },
     "execution_count": 142,
     "metadata": {},
     "output_type": "execute_result"
    }
   ],
   "source": [
    "mean_data['Q1_how_satisfied_are_you_with_the_activities_provided_by_plan_international_in_the_child_friendly_space'].mean()"
   ]
  },
  {
   "cell_type": "code",
   "execution_count": 399,
   "metadata": {
    "collapsed": false
   },
   "outputs": [
    {
     "data": {
      "image/png": "[encoded data removed]",
      "text/plain": [
       "<matplotlib.figure.Figure at 0xbc83128>"
      ]
     },
     "metadata": {},
     "output_type": "display_data"
    }
   ],
   "source": [
    "fig, ax = plt.subplots(figsize=(7,7))\n",
    "\n",
    "explode = (0, 0.05,)  # only \"explode\" the 2nd slice (i.e. 'Hogs')\n",
    "plt.pie(example2['frequency'], explode=explode, colors=binary_colours,\n",
    "        autopct='%1.f%%', shadow=False, startangle=120)\n",
    "wedges = ax.patches\n",
    "labels = ax.texts\n",
    "[label.set(fontsize=25, color='#555555') for label in labels]\n",
    "[wedge.set(edgecolor='white', linewidth=1) for wedge in wedges]\n",
    "# Set aspect ratio to be equal so that pie is drawn as a circle.\n",
    "plt.axis('equal')\n",
    "plt.savefig('example_binary.svg', dpi=600)"
   ]
  }
 ],
 "metadata": {
  "anaconda-cloud": {},
  "kernelspec": {
   "display_name": "Python [default]",
   "language": "python",
   "name": "python2"
  },
  "language_info": {
   "codemirror_mode": {
    "name": "ipython",
    "version": 2
   },
   "file_extension": ".py",
   "mimetype": "text/x-python",
   "name": "python",
   "nbconvert_exporter": "python",
   "pygments_lexer": "ipython2",
   "version": "2.7.12"
  }
 },
 "nbformat": 4,
 "nbformat_minor": 0
}
