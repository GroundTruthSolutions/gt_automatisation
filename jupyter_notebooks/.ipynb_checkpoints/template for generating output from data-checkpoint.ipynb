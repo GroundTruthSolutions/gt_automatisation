{
 "cells": [
  {
   "cell_type": "markdown",
   "metadata": {},
   "source": [
    "### Loading Libraries"
   ]
  },
  {
   "cell_type": "code",
   "execution_count": 1,
   "metadata": {
    "collapsed": false
   },
   "outputs": [],
   "source": [
    "import numpy as np\n",
    "import pandas as pd\n",
    "import seaborn as sns\n",
    "import matplotlib.pyplot as plt\n",
    "%matplotlib inline"
   ]
  },
  {
   "cell_type": "markdown",
   "metadata": {},
   "source": [
    "# Practice, Complete Analysis"
   ]
  },
  {
   "cell_type": "code",
   "execution_count": 2,
   "metadata": {
    "collapsed": false
   },
   "outputs": [
    {
     "data": {
      "image/png": "[encoded data removed]",
      "text/plain": [
       "<matplotlib.figure.Figure at 0xb3a4c50>"
      ]
     },
     "metadata": {},
     "output_type": "display_data"
    }
   ],
   "source": [
    "likert_colours = sns.color_palette([\"#f19891\", \"#f8cac3\", \"#e9ecf0\", \"#b2cfb3\", \"#4aa168\", \"#d1b26f\", '#ad8150'])\n",
    "binary_colours = sns.color_palette([\"#f19891\", \"#4aa168\", \"#d1b26f\", '#ad8150'])\n",
    "sns.palplot(likert_colours)"
   ]
  },
  {
   "cell_type": "code",
   "execution_count": 3,
   "metadata": {
    "collapsed": false
   },
   "outputs": [
    {
     "data": {
      "image/png": "[encoded data removed]",
      "text/plain": [
       "<matplotlib.figure.Figure at 0x2511278>"
      ]
     },
     "metadata": {},
     "output_type": "display_data"
    }
   ],
   "source": [
    "binary_colours = sns.color_palette([\"#f19891\", \"#4aa168\", \"#d1b26f\", '#ad8150'])\n",
    "sns.palplot(binary_colours)"
   ]
  },
  {
   "cell_type": "markdown",
   "metadata": {},
   "source": [
    "### Loading The Data"
   ]
  },
  {
   "cell_type": "code",
   "execution_count": 4,
   "metadata": {
    "collapsed": true
   },
   "outputs": [],
   "source": [
    "data_path = '../example_data/ethiopia/ethiopia_plan_example_data.csv'\n",
    "template_path = '../templates/ethiopia/ethiopia_plan_template.csv'\n",
    "data = pd.read_csv(data_path)\n",
    "template = pd.read_csv(template_path, index_col=0)\n",
    "template = template.transpose()"
   ]
  },
  {
   "cell_type": "code",
   "execution_count": 5,
   "metadata": {
    "collapsed": true
   },
   "outputs": [],
   "source": [
    "def mismatch_search(data, template):\n",
    "    mismatches = []\n",
    "    mismatch_numbers = []\n",
    "    mismatch_number = 0\n",
    "    for column in data.columns:\n",
    "        if column not in template.index:\n",
    "            mismatches.append(column)\n",
    "            mismatch_numbers.append(mismatch_number)\n",
    "        mismatch_number +=1\n",
    "    print mismatches\n",
    "    return mismatches, mismatch_numbers"
   ]
  },
  {
   "cell_type": "code",
   "execution_count": 6,
   "metadata": {
    "collapsed": true
   },
   "outputs": [],
   "source": [
    "def find_suggested_labels(mismatches, template):\n",
    "    suggestion_list = []\n",
    "    mismatch_prefixes = [mismatch.split('_')[0] for mismatch in mismatches]\n",
    "    for label in template.index:\n",
    "        if label.split('_')[0] in mismatch_prefixes:\n",
    "            suggestion_list.append(label)\n",
    "    return suggestion_list"
   ]
  },
  {
   "cell_type": "code",
   "execution_count": 7,
   "metadata": {
    "collapsed": false
   },
   "outputs": [],
   "source": [
    "def gen_match_dict(mismatches, suggestions):\n",
    "    matching_dict ={}\n",
    "    mismatches_no_partner = []\n",
    "    for mismatch in mismatches:\n",
    "        match = False\n",
    "        for suggestion in suggestions:\n",
    "                if mismatch.split('_')[0] == suggestion.split('_')[0]:\n",
    "                    matching_dict[mismatch] = suggestion\n",
    "                    match = True\n",
    "        if match == False:\n",
    "            mismatches_no_partner.append(mismatch)\n",
    "            \n",
    "    if len(mismatches) == len(matching_dict):\n",
    "        return matching_dict\n",
    "    else:\n",
    "        return np.nan()\n",
    "        print 'Matching failed, the following data columns lack suggestions:'\n",
    "        print mismatches_no_partner"
   ]
  },
  {
   "cell_type": "markdown",
   "metadata": {},
   "source": [
    "### Check if column names doesn't match"
   ]
  },
  {
   "cell_type": "code",
   "execution_count": 8,
   "metadata": {
    "collapsed": false,
    "scrolled": false
   },
   "outputs": [
    {
     "name": "stdout",
     "output_type": "stream",
     "text": [
      "['D5_division', 'D9_length_of_time_in_camp', 'A4_start_time', 'Q3_do_you_feel_think_that_the_skills_you_learn_here_will_help_you_in_your_life_afterwards ', 'Q4_do_you_feel_you_have_a_say_in_what_activities_are_provided_in_the_child_friendly_space ']\n"
     ]
    }
   ],
   "source": [
    "mismatches, mismatch_numbers = mismatch_search(data, template)"
   ]
  },
  {
   "cell_type": "markdown",
   "metadata": {},
   "source": [
    "### Suggest matches for mismatched column names"
   ]
  },
  {
   "cell_type": "code",
   "execution_count": 9,
   "metadata": {
    "collapsed": false
   },
   "outputs": [],
   "source": [
    "suggested_matches = find_suggested_labels(mismatches, template)"
   ]
  },
  {
   "cell_type": "markdown",
   "metadata": {},
   "source": [
    "### create a dictionary to easily change the column names"
   ]
  },
  {
   "cell_type": "code",
   "execution_count": 10,
   "metadata": {
    "collapsed": false,
    "scrolled": true
   },
   "outputs": [],
   "source": [
    "match_dict = gen_match_dict(mismatches, suggested_matches)"
   ]
  },
  {
   "cell_type": "markdown",
   "metadata": {},
   "source": [
    "### rename the mismatched columns"
   ]
  },
  {
   "cell_type": "code",
   "execution_count": 11,
   "metadata": {
    "collapsed": false
   },
   "outputs": [],
   "source": [
    "data = data.rename(columns=match_dict)"
   ]
  },
  {
   "cell_type": "markdown",
   "metadata": {},
   "source": [
    "### check that the issue has been resolved"
   ]
  },
  {
   "cell_type": "code",
   "execution_count": 12,
   "metadata": {
    "collapsed": false
   },
   "outputs": [
    {
     "name": "stdout",
     "output_type": "stream",
     "text": [
      "[]\n"
     ]
    }
   ],
   "source": [
    "mismatches, mismatch_numbers = mismatch_search(data, template)"
   ]
  },
  {
   "cell_type": "markdown",
   "metadata": {},
   "source": [
    "### Get the column groups"
   ]
  },
  {
   "cell_type": "code",
   "execution_count": 13,
   "metadata": {
    "collapsed": true
   },
   "outputs": [],
   "source": [
    "demographic_columns = template.loc[template['question_section'].isin(['demograpic_data', 'demographic_data']), :].index\n",
    "collection_columns = template.loc[template['question_section']=='collection_info', :].index\n",
    "question_columns = template.loc[template['question_section']=='main_questions', :].index\n",
    "\n",
    "template_questions = template.loc[question_columns] \n",
    "breakdown_columns = template_questions.loc[template_questions['question_type'].isin(['binary', 'likert']), :].index\n",
    "mean_columns = template_questions.loc[template_questions['question_type'].isin(['likert']), :].index"
   ]
  },
  {
   "cell_type": "markdown",
   "metadata": {},
   "source": [
    "### response overviews"
   ]
  },
  {
   "cell_type": "code",
   "execution_count": 14,
   "metadata": {
    "collapsed": false
   },
   "outputs": [],
   "source": [
    "def print_response_overview(data, columns):\n",
    "    for column in columns:\n",
    "        print column\n",
    "        print np.sort(data.loc[:, column].unique())\n",
    "        print"
   ]
  },
  {
   "cell_type": "code",
   "execution_count": 15,
   "metadata": {
    "collapsed": false
   },
   "outputs": [
    {
     "name": "stdout",
     "output_type": "stream",
     "text": [
      "D1_region\n",
      "['region_1']\n",
      "\n",
      "D2_zone\n",
      "['zone_a']\n",
      "\n",
      "D3_woreda\n",
      "['woreda_1' 'woreda_2']\n",
      "\n",
      "D4_camp_zone\n",
      "['camp_zone_a' 'camp_zone_b']\n",
      "\n",
      "D5_division_if_any\n",
      "['division_1' 'division_2' 'division_3' 'division_4']\n",
      "\n",
      "D6_respondent_id\n",
      "[  1   2   3   4   5   6   7   8   9  10  11  12  13  14  15  16  17  18\n",
      "  19  20  21  22  23  24  25  26  27  28  29  30  31  32  33  34  35  36\n",
      "  37  38  39  40  41  42  43  44  45  46  47  48  49  50  51  52  53  54\n",
      "  55  56  57  58  59  60  61  62  63  64  65  66  67  68  69  70  71  72\n",
      "  73  74  75  76  77  78  79  80  81  82  83  84  85  86  87  88  89  90\n",
      "  91  92  93  94  95  96  97  98  99 100 101 102 103 104 105 106 107 108\n",
      " 109 110 111 112 113 114 115 116 117 118 119 120 121 122 123 124 125 126\n",
      " 127 128 129 130 131 132 133 134 135 136 137 138 139 140 141 142 143 144\n",
      " 145 146 147 148 149 150 151 152 153 154 155 156 157 158 159 160 161 162\n",
      " 163 164 165 166 167 168 169 170 171 172 173 174 175 176 177 178 179 180\n",
      " 181 182 183 184 185 186 187 188 189 190 191 192 193 194 195 196 197 198\n",
      " 199 200 201 202 203 204 205 206 207 208 209 210 211 212 213 214 215 216\n",
      " 217 218 219 220 221 222 223 224 225 226 227 228 229 230 231 232 233 234\n",
      " 235 236 237 238 239 240 241 242 243 244 245 246 247 248 249 250 251 252\n",
      " 253 254 255 256 257 258 259 260 261 262 263 264 265 266 267 268 269 270\n",
      " 271 272 273 274 275 276 277 278 279 280 281 282 283 284 285 286 287 288\n",
      " 289 290 291 292 293 294 295 296 297 298 299 300 301 302 303 304 305 306\n",
      " 307 308 309 310 311 312 313 314 315 316 317 318 319 320 321 322 323 324\n",
      " 325 326 327 328 329 330 331 332 333 334 335 336 337 338 339 340 341 342\n",
      " 343 344 345 346 347 348 349 350 351 352 353 354 355 356 357 358 359 360\n",
      " 361 362 363 364 365 366 367 368 369 370 371 372 373 374 375 376 377 378\n",
      " 379 380 381 382 383 384 385 386 387 388 389 390 391 392 393 394 395 396\n",
      " 397 398 399 400]\n",
      "\n",
      "D7_sex_of_respondent\n",
      "['1_female' '2_male']\n",
      "\n",
      "D8_age_of_respondent\n",
      "['10 years' '11 years' '12 years' '13 years' '14 years' '15 years'\n",
      " '16 years' '17 years' '18 years' '19 years' '20 years' '21 years'\n",
      " '22 years' '23 years' '24 years' '25 years' '26 years' '27 years'\n",
      " '28 years' '29 years' '30 years' '31 years' '32 years' '33 years'\n",
      " '34 years' '35 years' '36 years' '37 years' '38 years' '39 years'\n",
      " '40 years' '41 years' '42 years' '43 years' '44 years' '45 years'\n",
      " '46 years' '47 years' '48 years' '49 years' '50 years' '51 years'\n",
      " '52 years' '53 years' '54 years' '55 years' '56 years' '58 years'\n",
      " '6 years' '60 years' '62 years']\n",
      "\n",
      "D9_length_of_time_in_the_camp\n",
      "['1 years' '10 years' '11 years' '12 years' '13 years' '2 years' '3 years'\n",
      " '4 years' '5 years' '6 years' '7 years' '8 years' '9 years']\n",
      "\n"
     ]
    }
   ],
   "source": [
    "print_response_overview(data, demographic_columns)"
   ]
  },
  {
   "cell_type": "markdown",
   "metadata": {},
   "source": [
    "### Removing the id variable from the summary because it doesn't carry any meaningful information"
   ]
  },
  {
   "cell_type": "code",
   "execution_count": 16,
   "metadata": {
    "collapsed": false
   },
   "outputs": [],
   "source": [
    "demographic_columns = list(demographic_columns)\n",
    "demographic_columns.remove('D6_respondent_id')"
   ]
  },
  {
   "cell_type": "code",
   "execution_count": 17,
   "metadata": {
    "collapsed": false
   },
   "outputs": [
    {
     "data": {
      "text/plain": [
       "['D1_region',\n",
       " 'D2_zone',\n",
       " 'D3_woreda',\n",
       " 'D4_camp_zone',\n",
       " 'D5_division_if_any',\n",
       " 'D7_sex_of_respondent',\n",
       " 'D8_age_of_respondent',\n",
       " 'D9_length_of_time_in_the_camp']"
      ]
     },
     "execution_count": 17,
     "metadata": {},
     "output_type": "execute_result"
    }
   ],
   "source": [
    "demographic_columns"
   ]
  },
  {
   "cell_type": "code",
   "execution_count": 18,
   "metadata": {
    "collapsed": false,
    "scrolled": true
   },
   "outputs": [
    {
     "name": "stdout",
     "output_type": "stream",
     "text": [
      "Q1_how_satisfied_are_you_with_the_activities_provided_by_plan_international_in_the_child_friendly_space\n",
      "['1_not_at_all' '2_slightly' '3_moderately' '4_nearly' '5_completely'\n",
      " '6_dont_know']\n",
      "\n",
      "Q2_are_you_able_to_attend_the_activities_that_you_want_to\n",
      "['1_yes' '2_no']\n",
      "\n",
      "Q3_do_you_feel_think_that_the_skills_you_learn_here_will_help_you_in_your_life_afterwards\n",
      "['1_not_at_all' '2_slightly' '3_moderately' '4_nearly' '5_completely'\n",
      " '6_dont_know']\n",
      "\n",
      "Q4_do_you_feel_you_have_a_say_in_what_activities_are_provided_in_the_child_friendly_space\n",
      "['1_not_at_all' '2_slightly' '3_moderately' '4_nearly' '5_completely'\n",
      " '6_dont_know']\n",
      "\n",
      "Q5_do_you_feel_safe_from_harm_in_this_camp\n",
      "['1_never' '2_rarely' '3_sometimes' '4_most_of_the_time' '5_always'\n",
      " '6_dont' 'know']\n",
      "\n",
      "Q6_do_you_know_who_to_talk_to_if_you_have_a_problem_with_the_activities_in_the_child_friendly_space\n",
      "['1_yes' '2_no']\n",
      "\n",
      "Q7_if_you_make_a_complaint_about_the_activities_do_you_think_you_will_get_a_response\n",
      "['1_not_at_all' '2_slightly' '3_moderately' '4_nearly' '5_completely'\n",
      " '6_dont_know']\n",
      "\n",
      "Q8_do_plan_international_staffs_treat_you_well\n",
      "['1_not_at_all' '2_slightly' '3_moderately' '4_nearly' '5_completely'\n",
      " '6_dont_know']\n",
      "\n"
     ]
    }
   ],
   "source": [
    "print_response_overview(data, breakdown_columns)"
   ]
  },
  {
   "cell_type": "markdown",
   "metadata": {},
   "source": [
    "### Determine proportion of don't knows and delete them"
   ]
  },
  {
   "cell_type": "code",
   "execution_count": 19,
   "metadata": {
    "collapsed": false
   },
   "outputs": [],
   "source": [
    "def count_dont_knows(data, template, columns):\n",
    "    for column in columns:\n",
    "        temp = pd.DataFrame(data.loc[:, column].value_counts())\n",
    "        temp = temp.reset_index()\n",
    "        temp.columns = column, 'frequency'\n",
    "        temp = temp.sort_values(by=column).reset_index(drop=True)\n",
    "        if template.loc[column, 'question_type'] == 'likert':\n",
    "            print temp.loc[5:, :]\n",
    "        elif template.loc[column, 'question_type'] == 'likert':\n",
    "            print temp.loc[2:, :]"
   ]
  },
  {
   "cell_type": "code",
   "execution_count": 20,
   "metadata": {
    "collapsed": false,
    "scrolled": false
   },
   "outputs": [
    {
     "name": "stdout",
     "output_type": "stream",
     "text": [
      "  Q1_how_satisfied_are_you_with_the_activities_provided_by_plan_international_in_the_child_friendly_space  \\\n",
      "5                                        6_dont_know                                                        \n",
      "\n",
      "   frequency  \n",
      "5         73  \n",
      "  Q3_do_you_feel_think_that_the_skills_you_learn_here_will_help_you_in_your_life_afterwards  \\\n",
      "5                                        6_dont_know                                          \n",
      "\n",
      "   frequency  \n",
      "5         68  \n",
      "  Q4_do_you_feel_you_have_a_say_in_what_activities_are_provided_in_the_child_friendly_space  \\\n",
      "5                                        6_dont_know                                          \n",
      "\n",
      "   frequency  \n",
      "5         74  \n",
      "  Q5_do_you_feel_safe_from_harm_in_this_camp  frequency\n",
      "5                                     6_dont         57\n",
      "6                                       know         51\n",
      "  Q7_if_you_make_a_complaint_about_the_activities_do_you_think_you_will_get_a_response  \\\n",
      "5                                        6_dont_know                                     \n",
      "\n",
      "   frequency  \n",
      "5         66  \n",
      "  Q8_do_plan_international_staffs_treat_you_well  frequency\n",
      "5                                    6_dont_know         64\n"
     ]
    }
   ],
   "source": [
    "count_dont_knows(data, template, breakdown_columns)"
   ]
  },
  {
   "cell_type": "markdown",
   "metadata": {},
   "source": [
    "### These are obviously high enough to be included in the report, but because this is an exercise I will delete them all"
   ]
  },
  {
   "cell_type": "code",
   "execution_count": 21,
   "metadata": {
    "collapsed": true
   },
   "outputs": [],
   "source": [
    "def delete_dont_knows(data, columns):\n",
    "     data.loc[:, columns] = data.loc[:, columns].replace(['6_dont_know', '3_dont_know', '7_dont_want_to_answer', '4_dont_want_to_answer'], np.nan)"
   ]
  },
  {
   "cell_type": "code",
   "execution_count": 22,
   "metadata": {
    "collapsed": false
   },
   "outputs": [],
   "source": [
    "delete_dont_knows(data, breakdown_columns)"
   ]
  },
  {
   "cell_type": "code",
   "execution_count": 23,
   "metadata": {
    "collapsed": false
   },
   "outputs": [],
   "source": [
    "data.loc[:, breakdown_columns] = data.loc[:, breakdown_columns].replace(['6_dont', 'know'], np.nan)"
   ]
  },
  {
   "cell_type": "markdown",
   "metadata": {},
   "source": [
    "### Reverse code the binary questions:"
   ]
  },
  {
   "cell_type": "code",
   "execution_count": 24,
   "metadata": {
    "collapsed": false
   },
   "outputs": [],
   "source": [
    "def reverse_question_scoring(data, question):\n",
    "    response_numbers = [np.int(answer.split('_')[0]) for answer in data[question]]\n",
    "    response_numbers = np.array(response_numbers)\n",
    "    response_numbers = max(response_numbers) - response_numbers + 1\n",
    "    response_splits = [answer.split('_') for answer in data[question]]\n",
    "    updated_responses = []\n",
    "    for x in range(len(response_splits)):\n",
    "        updated_responses.append(np.str(response_numbers[x]) + '_' + response_splits[x][1])\n",
    "    return updated_responses"
   ]
  },
  {
   "cell_type": "markdown",
   "metadata": {},
   "source": [
    "### Reverse the scoring of the binary questions because they are currently not going from negative to positive"
   ]
  },
  {
   "cell_type": "code",
   "execution_count": 25,
   "metadata": {
    "collapsed": true
   },
   "outputs": [],
   "source": [
    "data.loc[:, 'Q2_are_you_able_to_attend_the_activities_that_you_want_to'] = reverse_question_scoring(data, 'Q2_are_you_able_to_attend_the_activities_that_you_want_to')\n",
    "data.loc[:, 'Q6_do_you_know_who_to_talk_to_if_you_have_a_problem_with_the_activities_in_the_child_friendly_space'] = reverse_question_scoring(data, 'Q6_do_you_know_who_to_talk_to_if_you_have_a_problem_with_the_activities_in_the_child_friendly_space')"
   ]
  },
  {
   "cell_type": "code",
   "execution_count": 26,
   "metadata": {
    "collapsed": false,
    "scrolled": false
   },
   "outputs": [
    {
     "name": "stdout",
     "output_type": "stream",
     "text": [
      "Q1_how_satisfied_are_you_with_the_activities_provided_by_plan_international_in_the_child_friendly_space\n",
      "[nan '1_not_at_all' '2_slightly' '3_moderately' '4_nearly' '5_completely']\n",
      "\n",
      "Q2_are_you_able_to_attend_the_activities_that_you_want_to\n",
      "['1_no' '2_yes']\n",
      "\n",
      "Q3_do_you_feel_think_that_the_skills_you_learn_here_will_help_you_in_your_life_afterwards\n",
      "[nan '1_not_at_all' '2_slightly' '3_moderately' '4_nearly' '5_completely']\n",
      "\n",
      "Q4_do_you_feel_you_have_a_say_in_what_activities_are_provided_in_the_child_friendly_space\n",
      "[nan '1_not_at_all' '2_slightly' '3_moderately' '4_nearly' '5_completely']\n",
      "\n",
      "Q5_do_you_feel_safe_from_harm_in_this_camp\n",
      "[nan '1_never' '2_rarely' '3_sometimes' '4_most_of_the_time' '5_always']\n",
      "\n",
      "Q6_do_you_know_who_to_talk_to_if_you_have_a_problem_with_the_activities_in_the_child_friendly_space\n",
      "['1_no' '2_yes']\n",
      "\n",
      "Q7_if_you_make_a_complaint_about_the_activities_do_you_think_you_will_get_a_response\n",
      "[nan '1_not_at_all' '2_slightly' '3_moderately' '4_nearly' '5_completely']\n",
      "\n",
      "Q8_do_plan_international_staffs_treat_you_well\n",
      "[nan '1_not_at_all' '2_slightly' '3_moderately' '4_nearly' '5_completely']\n",
      "\n"
     ]
    }
   ],
   "source": [
    "print_response_overview(data, breakdown_columns)"
   ]
  },
  {
   "cell_type": "code",
   "execution_count": 27,
   "metadata": {
    "collapsed": false
   },
   "outputs": [],
   "source": [
    "def bin_quantities(data, template, quantiles=3):\n",
    "    for column in template.loc[template['question_type']=='quantity', :].index:\n",
    "        print column\n",
    "        extracted_quantities = []\n",
    "        for index in data.index:\n",
    "            extracted_quantities.append(np.int(data.loc[index, column].split()[0]))\n",
    "        data[column+'_quantiles'] = pd.qcut(extracted_quantities, quantiles)"
   ]
  },
  {
   "cell_type": "code",
   "execution_count": 28,
   "metadata": {
    "collapsed": false
   },
   "outputs": [
    {
     "name": "stdout",
     "output_type": "stream",
     "text": [
      "D8_age_of_respondent\n",
      "D9_length_of_time_in_the_camp\n"
     ]
    }
   ],
   "source": [
    "bin_quantities(data, template)"
   ]
  },
  {
   "cell_type": "code",
   "execution_count": 29,
   "metadata": {
    "collapsed": false
   },
   "outputs": [
    {
     "name": "stdout",
     "output_type": "stream",
     "text": [
      "Q1_how_satisfied_are_you_with_the_activities_provided_by_plan_international_in_the_child_friendly_space\n",
      "Q3_do_you_feel_think_that_the_skills_you_learn_here_will_help_you_in_your_life_afterwards\n",
      "Q4_do_you_feel_you_have_a_say_in_what_activities_are_provided_in_the_child_friendly_space\n",
      "Q5_do_you_feel_safe_from_harm_in_this_camp\n",
      "Q7_if_you_make_a_complaint_about_the_activities_do_you_think_you_will_get_a_response\n",
      "Q8_do_plan_international_staffs_treat_you_well\n"
     ]
    },
    {
     "data": {
      "text/html": [
       "<div>\n",
       "<table border=\"1\" class=\"dataframe\">\n",
       "  <thead>\n",
       "    <tr style=\"text-align: right;\">\n",
       "      <th></th>\n",
       "      <th>Q1_how_satisfied_are_you_with_the_activities_provided_by_plan_international_in_the_child_friendly_space</th>\n",
       "      <th>Q3_do_you_feel_think_that_the_skills_you_learn_here_will_help_you_in_your_life_afterwards</th>\n",
       "      <th>Q4_do_you_feel_you_have_a_say_in_what_activities_are_provided_in_the_child_friendly_space</th>\n",
       "      <th>Q5_do_you_feel_safe_from_harm_in_this_camp</th>\n",
       "      <th>Q7_if_you_make_a_complaint_about_the_activities_do_you_think_you_will_get_a_response</th>\n",
       "      <th>Q8_do_plan_international_staffs_treat_you_well</th>\n",
       "    </tr>\n",
       "  </thead>\n",
       "  <tbody>\n",
       "    <tr>\n",
       "      <th>0</th>\n",
       "      <td>NaN</td>\n",
       "      <td>5.0</td>\n",
       "      <td>4.0</td>\n",
       "      <td>4.0</td>\n",
       "      <td>NaN</td>\n",
       "      <td>4.0</td>\n",
       "    </tr>\n",
       "    <tr>\n",
       "      <th>1</th>\n",
       "      <td>5.0</td>\n",
       "      <td>3.0</td>\n",
       "      <td>2.0</td>\n",
       "      <td>NaN</td>\n",
       "      <td>4.0</td>\n",
       "      <td>4.0</td>\n",
       "    </tr>\n",
       "    <tr>\n",
       "      <th>2</th>\n",
       "      <td>2.0</td>\n",
       "      <td>3.0</td>\n",
       "      <td>5.0</td>\n",
       "      <td>NaN</td>\n",
       "      <td>NaN</td>\n",
       "      <td>3.0</td>\n",
       "    </tr>\n",
       "    <tr>\n",
       "      <th>3</th>\n",
       "      <td>1.0</td>\n",
       "      <td>1.0</td>\n",
       "      <td>3.0</td>\n",
       "      <td>4.0</td>\n",
       "      <td>4.0</td>\n",
       "      <td>3.0</td>\n",
       "    </tr>\n",
       "    <tr>\n",
       "      <th>4</th>\n",
       "      <td>2.0</td>\n",
       "      <td>1.0</td>\n",
       "      <td>1.0</td>\n",
       "      <td>4.0</td>\n",
       "      <td>NaN</td>\n",
       "      <td>2.0</td>\n",
       "    </tr>\n",
       "    <tr>\n",
       "      <th>5</th>\n",
       "      <td>5.0</td>\n",
       "      <td>5.0</td>\n",
       "      <td>5.0</td>\n",
       "      <td>5.0</td>\n",
       "      <td>4.0</td>\n",
       "      <td>NaN</td>\n",
       "    </tr>\n",
       "    <tr>\n",
       "      <th>6</th>\n",
       "      <td>NaN</td>\n",
       "      <td>1.0</td>\n",
       "      <td>5.0</td>\n",
       "      <td>1.0</td>\n",
       "      <td>5.0</td>\n",
       "      <td>NaN</td>\n",
       "    </tr>\n",
       "    <tr>\n",
       "      <th>7</th>\n",
       "      <td>NaN</td>\n",
       "      <td>2.0</td>\n",
       "      <td>5.0</td>\n",
       "      <td>2.0</td>\n",
       "      <td>4.0</td>\n",
       "      <td>1.0</td>\n",
       "    </tr>\n",
       "    <tr>\n",
       "      <th>8</th>\n",
       "      <td>5.0</td>\n",
       "      <td>4.0</td>\n",
       "      <td>4.0</td>\n",
       "      <td>4.0</td>\n",
       "      <td>2.0</td>\n",
       "      <td>1.0</td>\n",
       "    </tr>\n",
       "    <tr>\n",
       "      <th>9</th>\n",
       "      <td>1.0</td>\n",
       "      <td>3.0</td>\n",
       "      <td>4.0</td>\n",
       "      <td>2.0</td>\n",
       "      <td>5.0</td>\n",
       "      <td>3.0</td>\n",
       "    </tr>\n",
       "    <tr>\n",
       "      <th>10</th>\n",
       "      <td>NaN</td>\n",
       "      <td>4.0</td>\n",
       "      <td>2.0</td>\n",
       "      <td>NaN</td>\n",
       "      <td>NaN</td>\n",
       "      <td>NaN</td>\n",
       "    </tr>\n",
       "  </tbody>\n",
       "</table>\n",
       "</div>"
      ],
      "text/plain": [
       "    Q1_how_satisfied_are_you_with_the_activities_provided_by_plan_international_in_the_child_friendly_space  \\\n",
       "0                                                 NaN                                                         \n",
       "1                                                 5.0                                                         \n",
       "2                                                 2.0                                                         \n",
       "3                                                 1.0                                                         \n",
       "4                                                 2.0                                                         \n",
       "5                                                 5.0                                                         \n",
       "6                                                 NaN                                                         \n",
       "7                                                 NaN                                                         \n",
       "8                                                 5.0                                                         \n",
       "9                                                 1.0                                                         \n",
       "10                                                NaN                                                         \n",
       "\n",
       "    Q3_do_you_feel_think_that_the_skills_you_learn_here_will_help_you_in_your_life_afterwards  \\\n",
       "0                                                 5.0                                           \n",
       "1                                                 3.0                                           \n",
       "2                                                 3.0                                           \n",
       "3                                                 1.0                                           \n",
       "4                                                 1.0                                           \n",
       "5                                                 5.0                                           \n",
       "6                                                 1.0                                           \n",
       "7                                                 2.0                                           \n",
       "8                                                 4.0                                           \n",
       "9                                                 3.0                                           \n",
       "10                                                4.0                                           \n",
       "\n",
       "    Q4_do_you_feel_you_have_a_say_in_what_activities_are_provided_in_the_child_friendly_space  \\\n",
       "0                                                 4.0                                           \n",
       "1                                                 2.0                                           \n",
       "2                                                 5.0                                           \n",
       "3                                                 3.0                                           \n",
       "4                                                 1.0                                           \n",
       "5                                                 5.0                                           \n",
       "6                                                 5.0                                           \n",
       "7                                                 5.0                                           \n",
       "8                                                 4.0                                           \n",
       "9                                                 4.0                                           \n",
       "10                                                2.0                                           \n",
       "\n",
       "    Q5_do_you_feel_safe_from_harm_in_this_camp  \\\n",
       "0                                          4.0   \n",
       "1                                          NaN   \n",
       "2                                          NaN   \n",
       "3                                          4.0   \n",
       "4                                          4.0   \n",
       "5                                          5.0   \n",
       "6                                          1.0   \n",
       "7                                          2.0   \n",
       "8                                          4.0   \n",
       "9                                          2.0   \n",
       "10                                         NaN   \n",
       "\n",
       "    Q7_if_you_make_a_complaint_about_the_activities_do_you_think_you_will_get_a_response  \\\n",
       "0                                                 NaN                                      \n",
       "1                                                 4.0                                      \n",
       "2                                                 NaN                                      \n",
       "3                                                 4.0                                      \n",
       "4                                                 NaN                                      \n",
       "5                                                 4.0                                      \n",
       "6                                                 5.0                                      \n",
       "7                                                 4.0                                      \n",
       "8                                                 2.0                                      \n",
       "9                                                 5.0                                      \n",
       "10                                                NaN                                      \n",
       "\n",
       "    Q8_do_plan_international_staffs_treat_you_well  \n",
       "0                                              4.0  \n",
       "1                                              4.0  \n",
       "2                                              3.0  \n",
       "3                                              3.0  \n",
       "4                                              2.0  \n",
       "5                                              NaN  \n",
       "6                                              NaN  \n",
       "7                                              1.0  \n",
       "8                                              1.0  \n",
       "9                                              3.0  \n",
       "10                                             NaN  "
      ]
     },
     "execution_count": 29,
     "metadata": {},
     "output_type": "execute_result"
    }
   ],
   "source": [
    "mean_data = data.copy()\n",
    "for column in mean_columns:\n",
    "    print column\n",
    "    number_list = []\n",
    "    for answer in mean_data.loc[: , column]:\n",
    "        if answer != answer:\n",
    "            number_list.append(np.nan)\n",
    "        else:\n",
    "            number_list.append(answer.split('_')[0])\n",
    "    mean_data.loc[: , column] = number_list\n",
    "    mean_data.loc[: , column] = mean_data.loc[: , column].astype(float)\n",
    "mean_data.loc[0:10, mean_columns]"
   ]
  },
  {
   "cell_type": "markdown",
   "metadata": {},
   "source": [
    "## Creating the excel spreadsheet and plotting the graphs"
   ]
  },
  {
   "cell_type": "code",
   "execution_count": 30,
   "metadata": {
    "collapsed": false
   },
   "outputs": [],
   "source": [
    "def gen_freq_table(data, question):\n",
    "    table = data[question].value_counts()\n",
    "    table = pd.DataFrame(table)\n",
    "    table = table.reset_index()\n",
    "    table.columns = [question, 'frequency']\n",
    "    if question.split('_')[0] != 'quantiles':\n",
    "        table = table.sort_values(by=question, ascending=True)\n",
    "    table = table.reset_index(drop=True)\n",
    "    table['percent'] = table['frequency']\n",
    "    table['cum_frequency'] = table['frequency']\n",
    "    for index in table.index:\n",
    "        if index > 0:\n",
    "            table.loc[index, 'cum_frequency'] = table.loc[index, 'frequency'] + table.loc[index-1, 'cum_frequency']\n",
    "    table['percent'] = table['percent']/table.loc[table.shape[0]-1, 'cum_frequency']\n",
    "    table['percent'] = np.round(table['percent']*100)\n",
    "    table['cum_proportion'] = table['cum_frequency']/table.loc[table.shape[0]-1, 'cum_frequency']\n",
    "    return table"
   ]
  },
  {
   "cell_type": "code",
   "execution_count": 31,
   "metadata": {
    "collapsed": false
   },
   "outputs": [],
   "source": [
    "def draw_likert_plot(table):\n",
    "    # set up figure parameters\n",
    "    sns.set(style='white', font_scale=1.5)\n",
    "    fig, ax = plt.subplots(figsize=(15,2))\n",
    "    likert_colours = sns.color_palette([\"#f19891\", \"#f8cac3\", \"#e9ecf0\", \"#b2cfb3\", \"#4aa168\", \"#d1b26f\", '#ad8150'])\n",
    "    \n",
    "    # plot the figure\n",
    "    response_categories = range(table.shape[0])\n",
    "    response_categories.reverse()\n",
    "    for cat in response_categories:\n",
    "        sns.barplot(x=table.loc[cat, 'cum_proportion'], color=likert_colours[cat])\n",
    "\n",
    "    # remove black lines around the figure\n",
    "    sns.despine(top=True, right=True, left=True, bottom=True)\n",
    "    # remove the y-scale\n",
    "    ax.set(xticklabels=[])\n",
    "    \n",
    "    #create the white spaces between the squares\n",
    "    rects = ax.patches\n",
    "    [rect.set(edgecolor='white', linewidth=3) for rect in rects]\n",
    "\n",
    "    #add the percentage labels\n",
    "    labels = list(table['percent'].astype(int))\n",
    "    labels.reverse()\n",
    "    labels = [\"{0:.0f}\".format(label) for label in labels]\n",
    "\n",
    "    start_points = [rect.get_width() for rect in rects]\n",
    "    start_points.pop(0)\n",
    "    start_points.append(0.0)\n",
    "    end_points = [rect.get_width() for rect in rects]\n",
    "    differences = np.array(end_points) - np.array(start_points)\n",
    "    label_positions = differences/2 + start_points\n",
    "\n",
    "    for rect, label, label_position in zip(rects, labels, label_positions):\n",
    "        height = rect.get_height()/6\n",
    "        ax.text(rect.get_x() + label_position, height, label,\n",
    "                weight='bold', ha='center', va='bottom', size=30, color='#000000')\n",
    "    \n",
    "    # savefig\n",
    "    question_name = table.columns[0]\n",
    "    plt.tight_layout()\n",
    "    fig.gca().set_axis_off()\n",
    "    fig.subplots_adjust(top = 1, bottom = 0, right = 1, left = 0, \n",
    "            hspace = 0, wspace = 0)\n",
    "    ax.margins(0,0)\n",
    "    fig.gca().xaxis.set_major_locator(plt.NullLocator())\n",
    "    fig.gca().yaxis.set_major_locator(plt.NullLocator())\n",
    "    \n",
    "    plt.savefig('output/' + question_name+'.pdf', dpi=600, bbox_inches='tight', pad_inches=0)"
   ]
  },
  {
   "cell_type": "code",
   "execution_count": 32,
   "metadata": {
    "collapsed": true
   },
   "outputs": [],
   "source": [
    "def draw_binary_plot(table):\n",
    "    # set up figure parameters\n",
    "    sns.set(style='white', font_scale=1.5)\n",
    "    fig, ax = plt.subplots(figsize=(15,2))\n",
    "    binary_colours = sns.color_palette([\"#f19891\", \"#4aa168\", \"#d1b26f\", '#ad8150'])\n",
    "    \n",
    "    # plot the figure\n",
    "    sns.barplot(x=table.loc[1, 'cum_proportion'], color=binary_colours[1])\n",
    "    sns.barplot(x=table.loc[0, 'cum_proportion'], color=binary_colours[0])\n",
    "    \n",
    "    # remove black lines around the figure\n",
    "    sns.despine(top=True, right=True, left=True, bottom=True)\n",
    "    # remove the y-scale\n",
    "    ax.set(xticklabels=[])\n",
    "    \n",
    "    #create the white spaces between the squares\n",
    "    rects = ax.patches\n",
    "    [rect.set(edgecolor='white', linewidth=3) for rect in rects]\n",
    "\n",
    "    #add the percentage labels\n",
    "    labels = list(table['percent'].astype(int))\n",
    "    labels.reverse()\n",
    "    labels = [\"{0:.0f}\".format(label) for label in labels]\n",
    "\n",
    "    start_points = [rect.get_width() for rect in rects]\n",
    "    start_points.pop(0)\n",
    "    start_points.append(0.0)\n",
    "    end_points = [rect.get_width() for rect in rects]\n",
    "    differences = np.array(end_points) - np.array(start_points)\n",
    "    label_positions = differences/2 + start_points\n",
    "\n",
    "    for rect, label, label_position in zip(rects, labels, label_positions):\n",
    "        height = rect.get_height()/6\n",
    "        ax.text(rect.get_x() + label_position, height, label,\n",
    "                weight='bold', ha='center', va='bottom', size=30, color='#000000')\n",
    "        \n",
    "    # savefig\n",
    "    question_name = table.columns[0]\n",
    "    plt.tight_layout()\n",
    "    plt.savefig('output/'+question_name+'.pdf', dpi=600)"
   ]
  },
  {
   "cell_type": "code",
   "execution_count": 33,
   "metadata": {
    "collapsed": false
   },
   "outputs": [],
   "source": [
    "import os as os\n",
    "newpath = r'output' \n",
    "if not os.path.exists(newpath):\n",
    "    os.makedirs(newpath)"
   ]
  },
  {
   "cell_type": "code",
   "execution_count": 34,
   "metadata": {
    "collapsed": false,
    "scrolled": true
   },
   "outputs": [],
   "source": [
    "writer = pd.ExcelWriter('output/ethiopia_plan_example_spreadsheet.xlsx')"
   ]
  },
  {
   "cell_type": "code",
   "execution_count": 35,
   "metadata": {
    "collapsed": false,
    "scrolled": true
   },
   "outputs": [
    {
     "name": "stdout",
     "output_type": "stream",
     "text": [
      "D1_region\n",
      "0\n",
      "  D1_region  frequency  percent\n",
      "0  region_1        400    100.0\n",
      "1\n",
      "D2_zone\n",
      "3\n",
      "  D2_zone  frequency  percent\n",
      "0  zone_a        400    100.0\n",
      "1\n",
      "D3_woreda\n",
      "6\n",
      "  D3_woreda  frequency  percent\n",
      "0  woreda_1        200     50.0\n",
      "1  woreda_2        200     50.0\n",
      "2\n",
      "D4_camp_zone\n",
      "10\n",
      "  D4_camp_zone  frequency  percent\n",
      "0  camp_zone_a        200     50.0\n",
      "1  camp_zone_b        200     50.0\n",
      "2\n",
      "D5_division_if_any\n",
      "14\n",
      "  D5_division_if_any  frequency  percent\n",
      "0         division_1        100     25.0\n",
      "1         division_2        100     25.0\n",
      "2         division_3        100     25.0\n",
      "3         division_4        100     25.0\n",
      "4\n",
      "D7_sex_of_respondent\n",
      "20\n",
      "  D7_sex_of_respondent  frequency  percent\n",
      "0             1_female        191     48.0\n",
      "1               2_male        209     52.0\n",
      "2\n",
      "D8_age_of_respondent\n",
      "24\n",
      "  D8_age_of_respondent  frequency  percent\n",
      "0                 6-31        146     36.0\n",
      "1                31-39        122     30.0\n",
      "2                39-62        132     33.0\n",
      "3\n",
      "D9_length_of_time_in_the_camp\n",
      "29\n",
      "  D9_length_of_time_in_the_camp  frequency  percent\n",
      "0                           1-6        164     41.0\n",
      "1                           6-8        147     37.0\n",
      "2                          8-13         89     22.0\n",
      "3\n"
     ]
    }
   ],
   "source": [
    "row = 0\n",
    "for column in demographic_columns:\n",
    "    print column\n",
    "    print row\n",
    "    ### Dealing with quantities\n",
    "    if column in template.loc[template['question_type']=='quantity', :].index:\n",
    "        output = gen_freq_table(data, column+'_quantiles')\n",
    "        output = output.sort_values(by=output.columns[0], ascending=True)\n",
    "        output = output.iloc[:, 0:3]\n",
    "        categories = output.iloc[:, 0]\n",
    "        categories = [category.translate(None, \"(),[]\") for category in categories]\n",
    "        categories = ['-'.join(category.split()) for category in categories]\n",
    "        output.iloc[:, 0] = categories\n",
    "        output.rename(columns={column+'_quantiles':column}, inplace=True)\n",
    "    else:\n",
    "        output = gen_freq_table(data, column)\n",
    "        output = output.iloc[:, 0:3]\n",
    "    output.to_excel(writer, 'demographics', startrow=row)\n",
    "    print output\n",
    "    row = row + output.shape[0] + 2\n",
    "    print output.shape[0]"
   ]
  },
  {
   "cell_type": "code",
   "execution_count": 36,
   "metadata": {
    "collapsed": false
   },
   "outputs": [
    {
     "data": {
      "image/png": "[encoded data removed]",
      "text/plain": [
       "<matplotlib.figure.Figure at 0xb382748>"
      ]
     },
     "metadata": {},
     "output_type": "display_data"
    },
    {
     "data": {
      "image/png": "[encoded data removed]",
      "text/plain": [
       "<matplotlib.figure.Figure at 0xbef6a20>"
      ]
     },
     "metadata": {},
     "output_type": "display_data"
    },
    {
     "data": {
      "image/png": "[encoded data removed]",
      "text/plain": [
       "<matplotlib.figure.Figure at 0xc2a1e10>"
      ]
     },
     "metadata": {},
     "output_type": "display_data"
    },
    {
     "data": {
      "image/png": "[encoded data removed]",
      "text/plain": [
       "<matplotlib.figure.Figure at 0xc8bc1d0>"
      ]
     },
     "metadata": {},
     "output_type": "display_data"
    },
    {
     "data": {
      "image/png": "[encoded data removed]",
      "text/plain": [
       "<matplotlib.figure.Figure at 0xcad27f0>"
      ]
     },
     "metadata": {},
     "output_type": "display_data"
    },
    {
     "data": {
      "image/png": "[encoded data removed]",
      "text/plain": [
       "<matplotlib.figure.Figure at 0xaec6cf8>"
      ]
     },
     "metadata": {},
     "output_type": "display_data"
    },
    {
     "data": {
      "image/png": "[encoded data removed]",
      "text/plain": [
       "<matplotlib.figure.Figure at 0xbe2f550>"
      ]
     },
     "metadata": {},
     "output_type": "display_data"
    },
    {
     "data": {
      "image/png": "[encoded data removed]",
      "text/plain": [
       "<matplotlib.figure.Figure at 0xb411c18>"
      ]
     },
     "metadata": {},
     "output_type": "display_data"
    }
   ],
   "source": [
    "row = 0\n",
    "written_rows = {}\n",
    "def draw_basic_plot(template, column, output):\n",
    "    if column in template.loc[template['question_type']=='binary', :].index:\n",
    "        draw_binary_plot(output)\n",
    "    elif column in template.loc[template['question_type']=='likert', :].index:\n",
    "        draw_likert_plot(output)\n",
    "\n",
    "for column in question_columns:\n",
    "    ### Dealing with quantities\n",
    "    if column in template.loc[template['question_type']=='quantity', :].index:\n",
    "        output = gen_freq_table(data, column+'_quantiles')\n",
    "        output = output.sort(output.columns[0], ascending=True)\n",
    "        draw_basic_plot(template, column, output)\n",
    "        output = output.iloc[:, 0:3]\n",
    "        categories = output.iloc[:, 0]\n",
    "        categories = [category.translate(None, \"(),[]\") for category in categories]\n",
    "        categories = ['-'.join(category.split()) for category in categories]\n",
    "        output.iloc[:, 0] = categories\n",
    "    else:\n",
    "        output = gen_freq_table(data, column)\n",
    "        draw_basic_plot(template, column, output)\n",
    "        output = output.iloc[:, 0:3]\n",
    "    written_rows[column] = output.shape[0] + 2\n",
    "    output.to_excel(writer, column.split('_')[0], startrow=row)\n",
    "    if column in mean_columns:\n",
    "        mean_data[column]"
   ]
  },
  {
   "cell_type": "code",
   "execution_count": 40,
   "metadata": {
    "collapsed": true
   },
   "outputs": [],
   "source": [
    "breakdown_variables = ['D5_division_if_any', 'D7_sex_of_respondent', 'D8_age_of_respondent',\n",
    "                      'D9_length_of_time_in_the_camp']"
   ]
  },
  {
   "cell_type": "code",
   "execution_count": 41,
   "metadata": {
    "collapsed": false
   },
   "outputs": [],
   "source": [
    "def gen_disag_table(data, question, breakdown):\n",
    "    table = data.groupby(breakdown)[question].value_counts()\n",
    "    table = pd.DataFrame(table)\n",
    "    table.columns = ['frequency']\n",
    "    table = table.reset_index()\n",
    "    table = table.sort_values(by=[breakdown, question])\n",
    "    table.reset_index(inplace=True, drop=True)\n",
    "    table\n",
    "    table['percent'] = table['frequency']\n",
    "    table['cum_frequency'] = table['frequency']\n",
    "    table['cum_proportion'] = np.nan\n",
    "\n",
    "    for category in table[breakdown].unique():    \n",
    "        counter = 0\n",
    "        for index in table.loc[table[breakdown]==category].index:\n",
    "            if counter > 0:\n",
    "                table.loc[index, 'cum_frequency'] = table.loc[index, 'frequency'] + table.loc[index-1, 'cum_frequency']\n",
    "            counter +=1\n",
    "        table.loc[table[breakdown]==category, 'percent'] = (table.loc[table[breakdown]==category, 'percent']/\n",
    "        table.loc[table.loc[table[breakdown]==category, :].index.max(), 'cum_frequency'])\n",
    "        table.loc[table[breakdown]==category, 'percent'] = table.loc[table[breakdown]==category, 'percent']*100\n",
    "        table.loc[table[breakdown]==category, 'cum_proportion'] = (table.loc[table[breakdown]==category, 'cum_frequency']/\n",
    "        table.loc[table.loc[table[breakdown]==category, :].index.max(), 'cum_frequency'])\n",
    "    return table"
   ]
  },
  {
   "cell_type": "code",
   "execution_count": 42,
   "metadata": {
    "collapsed": false
   },
   "outputs": [],
   "source": [
    "def draw_disag_plot(table, likert=True, reindex_order=np.nan):\n",
    "    likert_colours = sns.color_palette([\"#f19891\", \"#f8cac3\", \"#e9ecf0\", \"#b2cfb3\", \"#4aa168\", \"#d1b26f\", '#ad8150'])\n",
    "    binary_colours = sns.color_palette([\"#f19891\", \"#4aa168\", \"#d1b26f\", '#ad8150'])\n",
    "    if likert == True:\n",
    "        colours = likert_colours\n",
    "    else:\n",
    "        colours = binary_colours\n",
    "\n",
    "    # this is a stupid formula so that the figure gets 2 inches wider for each category, with an additional inch for\n",
    "    # the whitespace between each category\n",
    "    fig_height = len(table.loc[:, table.columns[0]].unique())*2\n",
    "    fig, ax = plt.subplots(figsize=(15, fig_height))\n",
    "    \n",
    "    # preparing and plotting the basic graph\n",
    "    table2 = table.pivot(index=table.columns[0], columns=table.columns[1], values='percent')\n",
    "    if reindex_order == reindex_order:\n",
    "        table2.reindex(reindex_order)\n",
    "    index = list(table2.index)\n",
    "    index.reverse()\n",
    "    table2 = table2.reindex(index)\n",
    "    table2.plot(kind='barh', stacked=True, color=colours, ax=ax, legend=False, width=0.6)\n",
    "\n",
    "    # remove black lines around the figure\n",
    "    sns.despine(top=True, right=True, left=True, bottom=True)\n",
    "    alternatives = ax.get_yticklabels()\n",
    "    alternatives = [alternative.get_text() for alternative in list(alternatives)]\n",
    "    alternatives.reverse()\n",
    "    ax.set(xticklabels=[], ylabel='', yticklabels=[])\n",
    "\n",
    "    #create the white spaces between the squares\n",
    "    rects = ax.patches\n",
    "    [rect.set(edgecolor='white', linewidth=3) for rect in rects]\n",
    "\n",
    "    # Adding the percentage labels\n",
    "    for p in ax.patches:\n",
    "        ax.annotate(\"{0:.0f}\".format(p.get_width()),\n",
    "                    (p.get_x() + p.get_width()/2-2, p.get_y()), xytext=(0, 30), textcoords='offset points',\n",
    "                   weight='bold', size=30)\n",
    "    # savefig\n",
    "    question_name = table2.columns.name.split('_')[0] + '_by_' + table2.index.name.split('_')[0] + '_order'\n",
    "    for alternative in alternatives:\n",
    "        question_name = question_name + '_' + np.str(alternative)\n",
    "    plt.tight_layout()\n",
    "    fig.gca().set_axis_off()\n",
    "    fig.subplots_adjust(top = 1, bottom = 0, right = 1, left = 0, \n",
    "    hspace = 0, wspace = 0)\n",
    "    ax.margins(0,0)\n",
    "    fig.gca().xaxis.set_major_locator(plt.NullLocator())\n",
    "    fig.gca().yaxis.set_major_locator(plt.NullLocator())\n",
    "    plt.savefig(r'output/' + table2.index.name + '_breakdowns/' + question_name+'.pdf', dpi=600, bbox_inches='tight', pad_inches=0)\n",
    "    plt.close()"
   ]
  },
  {
   "cell_type": "code",
   "execution_count": 43,
   "metadata": {
    "collapsed": false,
    "scrolled": false
   },
   "outputs": [
    {
     "name": "stdout",
     "output_type": "stream",
     "text": [
      "Q1_how_satisfied_are_you_with_the_activities_provided_by_plan_international_in_the_child_friendly_space\n",
      "7\n",
      "4\n",
      "Q2_are_you_able_to_attend_the_activities_that_you_want_to\n",
      "4\n",
      "4\n",
      "Q3_do_you_feel_think_that_the_skills_you_learn_here_will_help_you_in_your_life_afterwards\n",
      "7\n",
      "4\n",
      "Q4_do_you_feel_you_have_a_say_in_what_activities_are_provided_in_the_child_friendly_space\n",
      "7\n",
      "4\n",
      "Q5_do_you_feel_safe_from_harm_in_this_camp\n",
      "7\n",
      "4\n",
      "Q6_do_you_know_who_to_talk_to_if_you_have_a_problem_with_the_activities_in_the_child_friendly_space\n",
      "4\n",
      "4\n",
      "Q7_if_you_make_a_complaint_about_the_activities_do_you_think_you_will_get_a_response\n",
      "7\n",
      "4\n",
      "Q8_do_plan_international_staffs_treat_you_well\n",
      "7\n",
      "4\n",
      "Q1_how_satisfied_are_you_with_the_activities_provided_by_plan_international_in_the_child_friendly_space\n",
      "14\n",
      "2\n",
      "Q2_are_you_able_to_attend_the_activities_that_you_want_to\n",
      "11\n",
      "2\n",
      "Q3_do_you_feel_think_that_the_skills_you_learn_here_will_help_you_in_your_life_afterwards\n",
      "14\n",
      "2\n",
      "Q4_do_you_feel_you_have_a_say_in_what_activities_are_provided_in_the_child_friendly_space\n",
      "14\n",
      "2\n",
      "Q5_do_you_feel_safe_from_harm_in_this_camp\n",
      "14\n",
      "2\n",
      "Q6_do_you_know_who_to_talk_to_if_you_have_a_problem_with_the_activities_in_the_child_friendly_space\n",
      "11\n",
      "2\n",
      "Q7_if_you_make_a_complaint_about_the_activities_do_you_think_you_will_get_a_response\n",
      "14\n",
      "2\n",
      "Q8_do_plan_international_staffs_treat_you_well\n",
      "14\n",
      "2\n",
      "Q1_how_satisfied_are_you_with_the_activities_provided_by_plan_international_in_the_child_friendly_space\n",
      "19\n",
      "3\n",
      "Q2_are_you_able_to_attend_the_activities_that_you_want_to\n",
      "16\n",
      "3\n",
      "Q3_do_you_feel_think_that_the_skills_you_learn_here_will_help_you_in_your_life_afterwards\n",
      "19\n",
      "3\n",
      "Q4_do_you_feel_you_have_a_say_in_what_activities_are_provided_in_the_child_friendly_space\n",
      "19\n",
      "3\n",
      "Q5_do_you_feel_safe_from_harm_in_this_camp\n",
      "19\n",
      "3\n",
      "Q6_do_you_know_who_to_talk_to_if_you_have_a_problem_with_the_activities_in_the_child_friendly_space\n",
      "16\n",
      "3\n",
      "Q7_if_you_make_a_complaint_about_the_activities_do_you_think_you_will_get_a_response\n",
      "19\n",
      "3\n",
      "Q8_do_plan_international_staffs_treat_you_well\n",
      "19\n",
      "3\n",
      "Q1_how_satisfied_are_you_with_the_activities_provided_by_plan_international_in_the_child_friendly_space\n",
      "25\n",
      "3\n",
      "Q2_are_you_able_to_attend_the_activities_that_you_want_to\n",
      "22\n",
      "3\n",
      "Q3_do_you_feel_think_that_the_skills_you_learn_here_will_help_you_in_your_life_afterwards\n",
      "25\n",
      "3\n",
      "Q4_do_you_feel_you_have_a_say_in_what_activities_are_provided_in_the_child_friendly_space\n",
      "25\n",
      "3\n",
      "Q5_do_you_feel_safe_from_harm_in_this_camp\n",
      "25\n",
      "3\n",
      "Q6_do_you_know_who_to_talk_to_if_you_have_a_problem_with_the_activities_in_the_child_friendly_space\n",
      "22\n",
      "3\n",
      "Q7_if_you_make_a_complaint_about_the_activities_do_you_think_you_will_get_a_response\n",
      "25\n",
      "3\n",
      "Q8_do_plan_international_staffs_treat_you_well\n",
      "25\n",
      "3\n"
     ]
    }
   ],
   "source": [
    "for variable in breakdown_variables:\n",
    "    quantile_table = False\n",
    "    if variable in template.loc[template['question_type']=='quantity', :].index:\n",
    "        variable = variable + '_quantiles'\n",
    "        quantile_table = True\n",
    "    newpath = r'output/' + variable + '_breakdowns'  \n",
    "    if not os.path.exists(newpath):\n",
    "        os.makedirs(newpath)\n",
    "    for column in breakdown_columns:\n",
    "        mean_column = False\n",
    "        print column\n",
    "        if column in mean_columns:\n",
    "            mean_column = True\n",
    "            means = pd.DataFrame(mean_data.groupby(variable)[column].mean())\n",
    "            means.columns = ['mean']\n",
    "        if column in template.loc[template['question_type']=='likert', :].index:\n",
    "            likert_question = True\n",
    "        else:\n",
    "            likert_question = False\n",
    "        table = gen_disag_table(data, column, variable)\n",
    "        if quantile_table == True:\n",
    "            categories = table.iloc[:, 0].unique()\n",
    "            categories = [category.translate(None, \"(),[]\") for category in categories]\n",
    "            categories = ['-'.join(category.split()) for category in categories]\n",
    "            categories\n",
    "            table.iloc[:, 0] = table.iloc[:, 0].astype('str')\n",
    "            table = table.replace(table.iloc[:, 0].unique(), categories)\n",
    "            if mean_column == True:\n",
    "                means.index = categories\n",
    "        \n",
    "        frequency_output = table.pivot(index=table.columns[0], columns=table.columns[1], values='frequency')\n",
    "        frequency_output.columns.name = frequency_output.columns.name + '_frequency'\n",
    "        if quantile_table == True:\n",
    "            frequency_output = frequency_output.reindex(categories)\n",
    "        \n",
    "        \n",
    "        percent_output = table.pivot(index=table.columns[0], columns=table.columns[1], values='percent')\n",
    "        percent_output = percent_output.round().astype(int)\n",
    "        percent_output.columns.name = percent_output.columns.name + '_percent'\n",
    "        if quantile_table == True:\n",
    "            percent_output = percent_output.reindex(categories)\n",
    "        \n",
    "        frequency_output.to_excel(writer, column.split('_')[0], startrow=written_rows[column])\n",
    "        percent_output.to_excel(writer, column.split('_')[0], startrow=written_rows[column], startcol=10)\n",
    "        if mean_column == True:\n",
    "            means.to_excel(writer, column.split('_')[0], startrow=written_rows[column], startcol=20) \n",
    "        print written_rows[column]\n",
    "        print frequency_output.shape[0]\n",
    "        written_rows[column] = written_rows[column] + frequency_output.shape[0] + 3\n",
    "        if quantile_table == True:\n",
    "            draw_disag_plot(table, likert_question, reindex_order=categories)\n",
    "        else:\n",
    "            draw_disag_plot(table, likert_question)\n",
    "    "
   ]
  },
  {
   "cell_type": "markdown",
   "metadata": {},
   "source": [
    "### Add the question_means and correlations"
   ]
  },
  {
   "cell_type": "code",
   "execution_count": 44,
   "metadata": {
    "collapsed": false
   },
   "outputs": [],
   "source": [
    "means = pd.DataFrame(mean_data[mean_columns].mean())\n",
    "means.columns = ['mean']\n",
    "means.to_excel(writer, 'question_means')\n",
    "correlations = pd.DataFrame(mean_data[mean_columns].corr())\n",
    "correlations.to_excel(writer, 'question_correlations')"
   ]
  },
  {
   "cell_type": "code",
   "execution_count": 45,
   "metadata": {
    "collapsed": false
   },
   "outputs": [],
   "source": [
    "writer.save()"
   ]
  }
 ],
 "metadata": {
  "anaconda-cloud": {},
  "kernelspec": {
   "display_name": "Python [default]",
   "language": "python",
   "name": "python2"
  },
  "language_info": {
   "codemirror_mode": {
    "name": "ipython",
    "version": 2
   },
   "file_extension": ".py",
   "mimetype": "text/x-python",
   "name": "python",
   "nbconvert_exporter": "python",
   "pygments_lexer": "ipython2",
   "version": "2.7.12"
  }
 },
 "nbformat": 4,
 "nbformat_minor": 0
}
